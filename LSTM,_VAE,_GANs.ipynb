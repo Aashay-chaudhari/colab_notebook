{
  "nbformat": 4,
  "nbformat_minor": 0,
  "metadata": {
    "colab": {
      "provenance": [],
      "collapsed_sections": [
        "DoaK-M3FM8by"
      ]
    },
    "kernelspec": {
      "name": "python3",
      "display_name": "Python 3"
    },
    "language_info": {
      "name": "python"
    }
  },
  "cells": [
    {
      "cell_type": "markdown",
      "source": [
        "##In this example I am going to implement stock price prediction using LSTM, VAE and GANs to predict a univariate sequence.\n"
      ],
      "metadata": {
        "id": "DTnjg5A141Ru"
      }
    },
    {
      "cell_type": "markdown",
      "source": [
        "##The 2 features on which this will be performed are Close price and Exponential Close Price."
      ],
      "metadata": {
        "id": "68Yan1wp5Cfd"
      }
    },
    {
      "cell_type": "markdown",
      "source": [
        "#RESULTS\n",
        "Feature selected: Close price pct\n",
        "\n",
        "Neural Network : 0.019656648859381676\n",
        "\n",
        "LSTM with attention: 0.019144956022500992\n",
        "\n",
        "Encoder-Decoder with LSTM: 0.01910853013396263\n",
        "\n",
        "Using GANs : 0.019043496045988224"
      ],
      "metadata": {
        "id": "TWIKU9VeMJIt"
      }
    },
    {
      "cell_type": "markdown",
      "source": [
        "###Import libraries and data"
      ],
      "metadata": {
        "id": "Yydyyf365IbY"
      }
    },
    {
      "cell_type": "code",
      "execution_count": null,
      "metadata": {
        "colab": {
          "base_uri": "https://localhost:8080/"
        },
        "id": "Klz9wiBB4wyz",
        "outputId": "5442884f-1c81-47d0-f175-339eaab86bad"
      },
      "outputs": [
        {
          "output_type": "stream",
          "name": "stdout",
          "text": [
            "Looking in indexes: https://pypi.org/simple, https://us-python.pkg.dev/colab-wheels/public/simple/\n",
            "Requirement already satisfied: yfinance in /usr/local/lib/python3.9/dist-packages (0.2.13)\n",
            "Requirement already satisfied: multitasking>=0.0.7 in /usr/local/lib/python3.9/dist-packages (from yfinance) (0.0.11)\n",
            "Requirement already satisfied: requests>=2.26 in /usr/local/lib/python3.9/dist-packages (from yfinance) (2.27.1)\n",
            "Requirement already satisfied: numpy>=1.16.5 in /usr/local/lib/python3.9/dist-packages (from yfinance) (1.22.4)\n",
            "Requirement already satisfied: appdirs>=1.4.4 in /usr/local/lib/python3.9/dist-packages (from yfinance) (1.4.4)\n",
            "Requirement already satisfied: cryptography>=3.3.2 in /usr/local/lib/python3.9/dist-packages (from yfinance) (39.0.2)\n",
            "Requirement already satisfied: html5lib>=1.1 in /usr/local/lib/python3.9/dist-packages (from yfinance) (1.1)\n",
            "Requirement already satisfied: beautifulsoup4>=4.11.1 in /usr/local/lib/python3.9/dist-packages (from yfinance) (4.11.2)\n",
            "Requirement already satisfied: lxml>=4.9.1 in /usr/local/lib/python3.9/dist-packages (from yfinance) (4.9.2)\n",
            "Requirement already satisfied: frozendict>=2.3.4 in /usr/local/lib/python3.9/dist-packages (from yfinance) (2.3.6)\n",
            "Requirement already satisfied: pytz>=2022.5 in /usr/local/lib/python3.9/dist-packages (from yfinance) (2022.7.1)\n",
            "Requirement already satisfied: pandas>=1.3.0 in /usr/local/lib/python3.9/dist-packages (from yfinance) (1.4.4)\n",
            "Requirement already satisfied: soupsieve>1.2 in /usr/local/lib/python3.9/dist-packages (from beautifulsoup4>=4.11.1->yfinance) (2.4)\n",
            "Requirement already satisfied: cffi>=1.12 in /usr/local/lib/python3.9/dist-packages (from cryptography>=3.3.2->yfinance) (1.15.1)\n",
            "Requirement already satisfied: webencodings in /usr/local/lib/python3.9/dist-packages (from html5lib>=1.1->yfinance) (0.5.1)\n",
            "Requirement already satisfied: six>=1.9 in /usr/local/lib/python3.9/dist-packages (from html5lib>=1.1->yfinance) (1.16.0)\n",
            "Requirement already satisfied: python-dateutil>=2.8.1 in /usr/local/lib/python3.9/dist-packages (from pandas>=1.3.0->yfinance) (2.8.2)\n",
            "Requirement already satisfied: idna<4,>=2.5 in /usr/local/lib/python3.9/dist-packages (from requests>=2.26->yfinance) (3.4)\n",
            "Requirement already satisfied: certifi>=2017.4.17 in /usr/local/lib/python3.9/dist-packages (from requests>=2.26->yfinance) (2022.12.7)\n",
            "Requirement already satisfied: urllib3<1.27,>=1.21.1 in /usr/local/lib/python3.9/dist-packages (from requests>=2.26->yfinance) (1.26.15)\n",
            "Requirement already satisfied: charset-normalizer~=2.0.0 in /usr/local/lib/python3.9/dist-packages (from requests>=2.26->yfinance) (2.0.12)\n",
            "Requirement already satisfied: pycparser in /usr/local/lib/python3.9/dist-packages (from cffi>=1.12->cryptography>=3.3.2->yfinance) (2.21)\n"
          ]
        }
      ],
      "source": [
        "pip install yfinance"
      ]
    },
    {
      "cell_type": "code",
      "source": [
        "pip install pandas_ta"
      ],
      "metadata": {
        "colab": {
          "base_uri": "https://localhost:8080/"
        },
        "id": "Snq5TNN95Vs9",
        "outputId": "16990263-a3da-4c5b-fbaf-a423d3ba15fa"
      },
      "execution_count": null,
      "outputs": [
        {
          "output_type": "stream",
          "name": "stdout",
          "text": [
            "Looking in indexes: https://pypi.org/simple, https://us-python.pkg.dev/colab-wheels/public/simple/\n",
            "Collecting pandas_ta\n",
            "  Downloading pandas_ta-0.3.14b.tar.gz (115 kB)\n",
            "\u001b[2K     \u001b[90m━━━━━━━━━━━━━━━━━━━━━━━━━━━━━━━━━━━━━━━\u001b[0m \u001b[32m115.1/115.1 KB\u001b[0m \u001b[31m2.5 MB/s\u001b[0m eta \u001b[36m0:00:00\u001b[0m\n",
            "\u001b[?25h  Preparing metadata (setup.py) ... \u001b[?25l\u001b[?25hdone\n",
            "Requirement already satisfied: pandas in /usr/local/lib/python3.9/dist-packages (from pandas_ta) (1.4.4)\n",
            "Requirement already satisfied: pytz>=2020.1 in /usr/local/lib/python3.9/dist-packages (from pandas->pandas_ta) (2022.7.1)\n",
            "Requirement already satisfied: python-dateutil>=2.8.1 in /usr/local/lib/python3.9/dist-packages (from pandas->pandas_ta) (2.8.2)\n",
            "Requirement already satisfied: numpy>=1.18.5 in /usr/local/lib/python3.9/dist-packages (from pandas->pandas_ta) (1.22.4)\n",
            "Requirement already satisfied: six>=1.5 in /usr/local/lib/python3.9/dist-packages (from python-dateutil>=2.8.1->pandas->pandas_ta) (1.16.0)\n",
            "Building wheels for collected packages: pandas_ta\n",
            "  Building wheel for pandas_ta (setup.py) ... \u001b[?25l\u001b[?25hdone\n",
            "  Created wheel for pandas_ta: filename=pandas_ta-0.3.14b0-py3-none-any.whl size=218921 sha256=20b52bd8324cc0f55cf29962ecfa9bfb55c45fab647676025d1e6896753ff03b\n",
            "  Stored in directory: /root/.cache/pip/wheels/1e/5c/47/759b32beb377aee150eb4c1f1b2b7635032cc19ea09ce076fd\n",
            "Successfully built pandas_ta\n",
            "Installing collected packages: pandas_ta\n",
            "Successfully installed pandas_ta-0.3.14b0\n"
          ]
        }
      ]
    },
    {
      "cell_type": "code",
      "source": [
        "import numpy as np\n",
        "import pandas as pd\n",
        "from sklearn.model_selection import train_test_split\n",
        "import yfinance as yf\n",
        "yf.pdr_override()\n",
        "from pandas_datareader import data as pdr\n",
        "import pandas_ta as pta\n",
        "import matplotlib.pyplot as plt\n"
      ],
      "metadata": {
        "id": "ll4_LQCY5V-a"
      },
      "execution_count": null,
      "outputs": []
    },
    {
      "cell_type": "code",
      "source": [
        "df = pdr.get_data_yahoo(\"IBM\", start=\"1950-02-01\", end=\"2022-07-13\")"
      ],
      "metadata": {
        "colab": {
          "base_uri": "https://localhost:8080/"
        },
        "id": "LTfdY3H95fuE",
        "outputId": "df6d2ab4-f905-4c26-a4e0-d90f11ac231b"
      },
      "execution_count": null,
      "outputs": [
        {
          "output_type": "stream",
          "name": "stdout",
          "text": [
            "\r[*********************100%***********************]  1 of 1 completed\n"
          ]
        }
      ]
    },
    {
      "cell_type": "code",
      "source": [
        "df.head(5), df.shape"
      ],
      "metadata": {
        "colab": {
          "base_uri": "https://localhost:8080/"
        },
        "id": "jJs3CCDw5iII",
        "outputId": "52c4db11-ef55-4529-ddb0-934dfa0573d1"
      },
      "execution_count": null,
      "outputs": [
        {
          "output_type": "execute_result",
          "data": {
            "text/plain": [
              "(                Open      High       Low     Close  Adj Close  Volume\n",
              " Date                                                                 \n",
              " 1962-01-02  7.374124  7.374124  7.291268  7.291268   1.613218  407940\n",
              " 1962-01-03  7.291268  7.355003  7.291268  7.355003   1.627320  305955\n",
              " 1962-01-04  7.355003  7.355003  7.278521  7.281708   1.611102  274575\n",
              " 1962-01-05  7.272148  7.272148  7.125558  7.138305   1.579375  384405\n",
              " 1962-01-08  7.131931  7.131931  6.947100  7.004461   1.549761  572685,\n",
              " (15236, 6))"
            ]
          },
          "metadata": {},
          "execution_count": 9
        }
      ]
    },
    {
      "cell_type": "code",
      "source": [
        "df['EWMA'] = df['Close'].ewm(span=5).mean()\n",
        "df['EWMA_pct'] = df['EWMA'].pct_change()*100\n",
        "df['Close_pct'] = df['Close'].pct_change()*100"
      ],
      "metadata": {
        "id": "N7oAbMUc5i2O"
      },
      "execution_count": null,
      "outputs": []
    },
    {
      "cell_type": "code",
      "source": [
        "df.head()"
      ],
      "metadata": {
        "colab": {
          "base_uri": "https://localhost:8080/",
          "height": 237
        },
        "id": "6y0fK4QF5z42",
        "outputId": "9218eedf-efad-4cdf-8a2d-4e06c2658e31"
      },
      "execution_count": null,
      "outputs": [
        {
          "output_type": "execute_result",
          "data": {
            "text/plain": [
              "                Open      High       Low     Close  Adj Close  Volume  \\\n",
              "Date                                                                    \n",
              "1962-01-02  7.374124  7.374124  7.291268  7.291268   1.613218  407940   \n",
              "1962-01-03  7.291268  7.355003  7.291268  7.355003   1.627320  305955   \n",
              "1962-01-04  7.355003  7.355003  7.278521  7.281708   1.611102  274575   \n",
              "1962-01-05  7.272148  7.272148  7.125558  7.138305   1.579375  384405   \n",
              "1962-01-08  7.131931  7.131931  6.947100  7.004461   1.549761  572685   \n",
              "\n",
              "                EWMA  EWMA_pct  Close_pct  \n",
              "Date                                       \n",
              "1962-01-02  7.291268       NaN        NaN  \n",
              "1962-01-03  7.329509  0.524477   0.874128  \n",
              "1962-01-04  7.306866 -0.308924  -0.996534  \n",
              "1962-01-05  7.236849 -0.958245  -1.969354  \n",
              "1962-01-08  7.147638 -1.232725  -1.875016  "
            ],
            "text/html": [
              "\n",
              "  <div id=\"df-385acfa6-284e-4ade-868c-fb343c51b257\">\n",
              "    <div class=\"colab-df-container\">\n",
              "      <div>\n",
              "<style scoped>\n",
              "    .dataframe tbody tr th:only-of-type {\n",
              "        vertical-align: middle;\n",
              "    }\n",
              "\n",
              "    .dataframe tbody tr th {\n",
              "        vertical-align: top;\n",
              "    }\n",
              "\n",
              "    .dataframe thead th {\n",
              "        text-align: right;\n",
              "    }\n",
              "</style>\n",
              "<table border=\"1\" class=\"dataframe\">\n",
              "  <thead>\n",
              "    <tr style=\"text-align: right;\">\n",
              "      <th></th>\n",
              "      <th>Open</th>\n",
              "      <th>High</th>\n",
              "      <th>Low</th>\n",
              "      <th>Close</th>\n",
              "      <th>Adj Close</th>\n",
              "      <th>Volume</th>\n",
              "      <th>EWMA</th>\n",
              "      <th>EWMA_pct</th>\n",
              "      <th>Close_pct</th>\n",
              "    </tr>\n",
              "    <tr>\n",
              "      <th>Date</th>\n",
              "      <th></th>\n",
              "      <th></th>\n",
              "      <th></th>\n",
              "      <th></th>\n",
              "      <th></th>\n",
              "      <th></th>\n",
              "      <th></th>\n",
              "      <th></th>\n",
              "      <th></th>\n",
              "    </tr>\n",
              "  </thead>\n",
              "  <tbody>\n",
              "    <tr>\n",
              "      <th>1962-01-02</th>\n",
              "      <td>7.374124</td>\n",
              "      <td>7.374124</td>\n",
              "      <td>7.291268</td>\n",
              "      <td>7.291268</td>\n",
              "      <td>1.613218</td>\n",
              "      <td>407940</td>\n",
              "      <td>7.291268</td>\n",
              "      <td>NaN</td>\n",
              "      <td>NaN</td>\n",
              "    </tr>\n",
              "    <tr>\n",
              "      <th>1962-01-03</th>\n",
              "      <td>7.291268</td>\n",
              "      <td>7.355003</td>\n",
              "      <td>7.291268</td>\n",
              "      <td>7.355003</td>\n",
              "      <td>1.627320</td>\n",
              "      <td>305955</td>\n",
              "      <td>7.329509</td>\n",
              "      <td>0.524477</td>\n",
              "      <td>0.874128</td>\n",
              "    </tr>\n",
              "    <tr>\n",
              "      <th>1962-01-04</th>\n",
              "      <td>7.355003</td>\n",
              "      <td>7.355003</td>\n",
              "      <td>7.278521</td>\n",
              "      <td>7.281708</td>\n",
              "      <td>1.611102</td>\n",
              "      <td>274575</td>\n",
              "      <td>7.306866</td>\n",
              "      <td>-0.308924</td>\n",
              "      <td>-0.996534</td>\n",
              "    </tr>\n",
              "    <tr>\n",
              "      <th>1962-01-05</th>\n",
              "      <td>7.272148</td>\n",
              "      <td>7.272148</td>\n",
              "      <td>7.125558</td>\n",
              "      <td>7.138305</td>\n",
              "      <td>1.579375</td>\n",
              "      <td>384405</td>\n",
              "      <td>7.236849</td>\n",
              "      <td>-0.958245</td>\n",
              "      <td>-1.969354</td>\n",
              "    </tr>\n",
              "    <tr>\n",
              "      <th>1962-01-08</th>\n",
              "      <td>7.131931</td>\n",
              "      <td>7.131931</td>\n",
              "      <td>6.947100</td>\n",
              "      <td>7.004461</td>\n",
              "      <td>1.549761</td>\n",
              "      <td>572685</td>\n",
              "      <td>7.147638</td>\n",
              "      <td>-1.232725</td>\n",
              "      <td>-1.875016</td>\n",
              "    </tr>\n",
              "  </tbody>\n",
              "</table>\n",
              "</div>\n",
              "      <button class=\"colab-df-convert\" onclick=\"convertToInteractive('df-385acfa6-284e-4ade-868c-fb343c51b257')\"\n",
              "              title=\"Convert this dataframe to an interactive table.\"\n",
              "              style=\"display:none;\">\n",
              "        \n",
              "  <svg xmlns=\"http://www.w3.org/2000/svg\" height=\"24px\"viewBox=\"0 0 24 24\"\n",
              "       width=\"24px\">\n",
              "    <path d=\"M0 0h24v24H0V0z\" fill=\"none\"/>\n",
              "    <path d=\"M18.56 5.44l.94 2.06.94-2.06 2.06-.94-2.06-.94-.94-2.06-.94 2.06-2.06.94zm-11 1L8.5 8.5l.94-2.06 2.06-.94-2.06-.94L8.5 2.5l-.94 2.06-2.06.94zm10 10l.94 2.06.94-2.06 2.06-.94-2.06-.94-.94-2.06-.94 2.06-2.06.94z\"/><path d=\"M17.41 7.96l-1.37-1.37c-.4-.4-.92-.59-1.43-.59-.52 0-1.04.2-1.43.59L10.3 9.45l-7.72 7.72c-.78.78-.78 2.05 0 2.83L4 21.41c.39.39.9.59 1.41.59.51 0 1.02-.2 1.41-.59l7.78-7.78 2.81-2.81c.8-.78.8-2.07 0-2.86zM5.41 20L4 18.59l7.72-7.72 1.47 1.35L5.41 20z\"/>\n",
              "  </svg>\n",
              "      </button>\n",
              "      \n",
              "  <style>\n",
              "    .colab-df-container {\n",
              "      display:flex;\n",
              "      flex-wrap:wrap;\n",
              "      gap: 12px;\n",
              "    }\n",
              "\n",
              "    .colab-df-convert {\n",
              "      background-color: #E8F0FE;\n",
              "      border: none;\n",
              "      border-radius: 50%;\n",
              "      cursor: pointer;\n",
              "      display: none;\n",
              "      fill: #1967D2;\n",
              "      height: 32px;\n",
              "      padding: 0 0 0 0;\n",
              "      width: 32px;\n",
              "    }\n",
              "\n",
              "    .colab-df-convert:hover {\n",
              "      background-color: #E2EBFA;\n",
              "      box-shadow: 0px 1px 2px rgba(60, 64, 67, 0.3), 0px 1px 3px 1px rgba(60, 64, 67, 0.15);\n",
              "      fill: #174EA6;\n",
              "    }\n",
              "\n",
              "    [theme=dark] .colab-df-convert {\n",
              "      background-color: #3B4455;\n",
              "      fill: #D2E3FC;\n",
              "    }\n",
              "\n",
              "    [theme=dark] .colab-df-convert:hover {\n",
              "      background-color: #434B5C;\n",
              "      box-shadow: 0px 1px 3px 1px rgba(0, 0, 0, 0.15);\n",
              "      filter: drop-shadow(0px 1px 2px rgba(0, 0, 0, 0.3));\n",
              "      fill: #FFFFFF;\n",
              "    }\n",
              "  </style>\n",
              "\n",
              "      <script>\n",
              "        const buttonEl =\n",
              "          document.querySelector('#df-385acfa6-284e-4ade-868c-fb343c51b257 button.colab-df-convert');\n",
              "        buttonEl.style.display =\n",
              "          google.colab.kernel.accessAllowed ? 'block' : 'none';\n",
              "\n",
              "        async function convertToInteractive(key) {\n",
              "          const element = document.querySelector('#df-385acfa6-284e-4ade-868c-fb343c51b257');\n",
              "          const dataTable =\n",
              "            await google.colab.kernel.invokeFunction('convertToInteractive',\n",
              "                                                     [key], {});\n",
              "          if (!dataTable) return;\n",
              "\n",
              "          const docLinkHtml = 'Like what you see? Visit the ' +\n",
              "            '<a target=\"_blank\" href=https://colab.research.google.com/notebooks/data_table.ipynb>data table notebook</a>'\n",
              "            + ' to learn more about interactive tables.';\n",
              "          element.innerHTML = '';\n",
              "          dataTable['output_type'] = 'display_data';\n",
              "          await google.colab.output.renderOutput(dataTable, element);\n",
              "          const docLink = document.createElement('div');\n",
              "          docLink.innerHTML = docLinkHtml;\n",
              "          element.appendChild(docLink);\n",
              "        }\n",
              "      </script>\n",
              "    </div>\n",
              "  </div>\n",
              "  "
            ]
          },
          "metadata": {},
          "execution_count": 11
        }
      ]
    },
    {
      "cell_type": "code",
      "source": [
        "buffer_df = df[1:]\n",
        "df = buffer_df\n",
        "df.head()"
      ],
      "metadata": {
        "colab": {
          "base_uri": "https://localhost:8080/",
          "height": 237
        },
        "id": "vZEQcdviDazt",
        "outputId": "f23763ba-64e1-467b-97a0-8d656124b8bc"
      },
      "execution_count": null,
      "outputs": [
        {
          "output_type": "execute_result",
          "data": {
            "text/plain": [
              "                Open      High       Low     Close  Adj Close  Volume  \\\n",
              "Date                                                                    \n",
              "1962-01-03  7.291268  7.355003  7.291268  7.355003   1.627320  305955   \n",
              "1962-01-04  7.355003  7.355003  7.278521  7.281708   1.611102  274575   \n",
              "1962-01-05  7.272148  7.272148  7.125558  7.138305   1.579375  384405   \n",
              "1962-01-08  7.131931  7.131931  6.947100  7.004461   1.549761  572685   \n",
              "1962-01-09  7.036329  7.176546  7.036329  7.087317   1.568093  517770   \n",
              "\n",
              "                EWMA  EWMA_pct  Close_pct  \n",
              "Date                                       \n",
              "1962-01-03  7.329509  0.524477   0.874128  \n",
              "1962-01-04  7.306866 -0.308924  -0.996534  \n",
              "1962-01-05  7.236849 -0.958245  -1.969354  \n",
              "1962-01-08  7.147638 -1.232725  -1.875016  \n",
              "1962-01-09  7.125596 -0.308384   1.182906  "
            ],
            "text/html": [
              "\n",
              "  <div id=\"df-0e641545-40fa-40b9-8d10-81f8f6866bbf\">\n",
              "    <div class=\"colab-df-container\">\n",
              "      <div>\n",
              "<style scoped>\n",
              "    .dataframe tbody tr th:only-of-type {\n",
              "        vertical-align: middle;\n",
              "    }\n",
              "\n",
              "    .dataframe tbody tr th {\n",
              "        vertical-align: top;\n",
              "    }\n",
              "\n",
              "    .dataframe thead th {\n",
              "        text-align: right;\n",
              "    }\n",
              "</style>\n",
              "<table border=\"1\" class=\"dataframe\">\n",
              "  <thead>\n",
              "    <tr style=\"text-align: right;\">\n",
              "      <th></th>\n",
              "      <th>Open</th>\n",
              "      <th>High</th>\n",
              "      <th>Low</th>\n",
              "      <th>Close</th>\n",
              "      <th>Adj Close</th>\n",
              "      <th>Volume</th>\n",
              "      <th>EWMA</th>\n",
              "      <th>EWMA_pct</th>\n",
              "      <th>Close_pct</th>\n",
              "    </tr>\n",
              "    <tr>\n",
              "      <th>Date</th>\n",
              "      <th></th>\n",
              "      <th></th>\n",
              "      <th></th>\n",
              "      <th></th>\n",
              "      <th></th>\n",
              "      <th></th>\n",
              "      <th></th>\n",
              "      <th></th>\n",
              "      <th></th>\n",
              "    </tr>\n",
              "  </thead>\n",
              "  <tbody>\n",
              "    <tr>\n",
              "      <th>1962-01-03</th>\n",
              "      <td>7.291268</td>\n",
              "      <td>7.355003</td>\n",
              "      <td>7.291268</td>\n",
              "      <td>7.355003</td>\n",
              "      <td>1.627320</td>\n",
              "      <td>305955</td>\n",
              "      <td>7.329509</td>\n",
              "      <td>0.524477</td>\n",
              "      <td>0.874128</td>\n",
              "    </tr>\n",
              "    <tr>\n",
              "      <th>1962-01-04</th>\n",
              "      <td>7.355003</td>\n",
              "      <td>7.355003</td>\n",
              "      <td>7.278521</td>\n",
              "      <td>7.281708</td>\n",
              "      <td>1.611102</td>\n",
              "      <td>274575</td>\n",
              "      <td>7.306866</td>\n",
              "      <td>-0.308924</td>\n",
              "      <td>-0.996534</td>\n",
              "    </tr>\n",
              "    <tr>\n",
              "      <th>1962-01-05</th>\n",
              "      <td>7.272148</td>\n",
              "      <td>7.272148</td>\n",
              "      <td>7.125558</td>\n",
              "      <td>7.138305</td>\n",
              "      <td>1.579375</td>\n",
              "      <td>384405</td>\n",
              "      <td>7.236849</td>\n",
              "      <td>-0.958245</td>\n",
              "      <td>-1.969354</td>\n",
              "    </tr>\n",
              "    <tr>\n",
              "      <th>1962-01-08</th>\n",
              "      <td>7.131931</td>\n",
              "      <td>7.131931</td>\n",
              "      <td>6.947100</td>\n",
              "      <td>7.004461</td>\n",
              "      <td>1.549761</td>\n",
              "      <td>572685</td>\n",
              "      <td>7.147638</td>\n",
              "      <td>-1.232725</td>\n",
              "      <td>-1.875016</td>\n",
              "    </tr>\n",
              "    <tr>\n",
              "      <th>1962-01-09</th>\n",
              "      <td>7.036329</td>\n",
              "      <td>7.176546</td>\n",
              "      <td>7.036329</td>\n",
              "      <td>7.087317</td>\n",
              "      <td>1.568093</td>\n",
              "      <td>517770</td>\n",
              "      <td>7.125596</td>\n",
              "      <td>-0.308384</td>\n",
              "      <td>1.182906</td>\n",
              "    </tr>\n",
              "  </tbody>\n",
              "</table>\n",
              "</div>\n",
              "      <button class=\"colab-df-convert\" onclick=\"convertToInteractive('df-0e641545-40fa-40b9-8d10-81f8f6866bbf')\"\n",
              "              title=\"Convert this dataframe to an interactive table.\"\n",
              "              style=\"display:none;\">\n",
              "        \n",
              "  <svg xmlns=\"http://www.w3.org/2000/svg\" height=\"24px\"viewBox=\"0 0 24 24\"\n",
              "       width=\"24px\">\n",
              "    <path d=\"M0 0h24v24H0V0z\" fill=\"none\"/>\n",
              "    <path d=\"M18.56 5.44l.94 2.06.94-2.06 2.06-.94-2.06-.94-.94-2.06-.94 2.06-2.06.94zm-11 1L8.5 8.5l.94-2.06 2.06-.94-2.06-.94L8.5 2.5l-.94 2.06-2.06.94zm10 10l.94 2.06.94-2.06 2.06-.94-2.06-.94-.94-2.06-.94 2.06-2.06.94z\"/><path d=\"M17.41 7.96l-1.37-1.37c-.4-.4-.92-.59-1.43-.59-.52 0-1.04.2-1.43.59L10.3 9.45l-7.72 7.72c-.78.78-.78 2.05 0 2.83L4 21.41c.39.39.9.59 1.41.59.51 0 1.02-.2 1.41-.59l7.78-7.78 2.81-2.81c.8-.78.8-2.07 0-2.86zM5.41 20L4 18.59l7.72-7.72 1.47 1.35L5.41 20z\"/>\n",
              "  </svg>\n",
              "      </button>\n",
              "      \n",
              "  <style>\n",
              "    .colab-df-container {\n",
              "      display:flex;\n",
              "      flex-wrap:wrap;\n",
              "      gap: 12px;\n",
              "    }\n",
              "\n",
              "    .colab-df-convert {\n",
              "      background-color: #E8F0FE;\n",
              "      border: none;\n",
              "      border-radius: 50%;\n",
              "      cursor: pointer;\n",
              "      display: none;\n",
              "      fill: #1967D2;\n",
              "      height: 32px;\n",
              "      padding: 0 0 0 0;\n",
              "      width: 32px;\n",
              "    }\n",
              "\n",
              "    .colab-df-convert:hover {\n",
              "      background-color: #E2EBFA;\n",
              "      box-shadow: 0px 1px 2px rgba(60, 64, 67, 0.3), 0px 1px 3px 1px rgba(60, 64, 67, 0.15);\n",
              "      fill: #174EA6;\n",
              "    }\n",
              "\n",
              "    [theme=dark] .colab-df-convert {\n",
              "      background-color: #3B4455;\n",
              "      fill: #D2E3FC;\n",
              "    }\n",
              "\n",
              "    [theme=dark] .colab-df-convert:hover {\n",
              "      background-color: #434B5C;\n",
              "      box-shadow: 0px 1px 3px 1px rgba(0, 0, 0, 0.15);\n",
              "      filter: drop-shadow(0px 1px 2px rgba(0, 0, 0, 0.3));\n",
              "      fill: #FFFFFF;\n",
              "    }\n",
              "  </style>\n",
              "\n",
              "      <script>\n",
              "        const buttonEl =\n",
              "          document.querySelector('#df-0e641545-40fa-40b9-8d10-81f8f6866bbf button.colab-df-convert');\n",
              "        buttonEl.style.display =\n",
              "          google.colab.kernel.accessAllowed ? 'block' : 'none';\n",
              "\n",
              "        async function convertToInteractive(key) {\n",
              "          const element = document.querySelector('#df-0e641545-40fa-40b9-8d10-81f8f6866bbf');\n",
              "          const dataTable =\n",
              "            await google.colab.kernel.invokeFunction('convertToInteractive',\n",
              "                                                     [key], {});\n",
              "          if (!dataTable) return;\n",
              "\n",
              "          const docLinkHtml = 'Like what you see? Visit the ' +\n",
              "            '<a target=\"_blank\" href=https://colab.research.google.com/notebooks/data_table.ipynb>data table notebook</a>'\n",
              "            + ' to learn more about interactive tables.';\n",
              "          element.innerHTML = '';\n",
              "          dataTable['output_type'] = 'display_data';\n",
              "          await google.colab.output.renderOutput(dataTable, element);\n",
              "          const docLink = document.createElement('div');\n",
              "          docLink.innerHTML = docLinkHtml;\n",
              "          element.appendChild(docLink);\n",
              "        }\n",
              "      </script>\n",
              "    </div>\n",
              "  </div>\n",
              "  "
            ]
          },
          "metadata": {},
          "execution_count": 12
        }
      ]
    },
    {
      "cell_type": "code",
      "source": [
        "fig, axs = plt.subplots(2)\n",
        "axs[0].plot(df['Close_pct'])\n",
        "axs[1].plot(df['EWMA_pct'])"
      ],
      "metadata": {
        "colab": {
          "base_uri": "https://localhost:8080/",
          "height": 283
        },
        "id": "tjNpZB-36WNI",
        "outputId": "27ed9125-02f1-4095-a1ef-8886eef169f9"
      },
      "execution_count": null,
      "outputs": [
        {
          "output_type": "execute_result",
          "data": {
            "text/plain": [
              "[<matplotlib.lines.Line2D at 0x7fe005bfc7c0>]"
            ]
          },
          "metadata": {},
          "execution_count": 13
        },
        {
          "output_type": "display_data",
          "data": {
            "text/plain": [
              "<Figure size 432x288 with 2 Axes>"
            ],
            "image/png": "[encoded data removed]"
          },
          "metadata": {
            "needs_background": "light"
          }
        }
      ]
    },
    {
      "cell_type": "markdown",
      "source": [
        "### Clip the outliers, take only +5 and -5 as boundary for data"
      ],
      "metadata": {
        "id": "jHxpcSOT60f6"
      }
    },
    {
      "cell_type": "code",
      "source": [
        "df['Close_pct'] = np.where(df['Close_pct']>5, 5, df['Close_pct'])\n",
        "df['EWMA_pct'] = np.where(df['EWMA_pct']>5, 5, df['EWMA_pct'])\n",
        "df['Close_pct'] = np.where(df['Close_pct']<-5, -5, df['Close_pct'])\n",
        "df['EWMA_pct'] = np.where(df['EWMA_pct']<-5, -5, df['EWMA_pct'])"
      ],
      "metadata": {
        "colab": {
          "base_uri": "https://localhost:8080/"
        },
        "id": "0malVRi660Wm",
        "outputId": "0d4e1c4f-5584-4501-8956-c099814ac7c5"
      },
      "execution_count": null,
      "outputs": [
        {
          "output_type": "stream",
          "name": "stderr",
          "text": [
            "<ipython-input-14-ffcc2d47b757>:1: SettingWithCopyWarning: \n",
            "A value is trying to be set on a copy of a slice from a DataFrame.\n",
            "Try using .loc[row_indexer,col_indexer] = value instead\n",
            "\n",
            "See the caveats in the documentation: https://pandas.pydata.org/pandas-docs/stable/user_guide/indexing.html#returning-a-view-versus-a-copy\n",
            "  df['Close_pct'] = np.where(df['Close_pct']>5, 5, df['Close_pct'])\n",
            "<ipython-input-14-ffcc2d47b757>:2: SettingWithCopyWarning: \n",
            "A value is trying to be set on a copy of a slice from a DataFrame.\n",
            "Try using .loc[row_indexer,col_indexer] = value instead\n",
            "\n",
            "See the caveats in the documentation: https://pandas.pydata.org/pandas-docs/stable/user_guide/indexing.html#returning-a-view-versus-a-copy\n",
            "  df['EWMA_pct'] = np.where(df['EWMA_pct']>5, 5, df['EWMA_pct'])\n",
            "<ipython-input-14-ffcc2d47b757>:3: SettingWithCopyWarning: \n",
            "A value is trying to be set on a copy of a slice from a DataFrame.\n",
            "Try using .loc[row_indexer,col_indexer] = value instead\n",
            "\n",
            "See the caveats in the documentation: https://pandas.pydata.org/pandas-docs/stable/user_guide/indexing.html#returning-a-view-versus-a-copy\n",
            "  df['Close_pct'] = np.where(df['Close_pct']<-5, -5, df['Close_pct'])\n",
            "<ipython-input-14-ffcc2d47b757>:4: SettingWithCopyWarning: \n",
            "A value is trying to be set on a copy of a slice from a DataFrame.\n",
            "Try using .loc[row_indexer,col_indexer] = value instead\n",
            "\n",
            "See the caveats in the documentation: https://pandas.pydata.org/pandas-docs/stable/user_guide/indexing.html#returning-a-view-versus-a-copy\n",
            "  df['EWMA_pct'] = np.where(df['EWMA_pct']<-5, -5, df['EWMA_pct'])\n"
          ]
        }
      ]
    },
    {
      "cell_type": "code",
      "source": [
        "fig, axs = plt.subplots(2)\n",
        "axs[0].plot(df['Close_pct'])\n",
        "axs[1].plot(df['EWMA_pct'])"
      ],
      "metadata": {
        "colab": {
          "base_uri": "https://localhost:8080/",
          "height": 283
        },
        "id": "D-LZlNsY6z6C",
        "outputId": "08d4d7dc-93f2-4acf-c758-24d132a8f7b0"
      },
      "execution_count": null,
      "outputs": [
        {
          "output_type": "execute_result",
          "data": {
            "text/plain": [
              "[<matplotlib.lines.Line2D at 0x7fe005a57f40>]"
            ]
          },
          "metadata": {},
          "execution_count": 15
        },
        {
          "output_type": "display_data",
          "data": {
            "text/plain": [
              "<Figure size 432x288 with 2 Axes>"
            ],
            "image/png": "[encoded data removed]"
          },
          "metadata": {
            "needs_background": "light"
          }
        }
      ]
    },
    {
      "cell_type": "code",
      "source": [
        "x_close_pct = np.array(df['Close_pct'])\n",
        "x_ema_pct = np.array(df['EWMA_pct'])\n",
        "\n",
        "x_close_pct.shape, x_ema_pct.shape"
      ],
      "metadata": {
        "colab": {
          "base_uri": "https://localhost:8080/"
        },
        "id": "Cuh5iQi250UE",
        "outputId": "4617238d-a3dc-4082-a49e-c1aae5305c72"
      },
      "execution_count": null,
      "outputs": [
        {
          "output_type": "execute_result",
          "data": {
            "text/plain": [
              "((15235,), (15235,))"
            ]
          },
          "metadata": {},
          "execution_count": 16
        }
      ]
    },
    {
      "cell_type": "markdown",
      "source": [
        "###Create input sequence and expected output sequence"
      ],
      "metadata": {
        "id": "IgIERGmr7jwv"
      }
    },
    {
      "cell_type": "code",
      "source": [
        "import math\n",
        "from sklearn.preprocessing import MinMaxScaler\n",
        "#Split the data\n",
        "\n",
        "training_data_len = math.ceil( x_close_pct.shape[0] *.8)\n",
        "x_close_pct_train = np.reshape(x_close_pct[:training_data_len], (-1,1))\n",
        "x_close_pct_test = np.reshape(x_close_pct[training_data_len:], (-1,1))\n",
        "x_ema_pct_train = np.reshape(x_ema_pct[:training_data_len], (-1,1))\n",
        "x_ema_pct_test = np.reshape(x_ema_pct[training_data_len:], (-1,1))\n",
        "\n",
        "#Scale the data\n",
        "scaler_close = MinMaxScaler()\n",
        "scaler_ema = MinMaxScaler()\n",
        "scaler_close = scaler_close.fit(x_close_pct_train)\n",
        "scaler_ema = scaler_ema.fit(x_ema_pct_train)\n",
        "x_close_pct_training_scaled = scaler_close.transform(x_close_pct_train)\n",
        "x_close_pct_testing_scaled = scaler_close.transform(x_close_pct_test)\n",
        "x_ema_pct_training_scaled = scaler_ema.transform(x_ema_pct_train)\n",
        "x_ema_pct_testing_scaled = scaler_ema.transform(x_ema_pct_test)"
      ],
      "metadata": {
        "id": "ZHYdNbSS7S8p"
      },
      "execution_count": null,
      "outputs": []
    },
    {
      "cell_type": "code",
      "source": [
        "fig, axs = plt.subplots(2)\n",
        "axs[0].plot(x_close_pct_training_scaled)\n",
        "axs[1].plot(x_close_pct_testing_scaled)"
      ],
      "metadata": {
        "colab": {
          "base_uri": "https://localhost:8080/",
          "height": 283
        },
        "id": "rd-OsmqhAzZz",
        "outputId": "9c09a0e2-8bd0-49d2-d0e7-01f961a0740d"
      },
      "execution_count": null,
      "outputs": [
        {
          "output_type": "execute_result",
          "data": {
            "text/plain": [
              "[<matplotlib.lines.Line2D at 0x7fe0057de880>]"
            ]
          },
          "metadata": {},
          "execution_count": 19
        },
        {
          "output_type": "display_data",
          "data": {
            "text/plain": [
              "<Figure size 432x288 with 2 Axes>"
            ],
            "image/png": "[encoded data removed]"
          },
          "metadata": {
            "needs_background": "light"
          }
        }
      ]
    },
    {
      "cell_type": "code",
      "source": [
        "x_close_pct_training_scaled.shape, x_ema_pct_training_scaled.shape, x_ema_pct_testing_scaled.shape, x_close_pct_testing_scaled.shape"
      ],
      "metadata": {
        "colab": {
          "base_uri": "https://localhost:8080/"
        },
        "id": "xrpmQixu9gnP",
        "outputId": "36876233-517d-401d-d5fa-ae90d285b897"
      },
      "execution_count": null,
      "outputs": [
        {
          "output_type": "execute_result",
          "data": {
            "text/plain": [
              "((12188, 1), (12188, 1), (3047, 1), (3047, 1))"
            ]
          },
          "metadata": {},
          "execution_count": 20
        }
      ]
    },
    {
      "cell_type": "code",
      "source": [
        "#Create training data\n",
        "\n",
        "x_train = []\n",
        "y_train = []\n",
        "\n",
        "training_base_feature = x_close_pct_training_scaled\n",
        "testing_base_feature = x_close_pct_testing_scaled\n",
        "scaler = scaler_close\n",
        "\n",
        "training_data_size = training_base_feature.shape[0]\n",
        "in_seq_len = 50\n",
        "out_seq_len = 5\n",
        "\n",
        "for i in range(50, training_data_size - out_seq_len):\n",
        "  x_train.append(training_base_feature[i-in_seq_len:i])\n",
        "  y_train.append(training_base_feature[i:i+out_seq_len])\n",
        "\n",
        "x_train = np.array(x_train)\n",
        "y_train = np.array(y_train)\n",
        "\n",
        "print(x_train.shape, y_train.shape)"
      ],
      "metadata": {
        "colab": {
          "base_uri": "https://localhost:8080/"
        },
        "id": "7HdI0C8G-DC3",
        "outputId": "491407a1-1efc-49c3-d730-b3dcdc2d9bce"
      },
      "execution_count": null,
      "outputs": [
        {
          "output_type": "stream",
          "name": "stdout",
          "text": [
            "(12133, 50, 1) (12133, 5, 1)\n"
          ]
        }
      ]
    },
    {
      "cell_type": "code",
      "source": [
        "#Create testing data\n",
        "\n",
        "x_test = []\n",
        "y_test = []\n",
        "\n",
        "training_data_size = testing_base_feature.shape[0]\n",
        "in_seq_len = 50\n",
        "out_seq_len = 5\n",
        "\n",
        "for i in range(50, training_data_size - out_seq_len):\n",
        "  x_test.append(testing_base_feature[i-in_seq_len:i])\n",
        "  y_test.append(testing_base_feature[i:i+out_seq_len])\n",
        "\n",
        "x_test = np.array(x_test)\n",
        "y_test = np.array(y_test)\n",
        "\n",
        "print(x_test.shape, y_test.shape)"
      ],
      "metadata": {
        "colab": {
          "base_uri": "https://localhost:8080/"
        },
        "id": "y83sOTkE_C5U",
        "outputId": "8ff319a9-8ad7-4195-fae8-ee2b3d030d25"
      },
      "execution_count": null,
      "outputs": [
        {
          "output_type": "stream",
          "name": "stdout",
          "text": [
            "(2992, 50, 1) (2992, 5, 1)\n"
          ]
        }
      ]
    },
    {
      "cell_type": "code",
      "source": [
        "print(x_train.shape, y_train.shape)"
      ],
      "metadata": {
        "colab": {
          "base_uri": "https://localhost:8080/"
        },
        "id": "1qWtYHJ0C20M",
        "outputId": "da5df60c-5ca9-4166-bfed-7751b3bbb8e9"
      },
      "execution_count": null,
      "outputs": [
        {
          "output_type": "stream",
          "name": "stdout",
          "text": [
            "(12133, 50, 1) (12133, 5, 1)\n"
          ]
        }
      ]
    },
    {
      "cell_type": "markdown",
      "source": [
        "###Create Neural Network Model"
      ],
      "metadata": {
        "id": "ugGDFRUTAO63"
      }
    },
    {
      "cell_type": "code",
      "source": [
        "# print(x_train.shape, y_train.shape)\n",
        "# x_train = np.reshape(x_train, (x_train.shape[0], x_train.shape[1]))\n",
        "# y_train = np.reshape(y_train, (y_train.shape[0], y_train.shape[1]))\n",
        "# print(x_train.shape, y_train.shape)"
      ],
      "metadata": {
        "colab": {
          "base_uri": "https://localhost:8080/"
        },
        "id": "aeWbamY2BxUu",
        "outputId": "bc82a99e-65e8-44c8-b10b-181cb39fa4c2"
      },
      "execution_count": null,
      "outputs": [
        {
          "output_type": "stream",
          "name": "stdout",
          "text": [
            "(8505, 50, 1) (8505, 5, 1)\n",
            "(8505, 50) (8505, 5)\n"
          ]
        }
      ]
    },
    {
      "cell_type": "code",
      "source": [
        "fig, axs = plt.subplots(2)\n",
        "axs[0].plot(x_train[0])\n",
        "axs[1].plot(y_train[0])"
      ],
      "metadata": {
        "colab": {
          "base_uri": "https://localhost:8080/",
          "height": 283
        },
        "id": "B_F2m-nuC_SO",
        "outputId": "d0da0eb7-1fe0-492e-f726-5a2f209c6865"
      },
      "execution_count": null,
      "outputs": [
        {
          "output_type": "execute_result",
          "data": {
            "text/plain": [
              "[<matplotlib.lines.Line2D at 0x7fe0024fcaf0>]"
            ]
          },
          "metadata": {},
          "execution_count": 24
        },
        {
          "output_type": "display_data",
          "data": {
            "text/plain": [
              "<Figure size 432x288 with 2 Axes>"
            ],
            "image/png": "[encoded data removed]"
          },
          "metadata": {
            "needs_background": "light"
          }
        }
      ]
    },
    {
      "cell_type": "code",
      "source": [
        "from keras import Model\n",
        "from keras.layers import Layer\n",
        "from keras.layers import Input, Dense, Reshape\n",
        "import keras.backend as K\n",
        "import keras\n",
        "from keras.callbacks import EarlyStopping\n",
        "import tensorflow as tf\n",
        "\n",
        "es = EarlyStopping(monitor='val_loss', mode='min', verbose=1, patience = 3)\n",
        "\n",
        "def get_nn_model():\n",
        "    x=Input(shape=(x_train.shape[1:]))\n",
        "    conv_x = keras.layers.Conv1D(1, 5, activation='relu')(x)\n",
        "    reshaped_conv =  tf.reshape(conv_x, shape=(-1,46))\n",
        "    dense2=Dense(100, trainable=True, activation='relu')(reshaped_conv)\n",
        "    dense3=Dense(25, trainable=True, activation='relu')(dense2)\n",
        "    outputs=Dense(5, trainable=True, activation='linear')(dense3)\n",
        "    model=Model(x,outputs)\n",
        "    model.compile(loss='mse', optimizer='adam')\n",
        "    return model\n",
        "\n",
        "\n",
        "nn_model = get_nn_model()\n",
        "\n",
        "nn_model.summary()\n",
        "# , callbacks=[es]\n",
        "nn_model.fit(x_train, y_train, epochs=50, batch_size=32, verbose=2, validation_split=0.2, callbacks=[es])"
      ],
      "metadata": {
        "colab": {
          "base_uri": "https://localhost:8080/"
        },
        "id": "VXHEkTMCADf2",
        "outputId": "8e5be845-d865-40bf-cdd5-a7c8d10b4037"
      },
      "execution_count": null,
      "outputs": [
        {
          "output_type": "stream",
          "name": "stdout",
          "text": [
            "Model: \"model_2\"\n",
            "_________________________________________________________________\n",
            " Layer (type)                Output Shape              Param #   \n",
            "=================================================================\n",
            " input_3 (InputLayer)        [(None, 50, 1)]           0         \n",
            "                                                                 \n",
            " conv1d_2 (Conv1D)           (None, 46, 1)             6         \n",
            "                                                                 \n",
            " tf.reshape_1 (TFOpLambda)   (None, 46)                0         \n",
            "                                                                 \n",
            " dense_4 (Dense)             (None, 100)               4700      \n",
            "                                                                 \n",
            " dense_5 (Dense)             (None, 25)                2525      \n",
            "                                                                 \n",
            " dense_6 (Dense)             (None, 5)                 130       \n",
            "                                                                 \n",
            "=================================================================\n",
            "Total params: 7,361\n",
            "Trainable params: 7,361\n",
            "Non-trainable params: 0\n",
            "_________________________________________________________________\n",
            "Epoch 1/50\n",
            "304/304 - 3s - loss: 0.0336 - val_loss: 0.0290 - 3s/epoch - 10ms/step\n",
            "Epoch 2/50\n",
            "304/304 - 1s - loss: 0.0230 - val_loss: 0.0282 - 1s/epoch - 5ms/step\n",
            "Epoch 3/50\n",
            "304/304 - 1s - loss: 0.0226 - val_loss: 0.0281 - 863ms/epoch - 3ms/step\n",
            "Epoch 4/50\n",
            "304/304 - 1s - loss: 0.0224 - val_loss: 0.0279 - 996ms/epoch - 3ms/step\n",
            "Epoch 5/50\n",
            "304/304 - 1s - loss: 0.0223 - val_loss: 0.0280 - 1s/epoch - 4ms/step\n",
            "Epoch 6/50\n",
            "304/304 - 1s - loss: 0.0223 - val_loss: 0.0281 - 1s/epoch - 3ms/step\n",
            "Epoch 7/50\n",
            "304/304 - 1s - loss: 0.0222 - val_loss: 0.0280 - 744ms/epoch - 2ms/step\n",
            "Epoch 7: early stopping\n"
          ]
        },
        {
          "output_type": "execute_result",
          "data": {
            "text/plain": [
              "<keras.callbacks.History at 0x7fdfa4ea0730>"
            ]
          },
          "metadata": {},
          "execution_count": 34
        }
      ]
    },
    {
      "cell_type": "code",
      "source": [
        "x_test.shape"
      ],
      "metadata": {
        "colab": {
          "base_uri": "https://localhost:8080/"
        },
        "id": "TUvFJuhi_ykO",
        "outputId": "5701a320-fd06-463f-eeb5-f450b645d750"
      },
      "execution_count": null,
      "outputs": [
        {
          "output_type": "execute_result",
          "data": {
            "text/plain": [
              "(2992, 50, 1)"
            ]
          },
          "metadata": {},
          "execution_count": 35
        }
      ]
    },
    {
      "cell_type": "code",
      "source": [
        "prediction = nn_model.predict(x_test)"
      ],
      "metadata": {
        "colab": {
          "base_uri": "https://localhost:8080/"
        },
        "id": "xAa-tt-ABPgu",
        "outputId": "91c50436-95ac-463c-a40d-81a06773c9cb"
      },
      "execution_count": null,
      "outputs": [
        {
          "output_type": "stream",
          "name": "stdout",
          "text": [
            "94/94 [==============================] - 0s 2ms/step\n"
          ]
        }
      ]
    },
    {
      "cell_type": "code",
      "source": [
        "prediction.shape"
      ],
      "metadata": {
        "colab": {
          "base_uri": "https://localhost:8080/"
        },
        "id": "vPIOxvmbBYse",
        "outputId": "dde683fc-7573-4757-a8d5-cb28eaae0fde"
      },
      "execution_count": null,
      "outputs": [
        {
          "output_type": "execute_result",
          "data": {
            "text/plain": [
              "(2992, 5)"
            ]
          },
          "metadata": {},
          "execution_count": 37
        }
      ]
    },
    {
      "cell_type": "code",
      "source": [
        "mse_counter = 0\n",
        "for i in range(0, x_test.shape[0]):\n",
        "  input = x_test[i]\n",
        "  example_mse = (np.reshape(prediction[i], (-1,1)) - y_test[i])**2\n",
        "  mse = np.sum(example_mse)/5\n",
        "  mse_counter += mse\n",
        "\n",
        "print(\"total mse: \", mse_counter/ x_test.shape[0])"
      ],
      "metadata": {
        "colab": {
          "base_uri": "https://localhost:8080/"
        },
        "id": "aqx-oh9F_uYv",
        "outputId": "005156fd-a91d-4574-d96f-0b4366d7daea"
      },
      "execution_count": null,
      "outputs": [
        {
          "output_type": "stream",
          "name": "stdout",
          "text": [
            "total mse:  0.017776745178074305\n"
          ]
        }
      ]
    },
    {
      "cell_type": "code",
      "source": [
        "nn_model.evaluate(x_test, y_test)"
      ],
      "metadata": {
        "colab": {
          "base_uri": "https://localhost:8080/"
        },
        "id": "xCHosBrTIWcL",
        "outputId": "a95d9fc2-cf56-48bc-d616-00571177be83"
      },
      "execution_count": null,
      "outputs": [
        {
          "output_type": "stream",
          "name": "stdout",
          "text": [
            "94/94 [==============================] - 0s 2ms/step - loss: 0.0178\n"
          ]
        },
        {
          "output_type": "execute_result",
          "data": {
            "text/plain": [
              "0.017776748165488243"
            ]
          },
          "metadata": {},
          "execution_count": 39
        }
      ]
    },
    {
      "cell_type": "code",
      "source": [
        "n = 15\n",
        "\n",
        "test_output = y_test[n]\n",
        "\n",
        "test_output = scaler.inverse_transform(test_output)\n",
        "\n",
        "print(test_output.shape)\n",
        "\n",
        "predicted_output = nn_model.predict(np.reshape(x_test[n], (1,x_test[6].shape[0], x_test[6].shape[1])))\n",
        "predicted_output = np.reshape(scaler.inverse_transform(predicted_output), (out_seq_len, 1))\n",
        "\n",
        "fig, axs = plt.subplots(2)\n",
        "axs[0].plot(test_output)\n",
        "axs[0].set_title('Testing sequence')\n",
        "axs[1].plot(predicted_output)\n",
        "axs[1].set_title('Predicted sequence')"
      ],
      "metadata": {
        "colab": {
          "base_uri": "https://localhost:8080/",
          "height": 336
        },
        "id": "ESQcX_4CJS3F",
        "outputId": "2181763b-71bf-4553-fcd4-3e02ab702263"
      },
      "execution_count": null,
      "outputs": [
        {
          "output_type": "stream",
          "name": "stdout",
          "text": [
            "(5, 1)\n",
            "1/1 [==============================] - 0s 21ms/step\n"
          ]
        },
        {
          "output_type": "execute_result",
          "data": {
            "text/plain": [
              "Text(0.5, 1.0, 'Predicted sequence')"
            ]
          },
          "metadata": {},
          "execution_count": 40
        },
        {
          "output_type": "display_data",
          "data": {
            "text/plain": [
              "<Figure size 432x288 with 2 Axes>"
            ],
            "image/png": "[encoded data removed]"
          },
          "metadata": {
            "needs_background": "light"
          }
        }
      ]
    },
    {
      "cell_type": "markdown",
      "source": [
        "###Create a LSTM model\n"
      ],
      "metadata": {
        "id": "TydGtaUHHEdj"
      }
    },
    {
      "cell_type": "code",
      "source": [
        "x_train.shape, y_train.shape"
      ],
      "metadata": {
        "colab": {
          "base_uri": "https://localhost:8080/"
        },
        "id": "34189QxhBGEH",
        "outputId": "c177b2c6-8c36-4376-fcee-b4db7042ca52"
      },
      "execution_count": null,
      "outputs": [
        {
          "output_type": "execute_result",
          "data": {
            "text/plain": [
              "((12133, 50, 1), (12133, 5, 1))"
            ]
          },
          "metadata": {},
          "execution_count": 41
        }
      ]
    },
    {
      "cell_type": "code",
      "source": [
        "from keras import Model\n",
        "from keras.layers import Layer\n",
        "from keras.layers import Input, Dense, LSTM\n",
        "import keras.backend as K\n",
        "\n",
        "class attention(Layer):\n",
        "    def __init__(self,**kwargs):\n",
        "        super(attention,self).__init__(**kwargs)\n",
        "\n",
        "    def build(self,input_shape):\n",
        "        self.W=self.add_weight(name='attention_weight', shape=(input_shape[-1],1),\n",
        "                               initializer='random_normal', trainable=True)\n",
        "        self.b=self.add_weight(name='attention_bias', shape=(input_shape[1],1),\n",
        "                               initializer='zeros', trainable=True)\n",
        "        super(attention, self).build(input_shape)\n",
        "\n",
        "    def call(self,x):\n",
        "        # Alignment scores. Pass them through tanh function\n",
        "        e = K.tanh(K.dot(x,self.W)+self.b)\n",
        "        # Remove dimension of size 1\n",
        "        e = K.squeeze(e, axis=-1)\n",
        "        # Compute the weights\n",
        "        alpha = K.softmax(e)\n",
        "        # Reshape to tensorFlow format\n",
        "        alpha = K.expand_dims(alpha, axis=-1)\n",
        "        # Compute the context vector\n",
        "        context = x * alpha\n",
        "        context = K.sum(context, axis=1)\n",
        "        return context"
      ],
      "metadata": {
        "id": "setVm5_oHREu"
      },
      "execution_count": null,
      "outputs": []
    },
    {
      "cell_type": "code",
      "source": [
        "import keras\n",
        "from keras import layers\n",
        "\n",
        "def create_LSTM_with_attention(hidden_units, dense_units):\n",
        "    x=Input(shape=(x_train.shape[1:]))\n",
        "    conv_x = keras.layers.Conv1D(30, 3, activation='relu')(x)\n",
        "    conv_att = layers.MultiHeadAttention(\n",
        "        key_dim=2, num_heads=5\n",
        "    )(conv_x, conv_x)\n",
        "    batchnorm_reshaped_attention = keras.layers.BatchNormalization()(conv_att)\n",
        "    lstm_layer = LSTM(100, return_sequences=True, activation='relu')(batchnorm_reshaped_attention)\n",
        "    lstm_layer = LSTM(50, return_sequences=False, activation='relu')(lstm_layer)\n",
        "    outputs=Dense(5, trainable=True, activation='linear')(lstm_layer)\n",
        "    model=Model(x,outputs)\n",
        "    model.compile(loss='mse', optimizer='adam')\n",
        "    return model\n",
        "\n",
        "# Create the model with attention, train and evaluate\n",
        "model_attention = create_LSTM_with_attention(hidden_units=100, dense_units=1)\n",
        "\n",
        "model_attention.summary()\n",
        "es = EarlyStopping(monitor='val_loss', mode='min', verbose=1, patience = 1)\n",
        "\n",
        "model_attention.fit(x_train, y_train, epochs=15, batch_size=32, verbose=2, validation_split=0.2, callbacks = [es])"
      ],
      "metadata": {
        "colab": {
          "base_uri": "https://localhost:8080/"
        },
        "id": "QmnOD3mzHHjV",
        "outputId": "b304fc91-8580-427c-cae1-94200a7ece76"
      },
      "execution_count": null,
      "outputs": [
        {
          "output_type": "stream",
          "name": "stdout",
          "text": [
            "Model: \"model_4\"\n",
            "__________________________________________________________________________________________________\n",
            " Layer (type)                   Output Shape         Param #     Connected to                     \n",
            "==================================================================================================\n",
            " input_5 (InputLayer)           [(None, 50, 1)]      0           []                               \n",
            "                                                                                                  \n",
            " conv1d_4 (Conv1D)              (None, 48, 30)       120         ['input_5[0][0]']                \n",
            "                                                                                                  \n",
            " multi_head_attention_2 (MultiH  (None, 48, 30)      1260        ['conv1d_4[0][0]',               \n",
            " eadAttention)                                                    'conv1d_4[0][0]']               \n",
            "                                                                                                  \n",
            " batch_normalization_2 (BatchNo  (None, 48, 30)      120         ['multi_head_attention_2[0][0]'] \n",
            " rmalization)                                                                                     \n",
            "                                                                                                  \n",
            " lstm_4 (LSTM)                  (None, 48, 100)      52400       ['batch_normalization_2[0][0]']  \n",
            "                                                                                                  \n",
            " lstm_5 (LSTM)                  (None, 50)           30200       ['lstm_4[0][0]']                 \n",
            "                                                                                                  \n",
            " dense_8 (Dense)                (None, 5)            255         ['lstm_5[0][0]']                 \n",
            "                                                                                                  \n",
            "==================================================================================================\n",
            "Total params: 84,355\n",
            "Trainable params: 84,295\n",
            "Non-trainable params: 60\n",
            "__________________________________________________________________________________________________\n",
            "Epoch 1/15\n",
            "304/304 - 33s - loss: 0.0318 - val_loss: 0.0293 - 33s/epoch - 108ms/step\n",
            "Epoch 2/15\n",
            "304/304 - 27s - loss: 0.0222 - val_loss: 0.0281 - 27s/epoch - 90ms/step\n",
            "Epoch 3/15\n",
            "304/304 - 28s - loss: 0.0221 - val_loss: 0.0278 - 28s/epoch - 92ms/step\n",
            "Epoch 4/15\n",
            "304/304 - 27s - loss: 0.0221 - val_loss: 0.0275 - 27s/epoch - 90ms/step\n",
            "Epoch 5/15\n",
            "304/304 - 27s - loss: 0.0220 - val_loss: 0.0294 - 27s/epoch - 90ms/step\n",
            "Epoch 5: early stopping\n"
          ]
        },
        {
          "output_type": "execute_result",
          "data": {
            "text/plain": [
              "<keras.callbacks.History at 0x7fdfa477f310>"
            ]
          },
          "metadata": {},
          "execution_count": 44
        }
      ]
    },
    {
      "cell_type": "code",
      "source": [
        "model_attention.evaluate(x_test,y_test)"
      ],
      "metadata": {
        "colab": {
          "base_uri": "https://localhost:8080/"
        },
        "id": "AkftyrneHcvW",
        "outputId": "972ad113-ef3b-48dc-f43e-1e3c4aed1728"
      },
      "execution_count": null,
      "outputs": [
        {
          "output_type": "stream",
          "name": "stdout",
          "text": [
            "94/94 [==============================] - 3s 27ms/step - loss: 0.0198\n"
          ]
        },
        {
          "output_type": "execute_result",
          "data": {
            "text/plain": [
              "0.01981324329972267"
            ]
          },
          "metadata": {},
          "execution_count": 45
        }
      ]
    },
    {
      "cell_type": "code",
      "source": [
        "test_input = x_test[25]\n",
        "test_output = y_test[25]\n",
        "\n",
        "test_input = scaler.inverse_transform(test_input)\n",
        "test_output = scaler.inverse_transform(test_output)\n",
        "\n",
        "print(test_input.shape, test_output.shape)"
      ],
      "metadata": {
        "colab": {
          "base_uri": "https://localhost:8080/"
        },
        "id": "iJKab4QRIgi1",
        "outputId": "cc05a6fa-fe3e-4b99-bc22-fe67f113446a"
      },
      "execution_count": null,
      "outputs": [
        {
          "output_type": "stream",
          "name": "stdout",
          "text": [
            "(50, 1) (5, 1)\n"
          ]
        }
      ]
    },
    {
      "cell_type": "code",
      "source": [
        "predicted_output = model_attention.predict(np.reshape(x_test[25], (1,x_test[25].shape[0], x_test[25].shape[1])))\n",
        "predicted_output = np.reshape(scaler.inverse_transform(predicted_output), (out_seq_len, 1))\n",
        "fig, axs = plt.subplots(2)\n",
        "axs[0].plot(test_output)\n",
        "axs[0].set_title('Testing sequence')\n",
        "axs[1].plot(predicted_output)\n",
        "axs[1].set_title('Predicted sequence')"
      ],
      "metadata": {
        "colab": {
          "base_uri": "https://localhost:8080/",
          "height": 317
        },
        "id": "OaceZOmELlQw",
        "outputId": "50c27f59-069a-4e08-a06d-4900c69b6d46"
      },
      "execution_count": null,
      "outputs": [
        {
          "output_type": "stream",
          "name": "stdout",
          "text": [
            "1/1 [==============================] - 0s 52ms/step\n"
          ]
        },
        {
          "output_type": "execute_result",
          "data": {
            "text/plain": [
              "Text(0.5, 1.0, 'Predicted sequence')"
            ]
          },
          "metadata": {},
          "execution_count": 56
        },
        {
          "output_type": "display_data",
          "data": {
            "text/plain": [
              "<Figure size 432x288 with 2 Axes>"
            ],
            "image/png": "[encoded data removed]"
          },
          "metadata": {
            "needs_background": "light"
          }
        }
      ]
    },
    {
      "cell_type": "markdown",
      "source": [
        "###Create VAE\n"
      ],
      "metadata": {
        "id": "DoaK-M3FM8by"
      }
    },
    {
      "cell_type": "code",
      "source": [
        "x_train.shape, y_train.shape"
      ],
      "metadata": {
        "colab": {
          "base_uri": "https://localhost:8080/"
        },
        "id": "TOLigU47NNsM",
        "outputId": "ec94a989-786f-45ea-91d6-dadec0a187e4"
      },
      "execution_count": null,
      "outputs": [
        {
          "output_type": "execute_result",
          "data": {
            "text/plain": [
              "((12133, 50, 1), (12133, 5, 1))"
            ]
          },
          "metadata": {},
          "execution_count": 48
        }
      ]
    },
    {
      "cell_type": "code",
      "source": [
        "from keras import Input\n",
        "from keras.models import Model\n",
        "from keras import backend as K\n",
        "from keras.layers import Conv1D, Conv1DTranspose, Flatten, Dense\n",
        "from keras import layers\n",
        "import keras\n",
        "\n",
        "input_shape =  (x_train.shape[1], x_train.shape[2])\n",
        "# Constructing encoder\n",
        "encoder_input = Input(shape=input_shape)\n",
        "encoded = layers.LSTM(5)(encoder_input)\n",
        "# Constructing decoder\n",
        "decoded = layers.RepeatVector(x_train.shape[1])(encoded)\n",
        "decoded = layers.LSTM(y_train.shape[1], return_sequences=False)(decoded)\n",
        "decoded_ouput = layers.Dense(5, activation = 'linear')\n",
        "\n",
        "sequence_autoencoder = keras.Model(encoder_input, decoded)\n",
        "sequence_autoencoder.summary()"
      ],
      "metadata": {
        "colab": {
          "base_uri": "https://localhost:8080/"
        },
        "id": "QH407nwGNBmP",
        "outputId": "3a1f6c84-6e49-46ff-cfbc-d2ecf88e2694"
      },
      "execution_count": null,
      "outputs": [
        {
          "output_type": "stream",
          "name": "stdout",
          "text": [
            "Model: \"model_6\"\n",
            "_________________________________________________________________\n",
            " Layer (type)                Output Shape              Param #   \n",
            "=================================================================\n",
            " input_7 (InputLayer)        [(None, 50, 1)]           0         \n",
            "                                                                 \n",
            " lstm_8 (LSTM)               (None, 5)                 140       \n",
            "                                                                 \n",
            " repeat_vector_1 (RepeatVect  (None, 50, 5)            0         \n",
            " or)                                                             \n",
            "                                                                 \n",
            " lstm_9 (LSTM)               (None, 5)                 220       \n",
            "                                                                 \n",
            "=================================================================\n",
            "Total params: 360\n",
            "Trainable params: 360\n",
            "Non-trainable params: 0\n",
            "_________________________________________________________________\n"
          ]
        }
      ]
    },
    {
      "cell_type": "code",
      "source": [
        "sequence_autoencoder.compile(optimizer='adam', loss='mse')\n",
        "sequence_autoencoder.fit(x_train, y_train, epochs=15, batch_size=32, verbose=2, validation_split=0.2, callbacks = [es])"
      ],
      "metadata": {
        "id": "gZdWxcvlOQFb",
        "colab": {
          "base_uri": "https://localhost:8080/"
        },
        "outputId": "d87f9eda-5710-4123-d9c5-57a6cc6e9c27"
      },
      "execution_count": null,
      "outputs": [
        {
          "output_type": "stream",
          "name": "stdout",
          "text": [
            "Epoch 1/15\n",
            "304/304 - 19s - loss: 0.0438 - val_loss: 0.0273 - 19s/epoch - 61ms/step\n",
            "Epoch 2/15\n",
            "304/304 - 12s - loss: 0.0219 - val_loss: 0.0273 - 12s/epoch - 40ms/step\n",
            "Epoch 3/15\n",
            "304/304 - 12s - loss: 0.0219 - val_loss: 0.0274 - 12s/epoch - 41ms/step\n",
            "Epoch 3: early stopping\n"
          ]
        },
        {
          "output_type": "execute_result",
          "data": {
            "text/plain": [
              "<keras.callbacks.History at 0x7fdf967a3ee0>"
            ]
          },
          "metadata": {},
          "execution_count": 51
        }
      ]
    },
    {
      "cell_type": "code",
      "source": [
        "sequence_autoencoder.evaluate(x_test,y_test)"
      ],
      "metadata": {
        "colab": {
          "base_uri": "https://localhost:8080/"
        },
        "id": "nlOmFhRlRCmi",
        "outputId": "47351059-8f3f-4504-f5dc-f3d9a5b32c32"
      },
      "execution_count": null,
      "outputs": [
        {
          "output_type": "stream",
          "name": "stdout",
          "text": [
            "94/94 [==============================] - 2s 15ms/step - loss: 0.0173\n"
          ]
        },
        {
          "output_type": "execute_result",
          "data": {
            "text/plain": [
              "0.017343325540423393"
            ]
          },
          "metadata": {},
          "execution_count": 52
        }
      ]
    },
    {
      "cell_type": "code",
      "source": [
        "test_input = x_test[30]\n",
        "test_output = y_test[30]\n",
        "\n",
        "test_input = scaler.inverse_transform(test_input)\n",
        "test_output = scaler.inverse_transform(test_output)\n",
        "\n",
        "print(test_input.shape, test_output.shape)"
      ],
      "metadata": {
        "colab": {
          "base_uri": "https://localhost:8080/"
        },
        "id": "PzIF_4_eRHrw",
        "outputId": "b26f4a4f-7685-412a-bc04-ef5a076b7b30"
      },
      "execution_count": null,
      "outputs": [
        {
          "output_type": "stream",
          "name": "stdout",
          "text": [
            "(50, 1) (5, 1)\n"
          ]
        }
      ]
    },
    {
      "cell_type": "code",
      "source": [
        "predicted_output = sequence_autoencoder.predict(np.reshape(x_test[30], (1,x_test[25].shape[0], x_test[25].shape[1])))\n",
        "predicted_output = np.reshape(scaler.inverse_transform(predicted_output), (out_seq_len, 1))\n",
        "fig, axs = plt.subplots(2)\n",
        "axs[0].plot(test_output)\n",
        "axs[0].set_title('Testing sequence')\n",
        "axs[1].plot(predicted_output)\n",
        "axs[1].set_title('Predicted sequence')"
      ],
      "metadata": {
        "colab": {
          "base_uri": "https://localhost:8080/",
          "height": 317
        },
        "id": "FyLMGVJMRnSO",
        "outputId": "7f9f0c13-c913-4234-c32b-0124749b4901"
      },
      "execution_count": null,
      "outputs": [
        {
          "output_type": "stream",
          "name": "stdout",
          "text": [
            "1/1 [==============================] - 0s 58ms/step\n"
          ]
        },
        {
          "output_type": "execute_result",
          "data": {
            "text/plain": [
              "Text(0.5, 1.0, 'Predicted sequence')"
            ]
          },
          "metadata": {},
          "execution_count": 57
        },
        {
          "output_type": "display_data",
          "data": {
            "text/plain": [
              "<Figure size 432x288 with 2 Axes>"
            ],
            "image/png": "[encoded data removed]"
          },
          "metadata": {
            "needs_background": "light"
          }
        }
      ]
    },
    {
      "cell_type": "markdown",
      "source": [
        "###Create a GAN"
      ],
      "metadata": {
        "id": "moomnQM6TQQr"
      }
    },
    {
      "cell_type": "code",
      "source": [
        "from numpy.random import seed\n",
        "seed(1)\n",
        "import tensorflow\n",
        "tensorflow.random.set_seed(1)"
      ],
      "metadata": {
        "id": "pois9HyUmPVH"
      },
      "execution_count": null,
      "outputs": []
    },
    {
      "cell_type": "code",
      "source": [
        "input_shape =  (x_train.shape[1], x_train.shape[2])\n",
        "from keras.layers import LSTM, MultiHeadAttention, Conv1D\n",
        "\n",
        "\n",
        "def get_generator_model():\n",
        "    encoder_input = Input(shape=input_shape)\n",
        "    conv_x = keras.layers.Conv1D(30, 3, activation='relu')(encoder_input)\n",
        "    conv_att = layers.MultiHeadAttention(\n",
        "        key_dim=2, num_heads=5\n",
        "    )(conv_x, conv_x)\n",
        "    batchnorm_reshaped_attention = keras.layers.BatchNormalization()(conv_att)\n",
        "    lstm_layer = LSTM(100, return_sequences=True, activation='relu')(conv_x)\n",
        "    lstm_layer = LSTM(50, return_sequences=False, activation='relu')(lstm_layer)\n",
        "    outputs=Dense(5, trainable=True, activation='tanh')(lstm_layer)\n",
        "    model = tf.keras.models.Model( encoder_input , outputs )\n",
        "\n",
        "    return model\n"
      ],
      "metadata": {
        "id": "a3TeTw4SRqIF"
      },
      "execution_count": null,
      "outputs": []
    },
    {
      "cell_type": "code",
      "source": [
        "from keras import layers\n",
        "def get_discriminator_model():\n",
        "    layers = [\n",
        "        keras.layers.LSTM(5),\n",
        "        keras.layers.Dense(5, activation = 'relu'),\n",
        "        keras.layers.Dense(1, activation = 'sigmoid')\n",
        "    ]\n",
        "    model = tf.keras.models.Sequential( layers )\n",
        "    return model\n"
      ],
      "metadata": {
        "id": "y-nRHeacUUfg"
      },
      "execution_count": null,
      "outputs": []
    },
    {
      "cell_type": "code",
      "source": [
        "import tensorflow as tf\n",
        "\n",
        "cross_entropy = tf.keras.losses.BinaryCrossentropy()\n",
        "mse = tf.keras.losses.MeanSquaredError()\n",
        "\n",
        "def discriminator_loss(real_output, fake_output):\n",
        "    real_loss = cross_entropy(tf.ones_like(real_output) - tf.random.uniform( shape=real_output.shape , maxval=0.1) , real_output)\n",
        "    fake_loss = cross_entropy(tf.zeros_like(fake_output) + tf.random.uniform( shape=fake_output.shape , maxval=0.1) , fake_output)\n",
        "    total_loss = real_loss + fake_loss\n",
        "    return total_loss\n",
        "\n",
        "def generator_loss(fake_output , real_y):\n",
        "    return mse( fake_output , real_y )\n",
        "\n",
        "generator_optimizer = tf.keras.optimizers.Adam( 0.001 )\n",
        "discriminator_optimizer = tf.keras.optimizers.Adam( 0.001 )\n",
        "\n",
        "generator = get_generator_model()\n",
        "discriminator = get_discriminator_model()"
      ],
      "metadata": {
        "id": "6sfvXjFIUl1I"
      },
      "execution_count": null,
      "outputs": []
    },
    {
      "cell_type": "code",
      "source": [
        "losses = {\"D\":[], \"G\":[]}\n",
        "\n",
        "gen_loss_tracker = keras.metrics.Mean(name=\"generator_loss\")\n",
        "disc_loss_tracker = keras.metrics.Mean(name=\"discriminator_loss\")\n",
        "@tf.function\n",
        "def train_step( input_x , real_y ):\n",
        "\n",
        "    with tf.GradientTape() as gen_tape, tf.GradientTape() as disc_tape:\n",
        "        # Generate an image -> G( x )\n",
        "        generated_seq = generator( input_x , training=True)\n",
        "        # Probability that the given image is real -> D( x )\n",
        "        real_output = discriminator( real_y, training=True)\n",
        "        # Probability that the given image is the one generated -> D( G( x ) )\n",
        "        generated_output = discriminator(generated_seq, training=True)\n",
        "\n",
        "        # L2 Loss -> || y - G(x) ||^2\n",
        "        gen_loss = generator_loss( generated_seq , real_y )\n",
        "        # Log loss for the discriminator\n",
        "        disc_loss = discriminator_loss( real_output, generated_output )\n",
        "        # losses[\"D\"].append(disc_loss.numpy())\n",
        "        # losses[\"G\"].append(gen_loss.numpy())\n",
        "    #tf.keras.backend.print_tensor( tf.keras.backend.mean( gen_loss ) )\n",
        "    #tf.keras.backend.print_tensor( gen_loss + disc_loss )\n",
        "\n",
        "    gen_loss_tracker.update_state(gen_loss)\n",
        "    disc_loss_tracker.update_state(disc_loss)\n",
        "\n",
        "    # print(\"gen loss\", gen_loss_tracker.result())\n",
        "\n",
        "\n",
        "    # Compute the gradients\n",
        "    gradients_of_generator = gen_tape.gradient(gen_loss, generator.trainable_variables)\n",
        "    gradients_of_discriminator = disc_tape.gradient(disc_loss, discriminator.trainable_variables)\n",
        "\n",
        "    # Optimize with Adam\n",
        "    generator_optimizer.apply_gradients(zip(gradients_of_generator, generator.trainable_variables))\n",
        "    discriminator_optimizer.apply_gradients(zip(gradients_of_discriminator, discriminator.trainable_variables))\n",
        "    return gen_loss_tracker.result(), disc_loss_tracker.result()\n",
        "\n",
        "\n",
        "generator.compile(\n",
        "    optimizer=generator_optimizer,\n",
        "    loss=generator_loss,\n",
        "    metrics=['accuracy']\n",
        ")\n",
        "\n",
        "discriminator.compile(\n",
        "    optimizer=discriminator_optimizer,\n",
        "    loss=discriminator_loss,\n",
        "    metrics=['accuracy']\n",
        ")\n"
      ],
      "metadata": {
        "id": "I26fe0YmVbmf"
      },
      "execution_count": null,
      "outputs": []
    },
    {
      "cell_type": "code",
      "source": [
        "num_epochs = 20\n",
        "losses = {\"D\":[], \"G\":[]}\n",
        "for e in range( num_epochs ):\n",
        "    print(\"Running epoch : \", e )\n",
        "    gen_loss, disc_loss = train_step( x_train , y_train )\n",
        "    losses[\"D\"].append(disc_loss.numpy())\n",
        "    losses[\"G\"].append(gen_loss.numpy())\n",
        "    print(\"generator loss for \", e, \" epoch: \", gen_loss.numpy(), \", disc loss for \", e, \" epoch: \",disc_loss.numpy())"
      ],
      "metadata": {
        "colab": {
          "base_uri": "https://localhost:8080/"
        },
        "id": "_5buXFFpYU4B",
        "outputId": "b8a02f29-fff5-4224-90f2-6c3c4ac36473"
      },
      "execution_count": null,
      "outputs": [
        {
          "output_type": "stream",
          "name": "stdout",
          "text": [
            "Running epoch :  0\n",
            "generator loss for  0  epoch:  0.047466733 , disc loss for  0  epoch:  1.3806096\n",
            "Running epoch :  1\n",
            "generator loss for  1  epoch:  0.04725064 , disc loss for  1  epoch:  1.3806524\n",
            "Running epoch :  2\n",
            "generator loss for  2  epoch:  0.04703833 , disc loss for  2  epoch:  1.3806953\n",
            "Running epoch :  3\n",
            "generator loss for  3  epoch:  0.0468297 , disc loss for  3  epoch:  1.3807378\n",
            "Running epoch :  4\n",
            "generator loss for  4  epoch:  0.04662465 , disc loss for  4  epoch:  1.3807793\n",
            "Running epoch :  5\n",
            "generator loss for  5  epoch:  0.04642309 , disc loss for  5  epoch:  1.3808192\n",
            "Running epoch :  6\n",
            "generator loss for  6  epoch:  0.046224933 , disc loss for  6  epoch:  1.3808588\n",
            "Running epoch :  7\n",
            "generator loss for  7  epoch:  0.046030086 , disc loss for  7  epoch:  1.380898\n",
            "Running epoch :  8\n",
            "generator loss for  8  epoch:  0.045838468 , disc loss for  8  epoch:  1.3809364\n",
            "Running epoch :  9\n",
            "generator loss for  9  epoch:  0.045649994 , disc loss for  9  epoch:  1.3809736\n",
            "Running epoch :  10\n",
            "generator loss for  10  epoch:  0.04546459 , disc loss for  10  epoch:  1.3810093\n",
            "Running epoch :  11\n",
            "generator loss for  11  epoch:  0.04528218 , disc loss for  11  epoch:  1.3810443\n",
            "Running epoch :  12\n",
            "generator loss for  12  epoch:  0.04510269 , disc loss for  12  epoch:  1.3810794\n",
            "Running epoch :  13\n",
            "generator loss for  13  epoch:  0.044926047 , disc loss for  13  epoch:  1.3811144\n",
            "Running epoch :  14\n",
            "generator loss for  14  epoch:  0.04475218 , disc loss for  14  epoch:  1.3811479\n",
            "Running epoch :  15\n",
            "generator loss for  15  epoch:  0.04458103 , disc loss for  15  epoch:  1.3811803\n",
            "Running epoch :  16\n",
            "generator loss for  16  epoch:  0.044412527 , disc loss for  16  epoch:  1.3812127\n",
            "Running epoch :  17\n",
            "generator loss for  17  epoch:  0.04424661 , disc loss for  17  epoch:  1.3812449\n",
            "Running epoch :  18\n",
            "generator loss for  18  epoch:  0.044083215 , disc loss for  18  epoch:  1.381276\n",
            "Running epoch :  19\n",
            "generator loss for  19  epoch:  0.04392229 , disc loss for  19  epoch:  1.3813063\n"
          ]
        }
      ]
    },
    {
      "cell_type": "code",
      "source": [
        "fig, axs = plt.subplots(2)\n",
        "axs[0].plot(losses[\"G\"])\n",
        "axs[0].set_title('Generator loss')\n",
        "axs[1].plot(losses[\"D\"])\n",
        "axs[1].set_title('Discriminator loss')"
      ],
      "metadata": {
        "colab": {
          "base_uri": "https://localhost:8080/",
          "height": 299
        },
        "id": "IofemWd7J65F",
        "outputId": "1b86ef51-a672-4a90-9796-31c1a8ad9a50"
      },
      "execution_count": null,
      "outputs": [
        {
          "output_type": "execute_result",
          "data": {
            "text/plain": [
              "Text(0.5, 1.0, 'Discriminator loss')"
            ]
          },
          "metadata": {},
          "execution_count": 355
        },
        {
          "output_type": "display_data",
          "data": {
            "text/plain": [
              "<Figure size 432x288 with 2 Axes>"
            ],
            "image/png": "[encoded data removed]"
          },
          "metadata": {
            "needs_background": "light"
          }
        }
      ]
    },
    {
      "cell_type": "code",
      "source": [
        "predictions = generator( x_test ).numpy()"
      ],
      "metadata": {
        "id": "6wpPUEu9Y1cW"
      },
      "execution_count": null,
      "outputs": []
    },
    {
      "cell_type": "code",
      "source": [
        "y_test.shape"
      ],
      "metadata": {
        "colab": {
          "base_uri": "https://localhost:8080/"
        },
        "id": "eIOxBMjzu0ch",
        "outputId": "eb744ab7-0dd4-4a97-c17a-1a5996021f53"
      },
      "execution_count": null,
      "outputs": [
        {
          "output_type": "execute_result",
          "data": {
            "text/plain": [
              "(2992, 5, 1)"
            ]
          },
          "metadata": {},
          "execution_count": 357
        }
      ]
    },
    {
      "cell_type": "code",
      "source": [
        "mse_counter = 0\n",
        "for i in range(0, predictions.shape[0]):\n",
        "  example_mse = (np.reshape(predictions[i], (predictions[i].shape[0], 1)) - y_test[i])**2\n",
        "  mse = np.sum(example_mse)/5\n",
        "  mse_counter += mse\n",
        "\n",
        "print(\"total mse: \", mse_counter/ predictions.shape[0])"
      ],
      "metadata": {
        "colab": {
          "base_uri": "https://localhost:8080/"
        },
        "id": "zgdeS4_VoBXV",
        "outputId": "4fb2d48c-503e-4c05-adcc-9d43bcf01c56"
      },
      "execution_count": null,
      "outputs": [
        {
          "output_type": "stream",
          "name": "stdout",
          "text": [
            "total mse:  0.01747848920711438\n"
          ]
        }
      ]
    },
    {
      "cell_type": "code",
      "source": [
        "0.017567987550793782"
      ],
      "metadata": {
        "id": "0SXKoV6yS1kL"
      },
      "execution_count": null,
      "outputs": []
    },
    {
      "cell_type": "code",
      "source": [
        "n = 5\n",
        "\n",
        "test_output = y_test[n]\n",
        "\n",
        "test_output = scaler.inverse_transform(test_output)\n",
        "\n",
        "print(test_output.shape)\n",
        "\n",
        "predicted_output = predictions[n]\n",
        "predicted_output_scaled = scaler.inverse_transform(np.reshape(predicted_output, (-1,1)))\n",
        "print(predicted_output_scaled.shape)\n",
        "fig, axs = plt.subplots(2)\n",
        "axs[0].plot(test_output)\n",
        "axs[0].set_title('Testing sequence')\n",
        "axs[1].plot(predicted_output)\n",
        "axs[1].set_title('Predicted sequence')"
      ],
      "metadata": {
        "colab": {
          "base_uri": "https://localhost:8080/",
          "height": 336
        },
        "id": "2Bn6Eyd6ZHYT",
        "outputId": "dce19246-2e03-45ad-d82c-9f861032f084"
      },
      "execution_count": null,
      "outputs": [
        {
          "output_type": "stream",
          "name": "stdout",
          "text": [
            "(5, 1)\n",
            "(5, 1)\n"
          ]
        },
        {
          "output_type": "execute_result",
          "data": {
            "text/plain": [
              "Text(0.5, 1.0, 'Predicted sequence')"
            ]
          },
          "metadata": {},
          "execution_count": 359
        },
        {
          "output_type": "display_data",
          "data": {
            "text/plain": [
              "<Figure size 432x288 with 2 Axes>"
            ],
            "image/png": "[encoded data removed]"
          },
          "metadata": {
            "needs_background": "light"
          }
        }
      ]
    },
    {
      "cell_type": "code",
      "source": [],
      "metadata": {
        "id": "r2LRckOlcYtc"
      },
      "execution_count": null,
      "outputs": []
    },
    {
      "cell_type": "code",
      "source": [],
      "metadata": {
        "id": "8WO4oi_N9zP4"
      },
      "execution_count": null,
      "outputs": []
    }
  ]
}