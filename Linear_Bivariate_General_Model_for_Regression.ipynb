{
  "nbformat": 4,
  "nbformat_minor": 0,
  "metadata": {
    "colab": {
      "provenance": [],
      "collapsed_sections": [
        "xBYD_fNOfznX"
      ]
    },
    "kernelspec": {
      "name": "python3",
      "display_name": "Python 3"
    },
    "language_info": {
      "name": "python"
    }
  },
  "cells": [
    {
      "cell_type": "markdown",
      "source": [
        "#Install Libraries"
      ],
      "metadata": {
        "id": "YssAeP4Pag_Y"
      }
    },
    {
      "cell_type": "code",
      "execution_count": null,
      "metadata": {
        "id": "FkzaHiV_dKoc",
        "colab": {
          "base_uri": "https://localhost:8080/"
        },
        "outputId": "a3999534-6e2d-4b5f-9014-8bae2e448ea3"
      },
      "outputs": [
        {
          "output_type": "stream",
          "name": "stdout",
          "text": [
            "Looking in indexes: https://pypi.org/simple, https://us-python.pkg.dev/colab-wheels/public/simple/\n",
            "Requirement already satisfied: yfinance in /usr/local/lib/python3.10/dist-packages (0.2.18)\n",
            "Requirement already satisfied: beautifulsoup4>=4.11.1 in /usr/local/lib/python3.10/dist-packages (from yfinance) (4.11.2)\n",
            "Requirement already satisfied: multitasking>=0.0.7 in /usr/local/lib/python3.10/dist-packages (from yfinance) (0.0.11)\n",
            "Requirement already satisfied: requests>=2.26 in /usr/local/lib/python3.10/dist-packages (from yfinance) (2.27.1)\n",
            "Requirement already satisfied: appdirs>=1.4.4 in /usr/local/lib/python3.10/dist-packages (from yfinance) (1.4.4)\n",
            "Requirement already satisfied: frozendict>=2.3.4 in /usr/local/lib/python3.10/dist-packages (from yfinance) (2.3.7)\n",
            "Requirement already satisfied: lxml>=4.9.1 in /usr/local/lib/python3.10/dist-packages (from yfinance) (4.9.2)\n",
            "Requirement already satisfied: pytz>=2022.5 in /usr/local/lib/python3.10/dist-packages (from yfinance) (2022.7.1)\n",
            "Requirement already satisfied: html5lib>=1.1 in /usr/local/lib/python3.10/dist-packages (from yfinance) (1.1)\n",
            "Requirement already satisfied: numpy>=1.16.5 in /usr/local/lib/python3.10/dist-packages (from yfinance) (1.22.4)\n",
            "Requirement already satisfied: pandas>=1.3.0 in /usr/local/lib/python3.10/dist-packages (from yfinance) (1.5.3)\n",
            "Requirement already satisfied: cryptography>=3.3.2 in /usr/local/lib/python3.10/dist-packages (from yfinance) (40.0.2)\n",
            "Requirement already satisfied: soupsieve>1.2 in /usr/local/lib/python3.10/dist-packages (from beautifulsoup4>=4.11.1->yfinance) (2.4.1)\n",
            "Requirement already satisfied: cffi>=1.12 in /usr/local/lib/python3.10/dist-packages (from cryptography>=3.3.2->yfinance) (1.15.1)\n",
            "Requirement already satisfied: webencodings in /usr/local/lib/python3.10/dist-packages (from html5lib>=1.1->yfinance) (0.5.1)\n",
            "Requirement already satisfied: six>=1.9 in /usr/local/lib/python3.10/dist-packages (from html5lib>=1.1->yfinance) (1.16.0)\n",
            "Requirement already satisfied: python-dateutil>=2.8.1 in /usr/local/lib/python3.10/dist-packages (from pandas>=1.3.0->yfinance) (2.8.2)\n",
            "Requirement already satisfied: charset-normalizer~=2.0.0 in /usr/local/lib/python3.10/dist-packages (from requests>=2.26->yfinance) (2.0.12)\n",
            "Requirement already satisfied: urllib3<1.27,>=1.21.1 in /usr/local/lib/python3.10/dist-packages (from requests>=2.26->yfinance) (1.26.15)\n",
            "Requirement already satisfied: idna<4,>=2.5 in /usr/local/lib/python3.10/dist-packages (from requests>=2.26->yfinance) (3.4)\n",
            "Requirement already satisfied: certifi>=2017.4.17 in /usr/local/lib/python3.10/dist-packages (from requests>=2.26->yfinance) (2022.12.7)\n",
            "Requirement already satisfied: pycparser in /usr/local/lib/python3.10/dist-packages (from cffi>=1.12->cryptography>=3.3.2->yfinance) (2.21)\n"
          ]
        }
      ],
      "source": [
        "pip install yfinance"
      ]
    },
    {
      "cell_type": "code",
      "source": [
        "pip install pandas_ta"
      ],
      "metadata": {
        "id": "nTwEVZH_JQX0",
        "colab": {
          "base_uri": "https://localhost:8080/"
        },
        "outputId": "c5c5b8c8-1f24-4105-f51c-f95bb77f8f88"
      },
      "execution_count": null,
      "outputs": [
        {
          "output_type": "stream",
          "name": "stdout",
          "text": [
            "Looking in indexes: https://pypi.org/simple, https://us-python.pkg.dev/colab-wheels/public/simple/\n",
            "Requirement already satisfied: pandas_ta in /usr/local/lib/python3.10/dist-packages (0.3.14b0)\n",
            "Requirement already satisfied: pandas in /usr/local/lib/python3.10/dist-packages (from pandas_ta) (1.5.3)\n",
            "Requirement already satisfied: pytz>=2020.1 in /usr/local/lib/python3.10/dist-packages (from pandas->pandas_ta) (2022.7.1)\n",
            "Requirement already satisfied: python-dateutil>=2.8.1 in /usr/local/lib/python3.10/dist-packages (from pandas->pandas_ta) (2.8.2)\n",
            "Requirement already satisfied: numpy>=1.21.0 in /usr/local/lib/python3.10/dist-packages (from pandas->pandas_ta) (1.22.4)\n",
            "Requirement already satisfied: six>=1.5 in /usr/local/lib/python3.10/dist-packages (from python-dateutil>=2.8.1->pandas->pandas_ta) (1.16.0)\n"
          ]
        }
      ]
    },
    {
      "cell_type": "code",
      "source": [
        "#Import utility\n",
        "import numpy as np\n",
        "import pandas as pd\n",
        "import matplotlib.pyplot as plt\n",
        "\n",
        "#Import data import libraries\n",
        "import yfinance as yf\n",
        "yf.pdr_override()\n",
        "from pandas_datareader import data as pdr\n",
        "import pandas_ta as pta\n",
        "\n",
        "#Import data preprocessing libraries\n",
        "from sklearn.model_selection import train_test_split\n",
        "from sklearn.preprocessing import MinMaxScaler, StandardScaler\n",
        "\n",
        "#Import DL libraries\n",
        "from tensorflow.keras.layers import Dense, LSTM,GRU,SimpleRNN, Dropout,Bidirectional, Input, MultiHeadAttention\n",
        "from tensorflow.keras.optimizers import Adam\n",
        "from keras.models import Sequential\n",
        "from keras.layers import Dense, LSTM"
      ],
      "metadata": {
        "id": "TVyFHc9jiLQZ"
      },
      "execution_count": null,
      "outputs": []
    },
    {
      "cell_type": "markdown",
      "source": [
        "#Import Data"
      ],
      "metadata": {
        "id": "SJvI6Ig5akRc"
      }
    },
    {
      "cell_type": "code",
      "source": [
        "base_stock = \"HDFCBANK.NS\"\n",
        "test_stock = \"ICICIBANK.NS\""
      ],
      "metadata": {
        "id": "ytaIK4YmOT2U"
      },
      "execution_count": null,
      "outputs": []
    },
    {
      "cell_type": "code",
      "source": [
        "df = pdr.get_data_yahoo(base_stock , start=\"1980-02-01\", end=\"2022-07-13\")"
      ],
      "metadata": {
        "colab": {
          "base_uri": "https://localhost:8080/"
        },
        "id": "gYedtCQNInuH",
        "outputId": "082bc150-7116-4ec9-a352-2e08d5080032"
      },
      "execution_count": null,
      "outputs": [
        {
          "output_type": "stream",
          "name": "stdout",
          "text": [
            "\r[*********************100%***********************]  1 of 1 completed\n"
          ]
        }
      ]
    },
    {
      "cell_type": "code",
      "source": [
        "del_arr = []\n",
        "for i in range(0, df.shape[0]):\n",
        "  if df.iloc[i][0] ==  df.iloc[i][1] == df.iloc[i][2] ==  df.iloc[i][3]:\n",
        "    del_arr.append(i)\n",
        ""
      ],
      "metadata": {
        "id": "9_H2UDUEfQWn"
      },
      "execution_count": null,
      "outputs": []
    },
    {
      "cell_type": "code",
      "source": [
        "# df = df.iloc[::-1]\n",
        "# print(df)"
      ],
      "metadata": {
        "id": "-BA_7E27gH1P"
      },
      "execution_count": null,
      "outputs": []
    },
    {
      "cell_type": "markdown",
      "source": [
        "#Feature Selection"
      ],
      "metadata": {
        "id": "Di-SJEx6apgh"
      }
    },
    {
      "cell_type": "markdown",
      "source": [
        "##What aer the different features we can use, keep in mind we want to solve the problem of scaling and predict tomorrow's price"
      ],
      "metadata": {
        "id": "sv97KRiAauBE"
      }
    },
    {
      "cell_type": "markdown",
      "source": [
        "**So what is the problem with scaling using minmaxscaler or standard scaler on general problems? **\n",
        "\n",
        "-> If we fit the scaler on Nifty data which ranges from (4000 to 11000), the newer stock values when transformed will have very low values (less pattern similarity corresponding to only 20% of initial training dataset).\n",
        "\n",
        "\n",
        "**What if we use different scalers?**\n",
        "\n",
        "-> Even if we use different scalers,\n",
        "\n",
        "  -> There is a problem of data not being normalized. The patterns in the chart will range from 0-0.3 (for first 20% data) and so on, be divided into brackets.\n",
        "\n",
        "**So we conclude we need to normalize the data. As we are only using univariate feature, what do you propose? **\n",
        "\n",
        "-> I propose 2 solutions,\n",
        "  \n",
        "  -> Create batches using unscaled data. Then scale the data on the individual batches. Handling only a single feature makes this task simpler as we can create batches with the targets, scale them, and then seperate them. We have 2 options for scaling, 1 would be use a standard scaler but in that case, we would have to store all the scalers (equal to the number of batches). What we can do instead is scale it ourselves using mean and std dv and store these values in a dictionary against batch number so original value can be retrieved after transformation. I will try the standardscaling function to check the mse, in my opinion it should perform better and give a lower mse value."
      ],
      "metadata": {
        "id": "Fs0yW7osa0l0"
      }
    },
    {
      "cell_type": "code",
      "source": [
        "plt.plot(df['Close'])\n",
        "plt.show()\n",
        "plt.plot(df['Open'])\n",
        "plt.show()"
      ],
      "metadata": {
        "colab": {
          "base_uri": "https://localhost:8080/"
        },
        "id": "C4LN5mVPaoeb",
        "outputId": "155e4383-0883-462f-a5db-4cb88d5af39a"
      },
      "execution_count": null,
      "outputs": [
        {
          "output_type": "display_data",
          "data": {
            "text/plain": [
              "<Figure size 640x480 with 1 Axes>"
            ],
            "image/png": "[encoded data removed]"
          },
          "metadata": {}
        },
        {
          "output_type": "display_data",
          "data": {
            "text/plain": [
              "<Figure size 640x480 with 1 Axes>"
            ],
            "image/png": "[encoded data removed]"
          },
          "metadata": {}
        }
      ]
    },
    {
      "cell_type": "markdown",
      "source": [
        "#Unconventional method of scaling using Open and Close\n"
      ],
      "metadata": {
        "id": "FXQmrz7WdTtG"
      }
    },
    {
      "cell_type": "markdown",
      "source": [
        "##Create Targets and scale the data"
      ],
      "metadata": {
        "id": "U3hNWupGdO4_"
      }
    },
    {
      "cell_type": "markdown",
      "source": [
        "The target is going to be next day's closing price. The batches will be create accordingly."
      ],
      "metadata": {
        "id": "NxQNNjvpdnOU"
      }
    },
    {
      "cell_type": "code",
      "source": [
        "df"
      ],
      "metadata": {
        "colab": {
          "base_uri": "https://localhost:8080/",
          "height": 455
        },
        "id": "B_-yODI4aoVz",
        "outputId": "9802d483-9805-4715-d3fb-05769fcb59ec"
      },
      "execution_count": null,
      "outputs": [
        {
          "output_type": "execute_result",
          "data": {
            "text/plain": [
              "                Open         High          Low        Close    Adj Close  \\\n",
              "Date                                                                       \n",
              "1996-01-01     3.030     3.030000     2.925000     2.980000     2.389958   \n",
              "1996-01-02     2.980     3.025000     2.950000     2.975000     2.385947   \n",
              "1996-01-03     2.975     2.995000     2.950000     2.985000     2.393967   \n",
              "1996-01-04     2.985     2.980000     2.940000     2.965000     2.377927   \n",
              "1996-01-05     2.965     2.980000     2.950000     2.960000     2.373918   \n",
              "...              ...          ...          ...          ...          ...   \n",
              "2022-07-06  1348.000  1373.400024  1347.099976  1371.250000  1371.250000   \n",
              "2022-07-07  1380.000  1398.000000  1374.449951  1395.800049  1395.800049   \n",
              "2022-07-08  1410.000  1410.000000  1394.750000  1397.099976  1397.099976   \n",
              "2022-07-11  1394.000  1409.900024  1393.250000  1406.150024  1406.150024   \n",
              "2022-07-12  1405.250  1405.250000  1389.400024  1391.800049  1391.800049   \n",
              "\n",
              "             Volume  \n",
              "Date                 \n",
              "1996-01-01   350000  \n",
              "1996-01-02   412000  \n",
              "1996-01-03   284000  \n",
              "1996-01-04   282000  \n",
              "1996-01-05   189000  \n",
              "...             ...  \n",
              "2022-07-06  7524539  \n",
              "2022-07-07  8871571  \n",
              "2022-07-08  6237015  \n",
              "2022-07-11  3731416  \n",
              "2022-07-12  4938487  \n",
              "\n",
              "[6676 rows x 6 columns]"
            ],
            "text/html": [
              "\n",
              "  <div id=\"df-288859c3-49b6-4c0e-bf72-a1ffa5335c61\">\n",
              "    <div class=\"colab-df-container\">\n",
              "      <div>\n",
              "<style scoped>\n",
              "    .dataframe tbody tr th:only-of-type {\n",
              "        vertical-align: middle;\n",
              "    }\n",
              "\n",
              "    .dataframe tbody tr th {\n",
              "        vertical-align: top;\n",
              "    }\n",
              "\n",
              "    .dataframe thead th {\n",
              "        text-align: right;\n",
              "    }\n",
              "</style>\n",
              "<table border=\"1\" class=\"dataframe\">\n",
              "  <thead>\n",
              "    <tr style=\"text-align: right;\">\n",
              "      <th></th>\n",
              "      <th>Open</th>\n",
              "      <th>High</th>\n",
              "      <th>Low</th>\n",
              "      <th>Close</th>\n",
              "      <th>Adj Close</th>\n",
              "      <th>Volume</th>\n",
              "    </tr>\n",
              "    <tr>\n",
              "      <th>Date</th>\n",
              "      <th></th>\n",
              "      <th></th>\n",
              "      <th></th>\n",
              "      <th></th>\n",
              "      <th></th>\n",
              "      <th></th>\n",
              "    </tr>\n",
              "  </thead>\n",
              "  <tbody>\n",
              "    <tr>\n",
              "      <th>1996-01-01</th>\n",
              "      <td>3.030</td>\n",
              "      <td>3.030000</td>\n",
              "      <td>2.925000</td>\n",
              "      <td>2.980000</td>\n",
              "      <td>2.389958</td>\n",
              "      <td>350000</td>\n",
              "    </tr>\n",
              "    <tr>\n",
              "      <th>1996-01-02</th>\n",
              "      <td>2.980</td>\n",
              "      <td>3.025000</td>\n",
              "      <td>2.950000</td>\n",
              "      <td>2.975000</td>\n",
              "      <td>2.385947</td>\n",
              "      <td>412000</td>\n",
              "    </tr>\n",
              "    <tr>\n",
              "      <th>1996-01-03</th>\n",
              "      <td>2.975</td>\n",
              "      <td>2.995000</td>\n",
              "      <td>2.950000</td>\n",
              "      <td>2.985000</td>\n",
              "      <td>2.393967</td>\n",
              "      <td>284000</td>\n",
              "    </tr>\n",
              "    <tr>\n",
              "      <th>1996-01-04</th>\n",
              "      <td>2.985</td>\n",
              "      <td>2.980000</td>\n",
              "      <td>2.940000</td>\n",
              "      <td>2.965000</td>\n",
              "      <td>2.377927</td>\n",
              "      <td>282000</td>\n",
              "    </tr>\n",
              "    <tr>\n",
              "      <th>1996-01-05</th>\n",
              "      <td>2.965</td>\n",
              "      <td>2.980000</td>\n",
              "      <td>2.950000</td>\n",
              "      <td>2.960000</td>\n",
              "      <td>2.373918</td>\n",
              "      <td>189000</td>\n",
              "    </tr>\n",
              "    <tr>\n",
              "      <th>...</th>\n",
              "      <td>...</td>\n",
              "      <td>...</td>\n",
              "      <td>...</td>\n",
              "      <td>...</td>\n",
              "      <td>...</td>\n",
              "      <td>...</td>\n",
              "    </tr>\n",
              "    <tr>\n",
              "      <th>2022-07-06</th>\n",
              "      <td>1348.000</td>\n",
              "      <td>1373.400024</td>\n",
              "      <td>1347.099976</td>\n",
              "      <td>1371.250000</td>\n",
              "      <td>1371.250000</td>\n",
              "      <td>7524539</td>\n",
              "    </tr>\n",
              "    <tr>\n",
              "      <th>2022-07-07</th>\n",
              "      <td>1380.000</td>\n",
              "      <td>1398.000000</td>\n",
              "      <td>1374.449951</td>\n",
              "      <td>1395.800049</td>\n",
              "      <td>1395.800049</td>\n",
              "      <td>8871571</td>\n",
              "    </tr>\n",
              "    <tr>\n",
              "      <th>2022-07-08</th>\n",
              "      <td>1410.000</td>\n",
              "      <td>1410.000000</td>\n",
              "      <td>1394.750000</td>\n",
              "      <td>1397.099976</td>\n",
              "      <td>1397.099976</td>\n",
              "      <td>6237015</td>\n",
              "    </tr>\n",
              "    <tr>\n",
              "      <th>2022-07-11</th>\n",
              "      <td>1394.000</td>\n",
              "      <td>1409.900024</td>\n",
              "      <td>1393.250000</td>\n",
              "      <td>1406.150024</td>\n",
              "      <td>1406.150024</td>\n",
              "      <td>3731416</td>\n",
              "    </tr>\n",
              "    <tr>\n",
              "      <th>2022-07-12</th>\n",
              "      <td>1405.250</td>\n",
              "      <td>1405.250000</td>\n",
              "      <td>1389.400024</td>\n",
              "      <td>1391.800049</td>\n",
              "      <td>1391.800049</td>\n",
              "      <td>4938487</td>\n",
              "    </tr>\n",
              "  </tbody>\n",
              "</table>\n",
              "<p>6676 rows × 6 columns</p>\n",
              "</div>\n",
              "      <button class=\"colab-df-convert\" onclick=\"convertToInteractive('df-288859c3-49b6-4c0e-bf72-a1ffa5335c61')\"\n",
              "              title=\"Convert this dataframe to an interactive table.\"\n",
              "              style=\"display:none;\">\n",
              "        \n",
              "  <svg xmlns=\"http://www.w3.org/2000/svg\" height=\"24px\"viewBox=\"0 0 24 24\"\n",
              "       width=\"24px\">\n",
              "    <path d=\"M0 0h24v24H0V0z\" fill=\"none\"/>\n",
              "    <path d=\"M18.56 5.44l.94 2.06.94-2.06 2.06-.94-2.06-.94-.94-2.06-.94 2.06-2.06.94zm-11 1L8.5 8.5l.94-2.06 2.06-.94-2.06-.94L8.5 2.5l-.94 2.06-2.06.94zm10 10l.94 2.06.94-2.06 2.06-.94-2.06-.94-.94-2.06-.94 2.06-2.06.94z\"/><path d=\"M17.41 7.96l-1.37-1.37c-.4-.4-.92-.59-1.43-.59-.52 0-1.04.2-1.43.59L10.3 9.45l-7.72 7.72c-.78.78-.78 2.05 0 2.83L4 21.41c.39.39.9.59 1.41.59.51 0 1.02-.2 1.41-.59l7.78-7.78 2.81-2.81c.8-.78.8-2.07 0-2.86zM5.41 20L4 18.59l7.72-7.72 1.47 1.35L5.41 20z\"/>\n",
              "  </svg>\n",
              "      </button>\n",
              "      \n",
              "  <style>\n",
              "    .colab-df-container {\n",
              "      display:flex;\n",
              "      flex-wrap:wrap;\n",
              "      gap: 12px;\n",
              "    }\n",
              "\n",
              "    .colab-df-convert {\n",
              "      background-color: #E8F0FE;\n",
              "      border: none;\n",
              "      border-radius: 50%;\n",
              "      cursor: pointer;\n",
              "      display: none;\n",
              "      fill: #1967D2;\n",
              "      height: 32px;\n",
              "      padding: 0 0 0 0;\n",
              "      width: 32px;\n",
              "    }\n",
              "\n",
              "    .colab-df-convert:hover {\n",
              "      background-color: #E2EBFA;\n",
              "      box-shadow: 0px 1px 2px rgba(60, 64, 67, 0.3), 0px 1px 3px 1px rgba(60, 64, 67, 0.15);\n",
              "      fill: #174EA6;\n",
              "    }\n",
              "\n",
              "    [theme=dark] .colab-df-convert {\n",
              "      background-color: #3B4455;\n",
              "      fill: #D2E3FC;\n",
              "    }\n",
              "\n",
              "    [theme=dark] .colab-df-convert:hover {\n",
              "      background-color: #434B5C;\n",
              "      box-shadow: 0px 1px 3px 1px rgba(0, 0, 0, 0.15);\n",
              "      filter: drop-shadow(0px 1px 2px rgba(0, 0, 0, 0.3));\n",
              "      fill: #FFFFFF;\n",
              "    }\n",
              "  </style>\n",
              "\n",
              "      <script>\n",
              "        const buttonEl =\n",
              "          document.querySelector('#df-288859c3-49b6-4c0e-bf72-a1ffa5335c61 button.colab-df-convert');\n",
              "        buttonEl.style.display =\n",
              "          google.colab.kernel.accessAllowed ? 'block' : 'none';\n",
              "\n",
              "        async function convertToInteractive(key) {\n",
              "          const element = document.querySelector('#df-288859c3-49b6-4c0e-bf72-a1ffa5335c61');\n",
              "          const dataTable =\n",
              "            await google.colab.kernel.invokeFunction('convertToInteractive',\n",
              "                                                     [key], {});\n",
              "          if (!dataTable) return;\n",
              "\n",
              "          const docLinkHtml = 'Like what you see? Visit the ' +\n",
              "            '<a target=\"_blank\" href=https://colab.research.google.com/notebooks/data_table.ipynb>data table notebook</a>'\n",
              "            + ' to learn more about interactive tables.';\n",
              "          element.innerHTML = '';\n",
              "          dataTable['output_type'] = 'display_data';\n",
              "          await google.colab.output.renderOutput(dataTable, element);\n",
              "          const docLink = document.createElement('div');\n",
              "          docLink.innerHTML = docLinkHtml;\n",
              "          element.appendChild(docLink);\n",
              "        }\n",
              "      </script>\n",
              "    </div>\n",
              "  </div>\n",
              "  "
            ]
          },
          "metadata": {},
          "execution_count": 58
        }
      ]
    },
    {
      "cell_type": "code",
      "source": [
        "feature = np.array(df[['Open', 'Close']])\n",
        "\n",
        "print(feature.shape)\n",
        "\n",
        "import math\n",
        "\n",
        "training_data_len = math.ceil(feature.shape[0] *0.8)\n",
        "print(training_data_len)\n",
        "training_data = feature[:training_data_len]\n",
        "testing_data = feature[training_data_len:]\n",
        "print(training_data.shape, testing_data.shape)"
      ],
      "metadata": {
        "colab": {
          "base_uri": "https://localhost:8080/"
        },
        "id": "v7ayHSAzaoS6",
        "outputId": "657314f0-36cc-4c50-a3b1-19544f8b5326"
      },
      "execution_count": null,
      "outputs": [
        {
          "output_type": "stream",
          "name": "stdout",
          "text": [
            "(6676, 2)\n",
            "5341\n",
            "(5341, 2) (1335, 2)\n"
          ]
        }
      ]
    },
    {
      "cell_type": "code",
      "source": [
        "batches_training = []\n",
        "targets_training = []\n",
        "\n",
        "for i in range(30,len(training_data)):\n",
        "    buffer_array = list(training_data[i-30:i])\n",
        "    targets_training.append(training_data[i][0])\n",
        "    batches_training.append(buffer_array)\n",
        "\n",
        "print(np.array(batches_training).shape, np.array(targets_training).shape)"
      ],
      "metadata": {
        "colab": {
          "base_uri": "https://localhost:8080/"
        },
        "id": "R_3qCEK8aoPd",
        "outputId": "951332ab-1773-4917-ef7e-6d2e5c2aa749"
      },
      "execution_count": null,
      "outputs": [
        {
          "output_type": "stream",
          "name": "stdout",
          "text": [
            "(5311, 30, 2) (5311,)\n"
          ]
        }
      ]
    },
    {
      "cell_type": "code",
      "source": [
        "#Define batch scaling function\n",
        "scaled_training_data = []\n",
        "scaled_training_targets = []\n",
        "\n",
        "def scale(x, buffer_target):\n",
        "  seq_x = np.array(x)\n",
        "  max_x = np.amax(seq_x)\n",
        "  min_x = np.amin(seq_x)\n",
        "  new_seq = []\n",
        "  for j in seq_x:\n",
        "    buffer_seq = []\n",
        "    for k in j:\n",
        "      new_k = (k-min_x)/(max_x-min_x)\n",
        "      buffer_seq.append(new_k)\n",
        "    new_seq.append(buffer_seq)\n",
        "  scaled_target = (buffer_target-min_x)/(max_x-min_x)\n",
        "  return new_seq, scaled_target\n",
        "\n",
        "for i in range(0, len(batches_training)):\n",
        "  seq = batches_training[i]\n",
        "  buffer_target = targets_training[i]\n",
        "  new_seq, scaled_target = scale(seq, buffer_target)\n",
        "  scaled_training_data.append(new_seq)\n",
        "  scaled_training_targets.append(scaled_target)\n",
        "\n",
        "x_train = np.array(scaled_training_data)\n",
        "y_train = np.array(scaled_training_targets)\n",
        "\n",
        "print(np.array(scaled_training_data).shape, np.array(scaled_training_targets).shape)"
      ],
      "metadata": {
        "id": "4SpQasOltCwX",
        "colab": {
          "base_uri": "https://localhost:8080/"
        },
        "outputId": "47b7f8ef-9196-4da7-c97b-90070178e42b"
      },
      "execution_count": null,
      "outputs": [
        {
          "output_type": "stream",
          "name": "stdout",
          "text": [
            "(5311, 30, 2) (5311,)\n"
          ]
        }
      ]
    },
    {
      "cell_type": "code",
      "source": [
        "plt.plot(pd.DataFrame(batches_training[0])[1])\n",
        "plt.show()\n",
        "plt.plot(pd.DataFrame(scaled_training_data[0])[1])\n",
        "plt.show()"
      ],
      "metadata": {
        "colab": {
          "base_uri": "https://localhost:8080/",
          "height": 843
        },
        "id": "q5VHX4vQADXi",
        "outputId": "49b112b5-617d-4dca-c34c-33d476e7083a"
      },
      "execution_count": null,
      "outputs": [
        {
          "output_type": "display_data",
          "data": {
            "text/plain": [
              "<Figure size 640x480 with 1 Axes>"
            ],
            "image/png": "[encoded data removed]"
          },
          "metadata": {}
        },
        {
          "output_type": "display_data",
          "data": {
            "text/plain": [
              "<Figure size 640x480 with 1 Axes>"
            ],
            "image/png": "[encoded data removed]"
          },
          "metadata": {}
        }
      ]
    },
    {
      "cell_type": "code",
      "source": [
        "# np.array(scaled_data).shape\n",
        "\n",
        "# x_train = []\n",
        "# y_train = []\n",
        "# for i in range(0, len(scaled_data)):\n",
        "#     seq = scaled_data[i]\n",
        "#     x_train.append(seq[0:-1])\n",
        "#     y_train.append(seq[-1])\n",
        "\n",
        "# x_train, y_train = np.array(x_train), np.array(y_train)\n",
        "# x_train = np.reshape(x_train, (x_train.shape[0], x_train.shape[1], 1))\n",
        "# print(x_train.shape, y_train.shape)"
      ],
      "metadata": {
        "id": "LASqogbfvYBX"
      },
      "execution_count": null,
      "outputs": []
    },
    {
      "cell_type": "markdown",
      "source": [
        "##Model Architecture"
      ],
      "metadata": {
        "id": "26EduoKYvRg8"
      }
    },
    {
      "cell_type": "code",
      "source": [
        "model = Sequential()\n",
        "model.add(LSTM(units=50, return_sequences=True))\n",
        "model.add(LSTM(units=50, return_sequences=False))\n",
        "model.add(Dense(units=25))\n",
        "model.add(Dense(units=1))\n",
        "\n",
        "model.compile(optimizer='adam', loss='mean_squared_error')\n",
        "## epochs = 9\n",
        "history = model.fit(x_train, y_train, batch_size=256, epochs=40, validation_split=0.2)"
      ],
      "metadata": {
        "colab": {
          "base_uri": "https://localhost:8080/"
        },
        "id": "4xDdES0utCq6",
        "outputId": "f4fcfd8a-e02e-468b-ee0a-51a1e9960321"
      },
      "execution_count": null,
      "outputs": [
        {
          "output_type": "stream",
          "name": "stdout",
          "text": [
            "Epoch 1/40\n",
            "17/17 [==============================] - 13s 348ms/step - loss: 0.1320 - val_loss: 0.0849\n",
            "Epoch 2/40\n",
            "17/17 [==============================] - 5s 314ms/step - loss: 0.0671 - val_loss: 0.0536\n",
            "Epoch 3/40\n",
            "17/17 [==============================] - 4s 258ms/step - loss: 0.0526 - val_loss: 0.0415\n",
            "Epoch 4/40\n",
            "17/17 [==============================] - 4s 265ms/step - loss: 0.0441 - val_loss: 0.0344\n",
            "Epoch 5/40\n",
            "17/17 [==============================] - 6s 364ms/step - loss: 0.0392 - val_loss: 0.0312\n",
            "Epoch 6/40\n",
            "17/17 [==============================] - 4s 243ms/step - loss: 0.0358 - val_loss: 0.0281\n",
            "Epoch 7/40\n",
            "17/17 [==============================] - 2s 137ms/step - loss: 0.0323 - val_loss: 0.0246\n",
            "Epoch 8/40\n",
            "17/17 [==============================] - 2s 123ms/step - loss: 0.0290 - val_loss: 0.0213\n",
            "Epoch 9/40\n",
            "17/17 [==============================] - 5s 295ms/step - loss: 0.0254 - val_loss: 0.0193\n",
            "Epoch 10/40\n",
            "17/17 [==============================] - 4s 239ms/step - loss: 0.0225 - val_loss: 0.0155\n",
            "Epoch 11/40\n",
            "17/17 [==============================] - 4s 263ms/step - loss: 0.0197 - val_loss: 0.0140\n",
            "Epoch 12/40\n",
            "17/17 [==============================] - 5s 299ms/step - loss: 0.0174 - val_loss: 0.0120\n",
            "Epoch 13/40\n",
            "17/17 [==============================] - 4s 257ms/step - loss: 0.0158 - val_loss: 0.0104\n",
            "Epoch 14/40\n",
            "17/17 [==============================] - 3s 173ms/step - loss: 0.0135 - val_loss: 0.0078\n",
            "Epoch 15/40\n",
            "17/17 [==============================] - 2s 124ms/step - loss: 0.0117 - val_loss: 0.0068\n",
            "Epoch 16/40\n",
            "17/17 [==============================] - 4s 209ms/step - loss: 0.0113 - val_loss: 0.0064\n",
            "Epoch 17/40\n",
            "17/17 [==============================] - 2s 123ms/step - loss: 0.0105 - val_loss: 0.0057\n",
            "Epoch 18/40\n",
            "17/17 [==============================] - 2s 123ms/step - loss: 0.0103 - val_loss: 0.0056\n",
            "Epoch 19/40\n",
            "17/17 [==============================] - 2s 121ms/step - loss: 0.0103 - val_loss: 0.0068\n",
            "Epoch 20/40\n",
            "17/17 [==============================] - 2s 128ms/step - loss: 0.0106 - val_loss: 0.0057\n",
            "Epoch 21/40\n",
            "17/17 [==============================] - 3s 187ms/step - loss: 0.0102 - val_loss: 0.0056\n",
            "Epoch 22/40\n",
            "17/17 [==============================] - 5s 275ms/step - loss: 0.0101 - val_loss: 0.0057\n",
            "Epoch 23/40\n",
            "17/17 [==============================] - 4s 236ms/step - loss: 0.0102 - val_loss: 0.0062\n",
            "Epoch 24/40\n",
            "17/17 [==============================] - 2s 119ms/step - loss: 0.0102 - val_loss: 0.0056\n",
            "Epoch 25/40\n",
            "17/17 [==============================] - 4s 257ms/step - loss: 0.0099 - val_loss: 0.0057\n",
            "Epoch 26/40\n",
            "17/17 [==============================] - 4s 227ms/step - loss: 0.0102 - val_loss: 0.0071\n",
            "Epoch 27/40\n",
            "17/17 [==============================] - 4s 212ms/step - loss: 0.0102 - val_loss: 0.0097\n",
            "Epoch 28/40\n",
            "17/17 [==============================] - 2s 131ms/step - loss: 0.0110 - val_loss: 0.0070\n",
            "Epoch 29/40\n",
            "17/17 [==============================] - 4s 232ms/step - loss: 0.0102 - val_loss: 0.0061\n",
            "Epoch 30/40\n",
            "17/17 [==============================] - 2s 120ms/step - loss: 0.0100 - val_loss: 0.0061\n",
            "Epoch 31/40\n",
            "17/17 [==============================] - 2s 127ms/step - loss: 0.0107 - val_loss: 0.0056\n",
            "Epoch 32/40\n",
            "17/17 [==============================] - 2s 123ms/step - loss: 0.0104 - val_loss: 0.0058\n",
            "Epoch 33/40\n",
            "17/17 [==============================] - 2s 120ms/step - loss: 0.0098 - val_loss: 0.0056\n",
            "Epoch 34/40\n",
            "17/17 [==============================] - 2s 144ms/step - loss: 0.0098 - val_loss: 0.0056\n",
            "Epoch 35/40\n",
            "17/17 [==============================] - 3s 184ms/step - loss: 0.0101 - val_loss: 0.0073\n",
            "Epoch 36/40\n",
            "17/17 [==============================] - 2s 119ms/step - loss: 0.0105 - val_loss: 0.0058\n",
            "Epoch 37/40\n",
            "17/17 [==============================] - 3s 155ms/step - loss: 0.0099 - val_loss: 0.0062\n",
            "Epoch 38/40\n",
            "17/17 [==============================] - 2s 120ms/step - loss: 0.0102 - val_loss: 0.0056\n",
            "Epoch 39/40\n",
            "17/17 [==============================] - 2s 121ms/step - loss: 0.0110 - val_loss: 0.0078\n",
            "Epoch 40/40\n",
            "17/17 [==============================] - 3s 205ms/step - loss: 0.0103 - val_loss: 0.0058\n"
          ]
        }
      ]
    },
    {
      "cell_type": "code",
      "source": [
        "plt.plot(history.history['loss'])\n",
        "plt.plot(history.history['val_loss'])\n",
        "plt.show()"
      ],
      "metadata": {
        "colab": {
          "base_uri": "https://localhost:8080/"
        },
        "id": "JYz7lESotCnR",
        "outputId": "43250823-ca96-427f-a1c8-bc7a5d914ae0"
      },
      "execution_count": null,
      "outputs": [
        {
          "output_type": "display_data",
          "data": {
            "text/plain": [
              "<Figure size 640x480 with 1 Axes>"
            ],
            "image/png": "[encoded data removed]"
          },
          "metadata": {}
        }
      ]
    },
    {
      "cell_type": "markdown",
      "source": [
        "##Creating testing batches"
      ],
      "metadata": {
        "id": "f_V9oPXvwrRZ"
      }
    },
    {
      "cell_type": "code",
      "source": [
        "batches_testing = []\n",
        "targets_testing = []\n",
        "\n",
        "for i in range(30,len(testing_data)):\n",
        "    buffer_array = list(testing_data[i-30:i])\n",
        "    targets_testing.append(testing_data[i][0])\n",
        "    batches_testing.append(buffer_array)\n",
        "\n",
        "print(np.array(batches_testing).shape, np.array(targets_testing).shape)"
      ],
      "metadata": {
        "colab": {
          "base_uri": "https://localhost:8080/"
        },
        "id": "cG4bgXe0wslK",
        "outputId": "ed2cd0b6-9416-4ed6-9f96-6ff23c980d28"
      },
      "execution_count": null,
      "outputs": [
        {
          "output_type": "stream",
          "name": "stdout",
          "text": [
            "(1305, 30, 2) (1305,)\n"
          ]
        }
      ]
    },
    {
      "cell_type": "code",
      "source": [
        "#Define batch scaling function\n",
        "scaled_testing_data = []\n",
        "scaled_testing_targets = []\n",
        "\n",
        "scaling_dict = {}\n",
        "def inverse_scale_data(x, min_x, max_x):\n",
        "  orig_seq = []\n",
        "  for j in x:\n",
        "    buffer_array = []\n",
        "    for k in j:\n",
        "      orig_k = k*(max_x-min_x) + min_x\n",
        "      buffer_array.append(orig_k)\n",
        "    orig_seq.append(buffer_array)\n",
        "  return orig_seq\n",
        "\n",
        "def inverse_scale_target(x, min_x, max_x):\n",
        "  orig_x = x*(max_x-min_x) + min_x\n",
        "  return orig_x\n",
        "\n",
        "\n",
        "def scale(x, buffer_target,i):\n",
        "  seq_x = np.array(x)\n",
        "  max_x = np.amax(seq_x)\n",
        "  min_x = np.amin(seq_x)\n",
        "  scaling_dict[i] = (min_x, max_x)\n",
        "  new_seq = []\n",
        "  for j in seq_x:\n",
        "    buffer_seq = []\n",
        "    for k in j:\n",
        "      new_k = (k-min_x)/(max_x-min_x)\n",
        "      buffer_seq.append(new_k)\n",
        "    new_seq.append(buffer_seq)\n",
        "  scaled_target = (buffer_target-min_x)/(max_x-min_x)\n",
        "  return new_seq, scaled_target\n",
        "\n",
        "\n",
        "for i in range(0, len(batches_testing)):\n",
        "  seq = batches_testing[i]\n",
        "  buffer_target = targets_testing[i]\n",
        "  new_seq, scaled_target = scale(seq, buffer_target, i)\n",
        "  scaled_testing_data.append(new_seq)\n",
        "  scaled_testing_targets.append(scaled_target)\n",
        "\n",
        "print(np.array(scaled_testing_data).shape, np.array(scaled_testing_targets).shape)"
      ],
      "metadata": {
        "id": "X221pfTcwrI7",
        "colab": {
          "base_uri": "https://localhost:8080/"
        },
        "outputId": "d3a10adb-ad0e-49f9-b7f7-6bd151134f9a"
      },
      "execution_count": null,
      "outputs": [
        {
          "output_type": "stream",
          "name": "stdout",
          "text": [
            "(1305, 30, 2) (1305,)\n"
          ]
        }
      ]
    },
    {
      "cell_type": "code",
      "source": [
        "len(scaling_dict.keys())"
      ],
      "metadata": {
        "colab": {
          "base_uri": "https://localhost:8080/"
        },
        "id": "396CsD_lE5TH",
        "outputId": "182b6598-f16d-492e-9f8f-f1fcc7f2e7ee"
      },
      "execution_count": null,
      "outputs": [
        {
          "output_type": "execute_result",
          "data": {
            "text/plain": [
              "1305"
            ]
          },
          "metadata": {},
          "execution_count": 68
        }
      ]
    },
    {
      "cell_type": "code",
      "source": [
        "plt.plot(pd.DataFrame(batches_testing[0])[1])\n",
        "plt.show()\n",
        "plt.plot(pd.DataFrame(scaled_testing_data[0])[1])\n",
        "plt.show()"
      ],
      "metadata": {
        "colab": {
          "base_uri": "https://localhost:8080/"
        },
        "id": "6Za7KbuowrGj",
        "outputId": "443f83e0-f8ba-48dc-ebdb-d0bb5401721d"
      },
      "execution_count": null,
      "outputs": [
        {
          "output_type": "display_data",
          "data": {
            "text/plain": [
              "<Figure size 640x480 with 1 Axes>"
            ],
            "image/png": "[encoded data removed]"
          },
          "metadata": {}
        },
        {
          "output_type": "display_data",
          "data": {
            "text/plain": [
              "<Figure size 640x480 with 1 Axes>"
            ],
            "image/png": "[encoded data removed]"
          },
          "metadata": {}
        }
      ]
    },
    {
      "cell_type": "code",
      "source": [
        "dict_values = list(scaling_dict[0])\n",
        "\n",
        "or_seq = inverse_scale_data(scaled_testing_data[0], dict_values[0], dict_values[1])\n",
        "print(np.array(or_seq).shape)\n",
        "plt.plot(pd.DataFrame(batches_testing[0])[1])\n",
        "plt.show()\n",
        "plt.plot(pd.DataFrame(or_seq)[1])\n",
        "plt.show()"
      ],
      "metadata": {
        "id": "SRgBoul1zLjG",
        "colab": {
          "base_uri": "https://localhost:8080/"
        },
        "outputId": "748b4dee-f988-4a46-83fd-b790c2060f56"
      },
      "execution_count": null,
      "outputs": [
        {
          "output_type": "stream",
          "name": "stdout",
          "text": [
            "(30, 2)\n"
          ]
        },
        {
          "output_type": "display_data",
          "data": {
            "text/plain": [
              "<Figure size 640x480 with 1 Axes>"
            ],
            "image/png": "[encoded data removed]"
          },
          "metadata": {}
        },
        {
          "output_type": "display_data",
          "data": {
            "text/plain": [
              "<Figure size 640x480 with 1 Axes>"
            ],
            "image/png": "[encoded data removed]"
          },
          "metadata": {}
        }
      ]
    },
    {
      "cell_type": "code",
      "source": [
        "x_test = np.array(scaled_testing_data)\n",
        "y_test = np.array(scaled_testing_targets)\n",
        "\n",
        "print(x_test.shape, y_test.shape)"
      ],
      "metadata": {
        "colab": {
          "base_uri": "https://localhost:8080/"
        },
        "id": "174OWMg6Em5J",
        "outputId": "3199c23b-edcc-4e5f-b2c6-15ad86bb19d4"
      },
      "execution_count": null,
      "outputs": [
        {
          "output_type": "stream",
          "name": "stdout",
          "text": [
            "(1305, 30, 2) (1305,)\n"
          ]
        }
      ]
    },
    {
      "cell_type": "markdown",
      "source": [
        "##Testing"
      ],
      "metadata": {
        "id": "ai3efM0J2dOW"
      }
    },
    {
      "cell_type": "code",
      "source": [
        "base_stock_eval = model.evaluate(x_test, y_test)"
      ],
      "metadata": {
        "colab": {
          "base_uri": "https://localhost:8080/"
        },
        "id": "WNbzWnHyam7W",
        "outputId": "f8c9d5a5-8797-4be8-b55a-0352590de31e"
      },
      "execution_count": null,
      "outputs": [
        {
          "output_type": "stream",
          "name": "stdout",
          "text": [
            "41/41 [==============================] - 1s 13ms/step - loss: 0.0069\n"
          ]
        }
      ]
    },
    {
      "cell_type": "code",
      "source": [
        "prediction_list = model.predict(x_test)\n"
      ],
      "metadata": {
        "colab": {
          "base_uri": "https://localhost:8080/"
        },
        "id": "vbLAfQz6woBI",
        "outputId": "9c904957-4ee9-4287-8cf3-d627277498b8"
      },
      "execution_count": null,
      "outputs": [
        {
          "output_type": "stream",
          "name": "stdout",
          "text": [
            "41/41 [==============================] - 1s 11ms/step\n"
          ]
        }
      ]
    },
    {
      "cell_type": "code",
      "source": [
        "transformed_prediction_list = []\n",
        "\n",
        "for i in range(0,len(prediction_list)):\n",
        "    dict_values = list(scaling_dict[i])\n",
        "    or_seq = inverse_scale_target(prediction_list[i], dict_values[0], dict_values[1])\n",
        "    transformed_prediction_list.append(or_seq)"
      ],
      "metadata": {
        "id": "s3ZOf1ynx8R2"
      },
      "execution_count": null,
      "outputs": []
    },
    {
      "cell_type": "code",
      "source": [
        "print(len(transformed_prediction_list), len(testing_data[30:]))\n",
        "plt.plot(transformed_prediction_list)\n",
        "plt.plot(pd.DataFrame(testing_data[30:])[0])"
      ],
      "metadata": {
        "colab": {
          "base_uri": "https://localhost:8080/"
        },
        "id": "e_AqKV6a07Zg",
        "outputId": "1824e524-13cf-4114-8a5e-7b647eb69778"
      },
      "execution_count": null,
      "outputs": [
        {
          "output_type": "stream",
          "name": "stdout",
          "text": [
            "1305 1305\n"
          ]
        },
        {
          "output_type": "execute_result",
          "data": {
            "text/plain": [
              "[<matplotlib.lines.Line2D at 0x7fa603d524a0>]"
            ]
          },
          "metadata": {},
          "execution_count": 75
        },
        {
          "output_type": "display_data",
          "data": {
            "text/plain": [
              "<Figure size 640x480 with 1 Axes>"
            ],
            "image/png": "[encoded data removed]"
          },
          "metadata": {}
        }
      ]
    },
    {
      "cell_type": "code",
      "source": [
        "transformed_prediction_list = np.array(transformed_prediction_list)\n",
        "testing_data_np = np.array(testing_data[30:][0])\n",
        "\n",
        "print(transformed_prediction_list.shape, testing_data_np.shape)\n",
        "error = 0\n",
        "for i in range(0,len(testing_data_np)):\n",
        "  buffer_error = math.sqrt((transformed_prediction_list[i] - testing_data_np[i])*(transformed_prediction_list[i] - testing_data_np[i]))\n",
        "  error += buffer_error\n",
        "\n",
        "base_stock_rmse = error/len(testing_data_np)\n",
        "print(\"Final rmse: \", error/len(testing_data_np))"
      ],
      "metadata": {
        "colab": {
          "base_uri": "https://localhost:8080/"
        },
        "id": "SQMUojCJ1X3D",
        "outputId": "fa036931-6653-4fce-b20c-545c74b0d0f8"
      },
      "execution_count": null,
      "outputs": [
        {
          "output_type": "stream",
          "name": "stdout",
          "text": [
            "(1305, 1) (2,)\n",
            "Final rmse:  1.6295776593932856\n"
          ]
        }
      ]
    },
    {
      "cell_type": "code",
      "source": [
        "preds, actual_close = pd.DataFrame(np.array(transformed_prediction_list)), pd.DataFrame(np.array(testing_data[30:]))"
      ],
      "metadata": {
        "id": "trnbOdkl1ZIe"
      },
      "execution_count": null,
      "outputs": []
    },
    {
      "cell_type": "code",
      "source": [
        "dataframe = pd.concat([preds, actual_close], axis=1)"
      ],
      "metadata": {
        "id": "M6Xbpvvy1ZIg"
      },
      "execution_count": null,
      "outputs": []
    },
    {
      "cell_type": "code",
      "source": [
        "dataframe.columns = ['preds', 'actual open', 'actual close']\n",
        "dataframe"
      ],
      "metadata": {
        "colab": {
          "base_uri": "https://localhost:8080/"
        },
        "outputId": "cad5aa01-0fea-402b-eb8f-e3f03119202b",
        "id": "QNK0EwnE1ZIg"
      },
      "execution_count": null,
      "outputs": [
        {
          "output_type": "execute_result",
          "data": {
            "text/plain": [
              "            preds  actual open  actual close\n",
              "0      720.833191   723.000000    716.599976\n",
              "1      717.692322   717.625000    716.174988\n",
              "2      717.173584   715.750000    719.250000\n",
              "3      720.125244   715.525024    719.424988\n",
              "4      720.150452   721.500000    717.075012\n",
              "...           ...          ...           ...\n",
              "1300  1355.973755  1348.000000   1371.250000\n",
              "1301  1374.622925  1380.000000   1395.800049\n",
              "1302  1399.395508  1410.000000   1397.099976\n",
              "1303  1399.900635  1394.000000   1406.150024\n",
              "1304  1408.851074  1405.250000   1391.800049\n",
              "\n",
              "[1305 rows x 3 columns]"
            ],
            "text/html": [
              "\n",
              "  <div id=\"df-dcd10fdf-2c46-42ed-b6da-96a453f276d2\">\n",
              "    <div class=\"colab-df-container\">\n",
              "      <div>\n",
              "<style scoped>\n",
              "    .dataframe tbody tr th:only-of-type {\n",
              "        vertical-align: middle;\n",
              "    }\n",
              "\n",
              "    .dataframe tbody tr th {\n",
              "        vertical-align: top;\n",
              "    }\n",
              "\n",
              "    .dataframe thead th {\n",
              "        text-align: right;\n",
              "    }\n",
              "</style>\n",
              "<table border=\"1\" class=\"dataframe\">\n",
              "  <thead>\n",
              "    <tr style=\"text-align: right;\">\n",
              "      <th></th>\n",
              "      <th>preds</th>\n",
              "      <th>actual open</th>\n",
              "      <th>actual close</th>\n",
              "    </tr>\n",
              "  </thead>\n",
              "  <tbody>\n",
              "    <tr>\n",
              "      <th>0</th>\n",
              "      <td>720.833191</td>\n",
              "      <td>723.000000</td>\n",
              "      <td>716.599976</td>\n",
              "    </tr>\n",
              "    <tr>\n",
              "      <th>1</th>\n",
              "      <td>717.692322</td>\n",
              "      <td>717.625000</td>\n",
              "      <td>716.174988</td>\n",
              "    </tr>\n",
              "    <tr>\n",
              "      <th>2</th>\n",
              "      <td>717.173584</td>\n",
              "      <td>715.750000</td>\n",
              "      <td>719.250000</td>\n",
              "    </tr>\n",
              "    <tr>\n",
              "      <th>3</th>\n",
              "      <td>720.125244</td>\n",
              "      <td>715.525024</td>\n",
              "      <td>719.424988</td>\n",
              "    </tr>\n",
              "    <tr>\n",
              "      <th>4</th>\n",
              "      <td>720.150452</td>\n",
              "      <td>721.500000</td>\n",
              "      <td>717.075012</td>\n",
              "    </tr>\n",
              "    <tr>\n",
              "      <th>...</th>\n",
              "      <td>...</td>\n",
              "      <td>...</td>\n",
              "      <td>...</td>\n",
              "    </tr>\n",
              "    <tr>\n",
              "      <th>1300</th>\n",
              "      <td>1355.973755</td>\n",
              "      <td>1348.000000</td>\n",
              "      <td>1371.250000</td>\n",
              "    </tr>\n",
              "    <tr>\n",
              "      <th>1301</th>\n",
              "      <td>1374.622925</td>\n",
              "      <td>1380.000000</td>\n",
              "      <td>1395.800049</td>\n",
              "    </tr>\n",
              "    <tr>\n",
              "      <th>1302</th>\n",
              "      <td>1399.395508</td>\n",
              "      <td>1410.000000</td>\n",
              "      <td>1397.099976</td>\n",
              "    </tr>\n",
              "    <tr>\n",
              "      <th>1303</th>\n",
              "      <td>1399.900635</td>\n",
              "      <td>1394.000000</td>\n",
              "      <td>1406.150024</td>\n",
              "    </tr>\n",
              "    <tr>\n",
              "      <th>1304</th>\n",
              "      <td>1408.851074</td>\n",
              "      <td>1405.250000</td>\n",
              "      <td>1391.800049</td>\n",
              "    </tr>\n",
              "  </tbody>\n",
              "</table>\n",
              "<p>1305 rows × 3 columns</p>\n",
              "</div>\n",
              "      <button class=\"colab-df-convert\" onclick=\"convertToInteractive('df-dcd10fdf-2c46-42ed-b6da-96a453f276d2')\"\n",
              "              title=\"Convert this dataframe to an interactive table.\"\n",
              "              style=\"display:none;\">\n",
              "        \n",
              "  <svg xmlns=\"http://www.w3.org/2000/svg\" height=\"24px\"viewBox=\"0 0 24 24\"\n",
              "       width=\"24px\">\n",
              "    <path d=\"M0 0h24v24H0V0z\" fill=\"none\"/>\n",
              "    <path d=\"M18.56 5.44l.94 2.06.94-2.06 2.06-.94-2.06-.94-.94-2.06-.94 2.06-2.06.94zm-11 1L8.5 8.5l.94-2.06 2.06-.94-2.06-.94L8.5 2.5l-.94 2.06-2.06.94zm10 10l.94 2.06.94-2.06 2.06-.94-2.06-.94-.94-2.06-.94 2.06-2.06.94z\"/><path d=\"M17.41 7.96l-1.37-1.37c-.4-.4-.92-.59-1.43-.59-.52 0-1.04.2-1.43.59L10.3 9.45l-7.72 7.72c-.78.78-.78 2.05 0 2.83L4 21.41c.39.39.9.59 1.41.59.51 0 1.02-.2 1.41-.59l7.78-7.78 2.81-2.81c.8-.78.8-2.07 0-2.86zM5.41 20L4 18.59l7.72-7.72 1.47 1.35L5.41 20z\"/>\n",
              "  </svg>\n",
              "      </button>\n",
              "      \n",
              "  <style>\n",
              "    .colab-df-container {\n",
              "      display:flex;\n",
              "      flex-wrap:wrap;\n",
              "      gap: 12px;\n",
              "    }\n",
              "\n",
              "    .colab-df-convert {\n",
              "      background-color: #E8F0FE;\n",
              "      border: none;\n",
              "      border-radius: 50%;\n",
              "      cursor: pointer;\n",
              "      display: none;\n",
              "      fill: #1967D2;\n",
              "      height: 32px;\n",
              "      padding: 0 0 0 0;\n",
              "      width: 32px;\n",
              "    }\n",
              "\n",
              "    .colab-df-convert:hover {\n",
              "      background-color: #E2EBFA;\n",
              "      box-shadow: 0px 1px 2px rgba(60, 64, 67, 0.3), 0px 1px 3px 1px rgba(60, 64, 67, 0.15);\n",
              "      fill: #174EA6;\n",
              "    }\n",
              "\n",
              "    [theme=dark] .colab-df-convert {\n",
              "      background-color: #3B4455;\n",
              "      fill: #D2E3FC;\n",
              "    }\n",
              "\n",
              "    [theme=dark] .colab-df-convert:hover {\n",
              "      background-color: #434B5C;\n",
              "      box-shadow: 0px 1px 3px 1px rgba(0, 0, 0, 0.15);\n",
              "      filter: drop-shadow(0px 1px 2px rgba(0, 0, 0, 0.3));\n",
              "      fill: #FFFFFF;\n",
              "    }\n",
              "  </style>\n",
              "\n",
              "      <script>\n",
              "        const buttonEl =\n",
              "          document.querySelector('#df-dcd10fdf-2c46-42ed-b6da-96a453f276d2 button.colab-df-convert');\n",
              "        buttonEl.style.display =\n",
              "          google.colab.kernel.accessAllowed ? 'block' : 'none';\n",
              "\n",
              "        async function convertToInteractive(key) {\n",
              "          const element = document.querySelector('#df-dcd10fdf-2c46-42ed-b6da-96a453f276d2');\n",
              "          const dataTable =\n",
              "            await google.colab.kernel.invokeFunction('convertToInteractive',\n",
              "                                                     [key], {});\n",
              "          if (!dataTable) return;\n",
              "\n",
              "          const docLinkHtml = 'Like what you see? Visit the ' +\n",
              "            '<a target=\"_blank\" href=https://colab.research.google.com/notebooks/data_table.ipynb>data table notebook</a>'\n",
              "            + ' to learn more about interactive tables.';\n",
              "          element.innerHTML = '';\n",
              "          dataTable['output_type'] = 'display_data';\n",
              "          await google.colab.output.renderOutput(dataTable, element);\n",
              "          const docLink = document.createElement('div');\n",
              "          docLink.innerHTML = docLinkHtml;\n",
              "          element.appendChild(docLink);\n",
              "        }\n",
              "      </script>\n",
              "    </div>\n",
              "  </div>\n",
              "  "
            ]
          },
          "metadata": {},
          "execution_count": 79
        }
      ]
    },
    {
      "cell_type": "code",
      "source": [
        "fp = 0\n",
        "fn = 0\n",
        "tn = 0\n",
        "tp = 0\n",
        "\n",
        "for i in range(0, dataframe.shape[0]-1):\n",
        "    if dataframe.iloc[i+1][0] > dataframe.iloc[i][2] and dataframe.iloc[i+1][1]>dataframe.iloc[i][2]:\n",
        "        tp += 1\n",
        "    elif dataframe.iloc[i+1][0] > dataframe.iloc[i][2] and dataframe.iloc[i+1][1]<dataframe.iloc[i][2]:\n",
        "        fp += 1\n",
        "    elif dataframe.iloc[i+1][0] < dataframe.iloc[i][2] and dataframe.iloc[i+1][1]<dataframe.iloc[i][2]:\n",
        "        tn += 1\n",
        "    elif dataframe.iloc[i+1][0] < dataframe.iloc[i][2] and dataframe.iloc[i+1][1]>dataframe.iloc[i][2]:\n",
        "        fn += 1\n",
        "\n",
        "base_stock_matrix = (tp,fp,fn,tn)\n",
        "base_stock_accuracy = tp/(tp+fp)"
      ],
      "metadata": {
        "id": "ual6z_Ez1ZIg"
      },
      "execution_count": null,
      "outputs": []
    },
    {
      "cell_type": "code",
      "source": [
        "print(tp,fp,fn, tn)"
      ],
      "metadata": {
        "colab": {
          "base_uri": "https://localhost:8080/"
        },
        "outputId": "78c6c187-0bea-4b97-9cae-4491c3226604",
        "id": "disZAdys1ZIg"
      },
      "execution_count": null,
      "outputs": [
        {
          "output_type": "stream",
          "name": "stdout",
          "text": [
            "742 515 14 10\n"
          ]
        }
      ]
    },
    {
      "cell_type": "code",
      "source": [
        "tp /(tp +fp )"
      ],
      "metadata": {
        "colab": {
          "base_uri": "https://localhost:8080/"
        },
        "outputId": "a47c9fcc-b73f-42ed-f014-669809c836ac",
        "id": "_Abv0CX11ZIg"
      },
      "execution_count": null,
      "outputs": [
        {
          "output_type": "execute_result",
          "data": {
            "text/plain": [
              "0.5902943516308672"
            ]
          },
          "metadata": {},
          "execution_count": 82
        }
      ]
    },
    {
      "cell_type": "markdown",
      "source": [
        "##Testing on test_stock"
      ],
      "metadata": {
        "id": "8FylbBBr4dOL"
      }
    },
    {
      "cell_type": "code",
      "source": [
        "df_IGL = pdr.get_data_yahoo(test_stock, start=\"1980-02-01\", end=\"2022-07-13\")"
      ],
      "metadata": {
        "colab": {
          "base_uri": "https://localhost:8080/"
        },
        "id": "-bfKvqJU2NrZ",
        "outputId": "e32d61c1-5b89-48c8-a51f-ead3eb6f0bf4"
      },
      "execution_count": null,
      "outputs": [
        {
          "output_type": "stream",
          "name": "stdout",
          "text": [
            "\r[*********************100%***********************]  1 of 1 completed\n"
          ]
        }
      ]
    },
    {
      "cell_type": "code",
      "source": [
        "testing_data = np.array(df_IGL[['Open', 'Close']])\n",
        "\n",
        "import math\n",
        "\n",
        "print(testing_data.shape)"
      ],
      "metadata": {
        "colab": {
          "base_uri": "https://localhost:8080/"
        },
        "id": "iIxaxHmf2F-W",
        "outputId": "be00c073-1386-4b49-c313-bb4d90aca562"
      },
      "execution_count": null,
      "outputs": [
        {
          "output_type": "stream",
          "name": "stdout",
          "text": [
            "(4978, 2)\n"
          ]
        }
      ]
    },
    {
      "cell_type": "code",
      "source": [
        "batches_testing = []\n",
        "targets_testing = []\n",
        "\n",
        "for i in range(30,len(testing_data)):\n",
        "    buffer_array = list(testing_data[i-30:i])\n",
        "    targets_testing.append(testing_data[i][0])\n",
        "    batches_testing.append(buffer_array)\n",
        "\n",
        "print(np.array(batches_testing).shape, np.array(targets_testing).shape)"
      ],
      "metadata": {
        "colab": {
          "base_uri": "https://localhost:8080/"
        },
        "id": "ng7dj8Aw2Fxl",
        "outputId": "af141335-c664-4534-a124-00264b56b2f2"
      },
      "execution_count": null,
      "outputs": [
        {
          "output_type": "stream",
          "name": "stdout",
          "text": [
            "(4948, 30, 2) (4948,)\n"
          ]
        }
      ]
    },
    {
      "cell_type": "code",
      "source": [
        "#Define batch scaling function\n",
        "scaled_testing_data = []\n",
        "scaled_testing_targets = []\n",
        "\n",
        "scaling_dict = {}\n",
        "def inverse_scale_data(x, min_x, max_x):\n",
        "  orig_seq = []\n",
        "  for j in x:\n",
        "    buffer_array = []\n",
        "    for k in j:\n",
        "      orig_k = k*(max_x-min_x) + min_x\n",
        "      buffer_array.append(orig_k)\n",
        "    orig_seq.append(buffer_array)\n",
        "  return orig_seq\n",
        "\n",
        "def inverse_scale_target(x, min_x, max_x):\n",
        "  orig_x = x*(max_x-min_x) + min_x\n",
        "  return orig_x\n",
        "\n",
        "\n",
        "def scale(x, buffer_target,i):\n",
        "  seq_x = np.array(x)\n",
        "  max_x = np.amax(seq_x)\n",
        "  min_x = np.amin(seq_x)\n",
        "  scaling_dict[i] = (min_x, max_x)\n",
        "  new_seq = []\n",
        "  for j in seq_x:\n",
        "    buffer_seq = []\n",
        "    for k in j:\n",
        "      new_k = (k-min_x)/(max_x-min_x)\n",
        "      buffer_seq.append(new_k)\n",
        "    new_seq.append(buffer_seq)\n",
        "  scaled_target = (buffer_target-min_x)/(max_x-min_x)\n",
        "  return new_seq, scaled_target\n",
        "\n",
        "\n",
        "for i in range(0, len(batches_testing)):\n",
        "  seq = batches_testing[i]\n",
        "  buffer_target = targets_testing[i]\n",
        "  new_seq, scaled_target = scale(seq, buffer_target, i)\n",
        "  scaled_testing_data.append(new_seq)\n",
        "  scaled_testing_targets.append(scaled_target)\n",
        "\n",
        "print(np.array(scaled_testing_data).shape, np.array(scaled_testing_targets).shape)"
      ],
      "metadata": {
        "id": "Gz_G4_mF2Fts",
        "colab": {
          "base_uri": "https://localhost:8080/"
        },
        "outputId": "70b2243b-386b-4241-cbbd-6946cbca9853"
      },
      "execution_count": null,
      "outputs": [
        {
          "output_type": "stream",
          "name": "stdout",
          "text": [
            "(4948, 30, 2) (4948,)\n"
          ]
        }
      ]
    },
    {
      "cell_type": "code",
      "source": [
        "x_test = np.array(scaled_testing_data)\n",
        "y_test = np.array(scaled_testing_targets)\n",
        "\n",
        "print(x_test.shape, y_test.shape)"
      ],
      "metadata": {
        "colab": {
          "base_uri": "https://localhost:8080/"
        },
        "id": "myV146X01n6t",
        "outputId": "0808ba05-8a2a-4000-af9a-b0cc73c645bd"
      },
      "execution_count": null,
      "outputs": [
        {
          "output_type": "stream",
          "name": "stdout",
          "text": [
            "(4948, 30, 2) (4948,)\n"
          ]
        }
      ]
    },
    {
      "cell_type": "code",
      "source": [
        "prediction_list = model.predict(x_test)\n"
      ],
      "metadata": {
        "colab": {
          "base_uri": "https://localhost:8080/"
        },
        "id": "7GWmIdM45IWh",
        "outputId": "4ea4510f-6228-4189-921d-e91461627a26"
      },
      "execution_count": null,
      "outputs": [
        {
          "output_type": "stream",
          "name": "stdout",
          "text": [
            "155/155 [==============================] - 2s 11ms/step\n"
          ]
        }
      ]
    },
    {
      "cell_type": "code",
      "source": [
        "transformed_prediction_list = []\n",
        "\n",
        "for i in range(0,len(prediction_list)):\n",
        "    dict_values = list(scaling_dict[i])\n",
        "    or_seq = inverse_scale_target(prediction_list[i], dict_values[0], dict_values[1])\n",
        "    transformed_prediction_list.append(or_seq)"
      ],
      "metadata": {
        "id": "BFSKRQSq5Qxb"
      },
      "execution_count": null,
      "outputs": []
    },
    {
      "cell_type": "code",
      "source": [
        "print(len(transformed_prediction_list), len(testing_data[30:]))\n",
        "plt.plot(transformed_prediction_list)\n",
        "plt.plot(pd.DataFrame(testing_data[30:])[0])"
      ],
      "metadata": {
        "id": "SjCKT-HY5evD",
        "colab": {
          "base_uri": "https://localhost:8080/"
        },
        "outputId": "e026aee7-6135-4225-c171-a70f3baf0b94"
      },
      "execution_count": null,
      "outputs": [
        {
          "output_type": "stream",
          "name": "stdout",
          "text": [
            "4948 4948\n"
          ]
        },
        {
          "output_type": "execute_result",
          "data": {
            "text/plain": [
              "[<matplotlib.lines.Line2D at 0x7fa619f32fb0>]"
            ]
          },
          "metadata": {},
          "execution_count": 90
        },
        {
          "output_type": "display_data",
          "data": {
            "text/plain": [
              "<Figure size 640x480 with 1 Axes>"
            ],
            "image/png": "[encoded data removed]"
          },
          "metadata": {}
        }
      ]
    },
    {
      "cell_type": "code",
      "source": [
        "transformed_prediction_list = np.array(transformed_prediction_list)\n",
        "testing_data_np = np.array(testing_data[30:][0])\n",
        "\n",
        "print(transformed_prediction_list.shape, testing_data_np.shape)\n",
        "error = 0\n",
        "for i in range(0,len(testing_data_np)):\n",
        "  buffer_error = math.sqrt((transformed_prediction_list[i] - testing_data_np[i])*(transformed_prediction_list[i] - testing_data_np[i]))\n",
        "  error += buffer_error\n",
        "\n",
        "test_stock_rmse = error/len(testing_data_np)\n",
        "print(\"Final rmse: \", error/len(testing_data_np))"
      ],
      "metadata": {
        "id": "kUuhHTDl5phW",
        "colab": {
          "base_uri": "https://localhost:8080/"
        },
        "outputId": "a14b6e87-9bc2-499d-81ae-b75729b75eae"
      },
      "execution_count": null,
      "outputs": [
        {
          "output_type": "stream",
          "name": "stdout",
          "text": [
            "(4948, 1) (2,)\n",
            "Final rmse:  0.17734622974362532\n"
          ]
        }
      ]
    },
    {
      "cell_type": "markdown",
      "source": [
        "##Check tomorrow's prediction"
      ],
      "metadata": {
        "id": "bMc1ZMFOabee"
      }
    },
    {
      "cell_type": "code",
      "source": [
        "last_30, buffer_tar = scale(testing_data[-30:], 0, 0)\n",
        "print(np.array(last_30).shape)"
      ],
      "metadata": {
        "colab": {
          "base_uri": "https://localhost:8080/"
        },
        "id": "xSYVxc8z53QB",
        "outputId": "37dcce20-4402-435b-8d8c-6bf8495998dd"
      },
      "execution_count": null,
      "outputs": [
        {
          "output_type": "stream",
          "name": "stdout",
          "text": [
            "(30, 2)\n"
          ]
        }
      ]
    },
    {
      "cell_type": "code",
      "source": [
        "last_30_reshape = np.array(last_30).reshape(1,30,2)"
      ],
      "metadata": {
        "id": "AESQSZey6I8P"
      },
      "execution_count": null,
      "outputs": []
    },
    {
      "cell_type": "code",
      "source": [
        "prediction = model.predict(last_30_reshape)"
      ],
      "metadata": {
        "colab": {
          "base_uri": "https://localhost:8080/"
        },
        "id": "j364C-pO6tx3",
        "outputId": "d5ad91c8-00c9-4210-8ac5-02a55bbf2dd2"
      },
      "execution_count": null,
      "outputs": [
        {
          "output_type": "stream",
          "name": "stdout",
          "text": [
            "1/1 [==============================] - 0s 30ms/step\n"
          ]
        }
      ]
    },
    {
      "cell_type": "code",
      "source": [
        "dict_values = scaling_dict[0]\n",
        "pred = inverse_scale_target(prediction, dict_values[0], dict_values[1])"
      ],
      "metadata": {
        "id": "jDWsumsn6wDy"
      },
      "execution_count": null,
      "outputs": []
    },
    {
      "cell_type": "code",
      "source": [
        "plt.plot(pd.DataFrame(testing_data).iloc[-30:, 0])\n",
        "print(testing_data[-1])\n",
        "print(pred)"
      ],
      "metadata": {
        "colab": {
          "base_uri": "https://localhost:8080/"
        },
        "id": "YaivZ4HS69PB",
        "outputId": "0e6ae52e-8f88-4bd4-a8e4-7c62258c545a"
      },
      "execution_count": null,
      "outputs": [
        {
          "output_type": "stream",
          "name": "stdout",
          "text": [
            "[765.34997559 759.90002441]\n",
            "[[760.99713]]\n"
          ]
        },
        {
          "output_type": "display_data",
          "data": {
            "text/plain": [
              "<Figure size 640x480 with 1 Axes>"
            ],
            "image/png": "[encoded data removed]"
          },
          "metadata": {}
        }
      ]
    },
    {
      "cell_type": "markdown",
      "source": [
        "##Check how accurate regression is"
      ],
      "metadata": {
        "id": "K8TMtpYAaeGv"
      }
    },
    {
      "cell_type": "code",
      "source": [
        "preds, actual_close = pd.DataFrame(np.array(transformed_prediction_list)), pd.DataFrame(np.array(testing_data[30:]))\n",
        "dataframe = pd.concat([preds, actual_close], axis=1)\n",
        "dataframe.columns = ['preds', 'actual open', 'actual close']\n",
        "dataframe"
      ],
      "metadata": {
        "id": "Pc3KKMH6aaf9",
        "colab": {
          "base_uri": "https://localhost:8080/"
        },
        "outputId": "0ccbe51f-7b35-4160-cc2d-e725c095e935"
      },
      "execution_count": null,
      "outputs": [
        {
          "output_type": "execute_result",
          "data": {
            "text/plain": [
              "           preds  actual open  actual close\n",
              "0      24.769958    24.545454     24.427273\n",
              "1      24.557461    24.545454     24.418180\n",
              "2      24.529226    24.472727     24.054544\n",
              "3      24.207357    24.054544     24.054544\n",
              "4      24.155994    24.090908     24.400000\n",
              "...          ...          ...           ...\n",
              "4943  721.871033   723.000000    725.950012\n",
              "4944  728.536133   735.950012    742.000000\n",
              "4945  744.718262   751.299988    755.700012\n",
              "4946  758.267639   755.000000    769.500000\n",
              "4947  772.054932   765.349976    759.900024\n",
              "\n",
              "[4948 rows x 3 columns]"
            ],
            "text/html": [
              "\n",
              "  <div id=\"df-b79c997c-46ff-4b25-8c22-82f425af9f1d\">\n",
              "    <div class=\"colab-df-container\">\n",
              "      <div>\n",
              "<style scoped>\n",
              "    .dataframe tbody tr th:only-of-type {\n",
              "        vertical-align: middle;\n",
              "    }\n",
              "\n",
              "    .dataframe tbody tr th {\n",
              "        vertical-align: top;\n",
              "    }\n",
              "\n",
              "    .dataframe thead th {\n",
              "        text-align: right;\n",
              "    }\n",
              "</style>\n",
              "<table border=\"1\" class=\"dataframe\">\n",
              "  <thead>\n",
              "    <tr style=\"text-align: right;\">\n",
              "      <th></th>\n",
              "      <th>preds</th>\n",
              "      <th>actual open</th>\n",
              "      <th>actual close</th>\n",
              "    </tr>\n",
              "  </thead>\n",
              "  <tbody>\n",
              "    <tr>\n",
              "      <th>0</th>\n",
              "      <td>24.769958</td>\n",
              "      <td>24.545454</td>\n",
              "      <td>24.427273</td>\n",
              "    </tr>\n",
              "    <tr>\n",
              "      <th>1</th>\n",
              "      <td>24.557461</td>\n",
              "      <td>24.545454</td>\n",
              "      <td>24.418180</td>\n",
              "    </tr>\n",
              "    <tr>\n",
              "      <th>2</th>\n",
              "      <td>24.529226</td>\n",
              "      <td>24.472727</td>\n",
              "      <td>24.054544</td>\n",
              "    </tr>\n",
              "    <tr>\n",
              "      <th>3</th>\n",
              "      <td>24.207357</td>\n",
              "      <td>24.054544</td>\n",
              "      <td>24.054544</td>\n",
              "    </tr>\n",
              "    <tr>\n",
              "      <th>4</th>\n",
              "      <td>24.155994</td>\n",
              "      <td>24.090908</td>\n",
              "      <td>24.400000</td>\n",
              "    </tr>\n",
              "    <tr>\n",
              "      <th>...</th>\n",
              "      <td>...</td>\n",
              "      <td>...</td>\n",
              "      <td>...</td>\n",
              "    </tr>\n",
              "    <tr>\n",
              "      <th>4943</th>\n",
              "      <td>721.871033</td>\n",
              "      <td>723.000000</td>\n",
              "      <td>725.950012</td>\n",
              "    </tr>\n",
              "    <tr>\n",
              "      <th>4944</th>\n",
              "      <td>728.536133</td>\n",
              "      <td>735.950012</td>\n",
              "      <td>742.000000</td>\n",
              "    </tr>\n",
              "    <tr>\n",
              "      <th>4945</th>\n",
              "      <td>744.718262</td>\n",
              "      <td>751.299988</td>\n",
              "      <td>755.700012</td>\n",
              "    </tr>\n",
              "    <tr>\n",
              "      <th>4946</th>\n",
              "      <td>758.267639</td>\n",
              "      <td>755.000000</td>\n",
              "      <td>769.500000</td>\n",
              "    </tr>\n",
              "    <tr>\n",
              "      <th>4947</th>\n",
              "      <td>772.054932</td>\n",
              "      <td>765.349976</td>\n",
              "      <td>759.900024</td>\n",
              "    </tr>\n",
              "  </tbody>\n",
              "</table>\n",
              "<p>4948 rows × 3 columns</p>\n",
              "</div>\n",
              "      <button class=\"colab-df-convert\" onclick=\"convertToInteractive('df-b79c997c-46ff-4b25-8c22-82f425af9f1d')\"\n",
              "              title=\"Convert this dataframe to an interactive table.\"\n",
              "              style=\"display:none;\">\n",
              "        \n",
              "  <svg xmlns=\"http://www.w3.org/2000/svg\" height=\"24px\"viewBox=\"0 0 24 24\"\n",
              "       width=\"24px\">\n",
              "    <path d=\"M0 0h24v24H0V0z\" fill=\"none\"/>\n",
              "    <path d=\"M18.56 5.44l.94 2.06.94-2.06 2.06-.94-2.06-.94-.94-2.06-.94 2.06-2.06.94zm-11 1L8.5 8.5l.94-2.06 2.06-.94-2.06-.94L8.5 2.5l-.94 2.06-2.06.94zm10 10l.94 2.06.94-2.06 2.06-.94-2.06-.94-.94-2.06-.94 2.06-2.06.94z\"/><path d=\"M17.41 7.96l-1.37-1.37c-.4-.4-.92-.59-1.43-.59-.52 0-1.04.2-1.43.59L10.3 9.45l-7.72 7.72c-.78.78-.78 2.05 0 2.83L4 21.41c.39.39.9.59 1.41.59.51 0 1.02-.2 1.41-.59l7.78-7.78 2.81-2.81c.8-.78.8-2.07 0-2.86zM5.41 20L4 18.59l7.72-7.72 1.47 1.35L5.41 20z\"/>\n",
              "  </svg>\n",
              "      </button>\n",
              "      \n",
              "  <style>\n",
              "    .colab-df-container {\n",
              "      display:flex;\n",
              "      flex-wrap:wrap;\n",
              "      gap: 12px;\n",
              "    }\n",
              "\n",
              "    .colab-df-convert {\n",
              "      background-color: #E8F0FE;\n",
              "      border: none;\n",
              "      border-radius: 50%;\n",
              "      cursor: pointer;\n",
              "      display: none;\n",
              "      fill: #1967D2;\n",
              "      height: 32px;\n",
              "      padding: 0 0 0 0;\n",
              "      width: 32px;\n",
              "    }\n",
              "\n",
              "    .colab-df-convert:hover {\n",
              "      background-color: #E2EBFA;\n",
              "      box-shadow: 0px 1px 2px rgba(60, 64, 67, 0.3), 0px 1px 3px 1px rgba(60, 64, 67, 0.15);\n",
              "      fill: #174EA6;\n",
              "    }\n",
              "\n",
              "    [theme=dark] .colab-df-convert {\n",
              "      background-color: #3B4455;\n",
              "      fill: #D2E3FC;\n",
              "    }\n",
              "\n",
              "    [theme=dark] .colab-df-convert:hover {\n",
              "      background-color: #434B5C;\n",
              "      box-shadow: 0px 1px 3px 1px rgba(0, 0, 0, 0.15);\n",
              "      filter: drop-shadow(0px 1px 2px rgba(0, 0, 0, 0.3));\n",
              "      fill: #FFFFFF;\n",
              "    }\n",
              "  </style>\n",
              "\n",
              "      <script>\n",
              "        const buttonEl =\n",
              "          document.querySelector('#df-b79c997c-46ff-4b25-8c22-82f425af9f1d button.colab-df-convert');\n",
              "        buttonEl.style.display =\n",
              "          google.colab.kernel.accessAllowed ? 'block' : 'none';\n",
              "\n",
              "        async function convertToInteractive(key) {\n",
              "          const element = document.querySelector('#df-b79c997c-46ff-4b25-8c22-82f425af9f1d');\n",
              "          const dataTable =\n",
              "            await google.colab.kernel.invokeFunction('convertToInteractive',\n",
              "                                                     [key], {});\n",
              "          if (!dataTable) return;\n",
              "\n",
              "          const docLinkHtml = 'Like what you see? Visit the ' +\n",
              "            '<a target=\"_blank\" href=https://colab.research.google.com/notebooks/data_table.ipynb>data table notebook</a>'\n",
              "            + ' to learn more about interactive tables.';\n",
              "          element.innerHTML = '';\n",
              "          dataTable['output_type'] = 'display_data';\n",
              "          await google.colab.output.renderOutput(dataTable, element);\n",
              "          const docLink = document.createElement('div');\n",
              "          docLink.innerHTML = docLinkHtml;\n",
              "          element.appendChild(docLink);\n",
              "        }\n",
              "      </script>\n",
              "    </div>\n",
              "  </div>\n",
              "  "
            ]
          },
          "metadata": {},
          "execution_count": 97
        }
      ]
    },
    {
      "cell_type": "code",
      "source": [
        "fp = 0\n",
        "fn = 0\n",
        "tn = 0\n",
        "tp = 0\n",
        "\n",
        "for i in range(0, dataframe.shape[0]-1):\n",
        "    if dataframe.iloc[i+1][0] > dataframe.iloc[i][2] and dataframe.iloc[i+1][1]>dataframe.iloc[i][2]:\n",
        "        tp += 1\n",
        "    elif dataframe.iloc[i+1][0] > dataframe.iloc[i][2] and dataframe.iloc[i+1][1]<dataframe.iloc[i][2]:\n",
        "        fp += 1\n",
        "    elif dataframe.iloc[i+1][0] < dataframe.iloc[i][2] and dataframe.iloc[i+1][1]<dataframe.iloc[i][2]:\n",
        "        tn += 1\n",
        "    elif dataframe.iloc[i+1][0] < dataframe.iloc[i][2] and dataframe.iloc[i+1][1]>dataframe.iloc[i][2]:\n",
        "        fn += 1\n",
        "\n",
        "test_stock_matrix = (tp, fp ,fn,tn)\n",
        "test_stock_accuracy = tp/(tp+fp)"
      ],
      "metadata": {
        "id": "AF84UjEeayhu"
      },
      "execution_count": null,
      "outputs": []
    },
    {
      "cell_type": "code",
      "source": [
        "print(tp,fp,fn, tn)"
      ],
      "metadata": {
        "colab": {
          "base_uri": "https://localhost:8080/"
        },
        "id": "Q9ALcaRMbc6l",
        "outputId": "03c5b6d1-9565-4308-9c66-ea65870ac9a3"
      },
      "execution_count": null,
      "outputs": [
        {
          "output_type": "stream",
          "name": "stdout",
          "text": [
            "2883 1841 57 25\n"
          ]
        }
      ]
    },
    {
      "cell_type": "code",
      "source": [
        "tp /(tp +fp )"
      ],
      "metadata": {
        "colab": {
          "base_uri": "https://localhost:8080/"
        },
        "id": "hkikT3ZOeLtu",
        "outputId": "b06f141c-a8e7-4301-d799-296b13945072"
      },
      "execution_count": null,
      "outputs": [
        {
          "output_type": "execute_result",
          "data": {
            "text/plain": [
              "0.6102878916172735"
            ]
          },
          "metadata": {},
          "execution_count": 100
        }
      ]
    },
    {
      "cell_type": "markdown",
      "source": [
        "#Results of above"
      ],
      "metadata": {
        "id": "vWSoFxzCPWMo"
      }
    },
    {
      "cell_type": "code",
      "source": [
        "print(\"base stock rmse: \", base_stock_rmse)\n",
        "print(\"base stock matrix: \", base_stock_matrix)\n",
        "print(\"test stock rmse: \", test_stock_rmse)\n",
        "print(\"test stock accuracy: \", test_stock_accuracy)\n",
        "print(\"test stock matrix: \", test_stock_matrix)"
      ],
      "metadata": {
        "colab": {
          "base_uri": "https://localhost:8080/"
        },
        "id": "XUawsDfKPZa7",
        "outputId": "32dca436-a930-4530-806f-394f09f09a80"
      },
      "execution_count": null,
      "outputs": [
        {
          "output_type": "stream",
          "name": "stdout",
          "text": [
            "base stock rmse:  1.6295776593932856\n",
            "base stock matrix:  (742, 515, 14, 10)\n",
            "test stock rmse:  0.17734622974362532\n",
            "test stock accuracy:  0.6102878916172735\n",
            "test stock matrix:  (2883, 1841, 57, 25)\n"
          ]
        }
      ]
    },
    {
      "cell_type": "markdown",
      "source": [
        "#Use 3 features, Open, Close and Volume\n"
      ],
      "metadata": {
        "id": "OO4QzRbhdL-R"
      }
    },
    {
      "cell_type": "markdown",
      "source": [
        "##Create Targets and scale the data"
      ],
      "metadata": {
        "id": "xBYD_fNOfznX"
      }
    },
    {
      "cell_type": "markdown",
      "source": [
        "The target is going to be next day's closing price. The batches will be create accordingly."
      ],
      "metadata": {
        "id": "E5auligPfznX"
      }
    },
    {
      "cell_type": "code",
      "source": [
        "df"
      ],
      "metadata": {
        "colab": {
          "base_uri": "https://localhost:8080/"
        },
        "outputId": "3e2db589-6bea-4eeb-f131-bb07eaf037f1",
        "id": "CcBw8QXxfznX"
      },
      "execution_count": null,
      "outputs": [
        {
          "output_type": "execute_result",
          "data": {
            "text/plain": [
              "                Open         High          Low        Close    Adj Close  \\\n",
              "Date                                                                       \n",
              "1996-01-01     3.030     3.030000     2.925000     2.980000     2.389958   \n",
              "1996-01-02     2.980     3.025000     2.950000     2.975000     2.385947   \n",
              "1996-01-03     2.975     2.995000     2.950000     2.985000     2.393967   \n",
              "1996-01-04     2.985     2.980000     2.940000     2.965000     2.377927   \n",
              "1996-01-05     2.965     2.980000     2.950000     2.960000     2.373918   \n",
              "...              ...          ...          ...          ...          ...   \n",
              "2022-07-06  1348.000  1373.400024  1347.099976  1371.250000  1371.250000   \n",
              "2022-07-07  1380.000  1398.000000  1374.449951  1395.800049  1395.800049   \n",
              "2022-07-08  1410.000  1410.000000  1394.750000  1397.099976  1397.099976   \n",
              "2022-07-11  1394.000  1409.900024  1393.250000  1406.150024  1406.150024   \n",
              "2022-07-12  1405.250  1405.250000  1389.400024  1391.800049  1391.800049   \n",
              "\n",
              "             Volume  \n",
              "Date                 \n",
              "1996-01-01   350000  \n",
              "1996-01-02   412000  \n",
              "1996-01-03   284000  \n",
              "1996-01-04   282000  \n",
              "1996-01-05   189000  \n",
              "...             ...  \n",
              "2022-07-06  7524539  \n",
              "2022-07-07  8871571  \n",
              "2022-07-08  6237015  \n",
              "2022-07-11  3731416  \n",
              "2022-07-12  4938487  \n",
              "\n",
              "[6676 rows x 6 columns]"
            ],
            "text/html": [
              "\n",
              "  <div id=\"df-9254634f-4198-4322-be8c-27c423538df3\">\n",
              "    <div class=\"colab-df-container\">\n",
              "      <div>\n",
              "<style scoped>\n",
              "    .dataframe tbody tr th:only-of-type {\n",
              "        vertical-align: middle;\n",
              "    }\n",
              "\n",
              "    .dataframe tbody tr th {\n",
              "        vertical-align: top;\n",
              "    }\n",
              "\n",
              "    .dataframe thead th {\n",
              "        text-align: right;\n",
              "    }\n",
              "</style>\n",
              "<table border=\"1\" class=\"dataframe\">\n",
              "  <thead>\n",
              "    <tr style=\"text-align: right;\">\n",
              "      <th></th>\n",
              "      <th>Open</th>\n",
              "      <th>High</th>\n",
              "      <th>Low</th>\n",
              "      <th>Close</th>\n",
              "      <th>Adj Close</th>\n",
              "      <th>Volume</th>\n",
              "    </tr>\n",
              "    <tr>\n",
              "      <th>Date</th>\n",
              "      <th></th>\n",
              "      <th></th>\n",
              "      <th></th>\n",
              "      <th></th>\n",
              "      <th></th>\n",
              "      <th></th>\n",
              "    </tr>\n",
              "  </thead>\n",
              "  <tbody>\n",
              "    <tr>\n",
              "      <th>1996-01-01</th>\n",
              "      <td>3.030</td>\n",
              "      <td>3.030000</td>\n",
              "      <td>2.925000</td>\n",
              "      <td>2.980000</td>\n",
              "      <td>2.389958</td>\n",
              "      <td>350000</td>\n",
              "    </tr>\n",
              "    <tr>\n",
              "      <th>1996-01-02</th>\n",
              "      <td>2.980</td>\n",
              "      <td>3.025000</td>\n",
              "      <td>2.950000</td>\n",
              "      <td>2.975000</td>\n",
              "      <td>2.385947</td>\n",
              "      <td>412000</td>\n",
              "    </tr>\n",
              "    <tr>\n",
              "      <th>1996-01-03</th>\n",
              "      <td>2.975</td>\n",
              "      <td>2.995000</td>\n",
              "      <td>2.950000</td>\n",
              "      <td>2.985000</td>\n",
              "      <td>2.393967</td>\n",
              "      <td>284000</td>\n",
              "    </tr>\n",
              "    <tr>\n",
              "      <th>1996-01-04</th>\n",
              "      <td>2.985</td>\n",
              "      <td>2.980000</td>\n",
              "      <td>2.940000</td>\n",
              "      <td>2.965000</td>\n",
              "      <td>2.377927</td>\n",
              "      <td>282000</td>\n",
              "    </tr>\n",
              "    <tr>\n",
              "      <th>1996-01-05</th>\n",
              "      <td>2.965</td>\n",
              "      <td>2.980000</td>\n",
              "      <td>2.950000</td>\n",
              "      <td>2.960000</td>\n",
              "      <td>2.373918</td>\n",
              "      <td>189000</td>\n",
              "    </tr>\n",
              "    <tr>\n",
              "      <th>...</th>\n",
              "      <td>...</td>\n",
              "      <td>...</td>\n",
              "      <td>...</td>\n",
              "      <td>...</td>\n",
              "      <td>...</td>\n",
              "      <td>...</td>\n",
              "    </tr>\n",
              "    <tr>\n",
              "      <th>2022-07-06</th>\n",
              "      <td>1348.000</td>\n",
              "      <td>1373.400024</td>\n",
              "      <td>1347.099976</td>\n",
              "      <td>1371.250000</td>\n",
              "      <td>1371.250000</td>\n",
              "      <td>7524539</td>\n",
              "    </tr>\n",
              "    <tr>\n",
              "      <th>2022-07-07</th>\n",
              "      <td>1380.000</td>\n",
              "      <td>1398.000000</td>\n",
              "      <td>1374.449951</td>\n",
              "      <td>1395.800049</td>\n",
              "      <td>1395.800049</td>\n",
              "      <td>8871571</td>\n",
              "    </tr>\n",
              "    <tr>\n",
              "      <th>2022-07-08</th>\n",
              "      <td>1410.000</td>\n",
              "      <td>1410.000000</td>\n",
              "      <td>1394.750000</td>\n",
              "      <td>1397.099976</td>\n",
              "      <td>1397.099976</td>\n",
              "      <td>6237015</td>\n",
              "    </tr>\n",
              "    <tr>\n",
              "      <th>2022-07-11</th>\n",
              "      <td>1394.000</td>\n",
              "      <td>1409.900024</td>\n",
              "      <td>1393.250000</td>\n",
              "      <td>1406.150024</td>\n",
              "      <td>1406.150024</td>\n",
              "      <td>3731416</td>\n",
              "    </tr>\n",
              "    <tr>\n",
              "      <th>2022-07-12</th>\n",
              "      <td>1405.250</td>\n",
              "      <td>1405.250000</td>\n",
              "      <td>1389.400024</td>\n",
              "      <td>1391.800049</td>\n",
              "      <td>1391.800049</td>\n",
              "      <td>4938487</td>\n",
              "    </tr>\n",
              "  </tbody>\n",
              "</table>\n",
              "<p>6676 rows × 6 columns</p>\n",
              "</div>\n",
              "      <button class=\"colab-df-convert\" onclick=\"convertToInteractive('df-9254634f-4198-4322-be8c-27c423538df3')\"\n",
              "              title=\"Convert this dataframe to an interactive table.\"\n",
              "              style=\"display:none;\">\n",
              "        \n",
              "  <svg xmlns=\"http://www.w3.org/2000/svg\" height=\"24px\"viewBox=\"0 0 24 24\"\n",
              "       width=\"24px\">\n",
              "    <path d=\"M0 0h24v24H0V0z\" fill=\"none\"/>\n",
              "    <path d=\"M18.56 5.44l.94 2.06.94-2.06 2.06-.94-2.06-.94-.94-2.06-.94 2.06-2.06.94zm-11 1L8.5 8.5l.94-2.06 2.06-.94-2.06-.94L8.5 2.5l-.94 2.06-2.06.94zm10 10l.94 2.06.94-2.06 2.06-.94-2.06-.94-.94-2.06-.94 2.06-2.06.94z\"/><path d=\"M17.41 7.96l-1.37-1.37c-.4-.4-.92-.59-1.43-.59-.52 0-1.04.2-1.43.59L10.3 9.45l-7.72 7.72c-.78.78-.78 2.05 0 2.83L4 21.41c.39.39.9.59 1.41.59.51 0 1.02-.2 1.41-.59l7.78-7.78 2.81-2.81c.8-.78.8-2.07 0-2.86zM5.41 20L4 18.59l7.72-7.72 1.47 1.35L5.41 20z\"/>\n",
              "  </svg>\n",
              "      </button>\n",
              "      \n",
              "  <style>\n",
              "    .colab-df-container {\n",
              "      display:flex;\n",
              "      flex-wrap:wrap;\n",
              "      gap: 12px;\n",
              "    }\n",
              "\n",
              "    .colab-df-convert {\n",
              "      background-color: #E8F0FE;\n",
              "      border: none;\n",
              "      border-radius: 50%;\n",
              "      cursor: pointer;\n",
              "      display: none;\n",
              "      fill: #1967D2;\n",
              "      height: 32px;\n",
              "      padding: 0 0 0 0;\n",
              "      width: 32px;\n",
              "    }\n",
              "\n",
              "    .colab-df-convert:hover {\n",
              "      background-color: #E2EBFA;\n",
              "      box-shadow: 0px 1px 2px rgba(60, 64, 67, 0.3), 0px 1px 3px 1px rgba(60, 64, 67, 0.15);\n",
              "      fill: #174EA6;\n",
              "    }\n",
              "\n",
              "    [theme=dark] .colab-df-convert {\n",
              "      background-color: #3B4455;\n",
              "      fill: #D2E3FC;\n",
              "    }\n",
              "\n",
              "    [theme=dark] .colab-df-convert:hover {\n",
              "      background-color: #434B5C;\n",
              "      box-shadow: 0px 1px 3px 1px rgba(0, 0, 0, 0.15);\n",
              "      filter: drop-shadow(0px 1px 2px rgba(0, 0, 0, 0.3));\n",
              "      fill: #FFFFFF;\n",
              "    }\n",
              "  </style>\n",
              "\n",
              "      <script>\n",
              "        const buttonEl =\n",
              "          document.querySelector('#df-9254634f-4198-4322-be8c-27c423538df3 button.colab-df-convert');\n",
              "        buttonEl.style.display =\n",
              "          google.colab.kernel.accessAllowed ? 'block' : 'none';\n",
              "\n",
              "        async function convertToInteractive(key) {\n",
              "          const element = document.querySelector('#df-9254634f-4198-4322-be8c-27c423538df3');\n",
              "          const dataTable =\n",
              "            await google.colab.kernel.invokeFunction('convertToInteractive',\n",
              "                                                     [key], {});\n",
              "          if (!dataTable) return;\n",
              "\n",
              "          const docLinkHtml = 'Like what you see? Visit the ' +\n",
              "            '<a target=\"_blank\" href=https://colab.research.google.com/notebooks/data_table.ipynb>data table notebook</a>'\n",
              "            + ' to learn more about interactive tables.';\n",
              "          element.innerHTML = '';\n",
              "          dataTable['output_type'] = 'display_data';\n",
              "          await google.colab.output.renderOutput(dataTable, element);\n",
              "          const docLink = document.createElement('div');\n",
              "          docLink.innerHTML = docLinkHtml;\n",
              "          element.appendChild(docLink);\n",
              "        }\n",
              "      </script>\n",
              "    </div>\n",
              "  </div>\n",
              "  "
            ]
          },
          "metadata": {},
          "execution_count": 102
        }
      ]
    },
    {
      "cell_type": "code",
      "source": [
        "feature = np.array(df[['Open', 'Close', 'Volume']])\n",
        "\n",
        "print(feature.shape)\n",
        "\n",
        "import math\n",
        "\n",
        "training_data_len = math.ceil(feature.shape[0] *0.8)\n",
        "print(training_data_len)\n",
        "training_data = feature[:training_data_len]\n",
        "testing_data = feature[training_data_len:]\n",
        "print(training_data.shape, testing_data.shape)"
      ],
      "metadata": {
        "colab": {
          "base_uri": "https://localhost:8080/"
        },
        "outputId": "34ba0d88-0f68-4ed0-889f-15803c146638",
        "id": "DXNnd2oIfznY"
      },
      "execution_count": null,
      "outputs": [
        {
          "output_type": "stream",
          "name": "stdout",
          "text": [
            "(6676, 3)\n",
            "5341\n",
            "(5341, 3) (1335, 3)\n"
          ]
        }
      ]
    },
    {
      "cell_type": "code",
      "source": [
        "training_data[:32]"
      ],
      "metadata": {
        "colab": {
          "base_uri": "https://localhost:8080/"
        },
        "id": "T5E3hHdBgrFu",
        "outputId": "d181c6b2-3063-43a5-c998-241dc5b15db7"
      },
      "execution_count": null,
      "outputs": [
        {
          "output_type": "execute_result",
          "data": {
            "text/plain": [
              "array([[3.02999997e+00, 2.98000002e+00, 3.50000000e+05],\n",
              "       [2.98000002e+00, 2.97499990e+00, 4.12000000e+05],\n",
              "       [2.97499990e+00, 2.98499990e+00, 2.84000000e+05],\n",
              "       [2.98499990e+00, 2.96499991e+00, 2.82000000e+05],\n",
              "       [2.96499991e+00, 2.96000004e+00, 1.89000000e+05],\n",
              "       [2.96000004e+00, 2.92499995e+00, 2.37000000e+05],\n",
              "       [2.92499995e+00, 2.82999992e+00, 4.83000000e+05],\n",
              "       [2.82999992e+00, 2.83999991e+00, 2.26000000e+05],\n",
              "       [2.83999991e+00, 2.82999992e+00, 3.18000000e+05],\n",
              "       [2.82999992e+00, 2.82500005e+00, 4.31000000e+05],\n",
              "       [2.82500005e+00, 2.78999996e+00, 1.81000000e+05],\n",
              "       [2.78999996e+00, 2.74000001e+00, 3.58000000e+05],\n",
              "       [2.74000001e+00, 2.65499997e+00, 4.29000000e+05],\n",
              "       [2.65499997e+00, 2.64000010e+00, 3.30000000e+05],\n",
              "       [2.64000010e+00, 2.55500007e+00, 4.26000000e+05],\n",
              "       [2.55500007e+00, 2.54500008e+00, 3.59000000e+05],\n",
              "       [2.54500008e+00, 2.52999997e+00, 3.99000000e+05],\n",
              "       [2.52999997e+00, 2.46499991e+00, 4.49000000e+05],\n",
              "       [2.46499991e+00, 2.43499994e+00, 3.90000000e+05],\n",
              "       [2.43499994e+00, 2.43499994e+00, 0.00000000e+00],\n",
              "       [2.43499994e+00, 2.48499990e+00, 3.11000000e+05],\n",
              "       [2.48499990e+00, 2.51999998e+00, 4.52000000e+05],\n",
              "       [2.51999998e+00, 2.58999991e+00, 3.44000000e+05],\n",
              "       [2.58999991e+00, 2.77999997e+00, 4.24000000e+05],\n",
              "       [2.77999997e+00, 2.91499996e+00, 8.19000000e+05],\n",
              "       [2.91499996e+00, 2.99499989e+00, 9.06000000e+05],\n",
              "       [2.99499989e+00, 2.97499990e+00, 8.88000000e+05],\n",
              "       [2.97499990e+00, 2.86500001e+00, 5.86000000e+05],\n",
              "       [2.86500001e+00, 3.04500008e+00, 6.67000000e+05],\n",
              "       [3.04500008e+00, 3.65000010e+00, 1.72000000e+06],\n",
              "       [3.65000010e+00, 3.50999999e+00, 2.85100000e+06],\n",
              "       [3.59999990e+00, 3.45000005e+00, 1.45100000e+06]])"
            ]
          },
          "metadata": {},
          "execution_count": 104
        }
      ]
    },
    {
      "cell_type": "code",
      "source": [
        "batches_training = []\n",
        "targets_training = []\n",
        "vol_batches_training = []\n",
        "\n",
        "for i in range(30,len(training_data)):\n",
        "    buffer_array = list(training_data[i-30:i,:-1])\n",
        "    targets_training.append(training_data[i][0])\n",
        "    batches_training.append(buffer_array)\n",
        "    vol_batches_training.append(list(training_data[i-30:i, -1]))\n",
        "\n",
        "print(np.array(batches_training).shape, np.array(targets_training).shape, np.array(vol_batches_training).shape)"
      ],
      "metadata": {
        "colab": {
          "base_uri": "https://localhost:8080/"
        },
        "outputId": "577df052-6035-45be-850e-9953f094943a",
        "id": "Fjd3bk1_fznY"
      },
      "execution_count": null,
      "outputs": [
        {
          "output_type": "stream",
          "name": "stdout",
          "text": [
            "(5311, 30, 2) (5311,) (5311, 30)\n"
          ]
        }
      ]
    },
    {
      "cell_type": "code",
      "source": [
        "#Define batch scaling function\n",
        "scaled_training_data = []\n",
        "scaled_training_targets = []\n",
        "scaled_volume_data = []\n",
        "\n",
        "def scale(x, buffer_target):\n",
        "  seq_x = np.array(x)\n",
        "  max_x = np.amax(seq_x)\n",
        "  min_x = np.amin(seq_x)\n",
        "  new_seq = []\n",
        "  for j in seq_x:\n",
        "    buffer_seq = []\n",
        "    for k in j:\n",
        "      new_k = (k-min_x)/(max_x-min_x)\n",
        "      buffer_seq.append(new_k)\n",
        "    new_seq.append(buffer_seq)\n",
        "  scaled_target = (buffer_target-min_x)/(max_x-min_x)\n",
        "  return new_seq, scaled_target\n",
        "\n",
        "def scale_vol(x):\n",
        "  seq_x = np.array(x)\n",
        "  max_x = np.amax(seq_x)\n",
        "  min_x = np.amin(seq_x)\n",
        "  new_seq = []\n",
        "  for k in seq_x:\n",
        "    new_k = (k-min_x)/(max_x-min_x)\n",
        "    new_seq.append(new_k)\n",
        "  return new_seq\n",
        "\n",
        "for i in range(0, len(batches_training)):\n",
        "  seq = batches_training[i]\n",
        "  buffer_target = targets_training[i]\n",
        "  vol_seq = vol_batches_training[i]\n",
        "  new_seq, scaled_target = scale(seq, buffer_target)\n",
        "  new_vol_seq = scale_vol(vol_seq)\n",
        "  scaled_training_data.append(new_seq)\n",
        "  scaled_training_targets.append(scaled_target)\n",
        "  scaled_volume_data.append(new_vol_seq)\n",
        "\n",
        "\n",
        "\n",
        "print(np.array(scaled_training_data).shape, np.array(scaled_training_targets).shape, np.array(scaled_volume_data).shape)\n",
        "print(x_train.shape, y_train.shape)"
      ],
      "metadata": {
        "colab": {
          "base_uri": "https://localhost:8080/"
        },
        "outputId": "013fb433-7e1b-439e-d572-350514b4045d",
        "id": "u6fZJjN3fznY"
      },
      "execution_count": null,
      "outputs": [
        {
          "output_type": "stream",
          "name": "stdout",
          "text": [
            "(5311, 30, 2) (5311,) (5311, 30)\n",
            "(5311, 30, 2) (5311,)\n"
          ]
        }
      ]
    },
    {
      "cell_type": "code",
      "source": [
        "x_train = []\n",
        "for i in range(0, len(scaled_training_data)):\n",
        "  seq = list(scaled_training_data[i])\n",
        "  vol_seq = list(scaled_volume_data[i])\n",
        "  buffer_arr = []\n",
        "  for j in range(0, len(seq)):\n",
        "    buffer_seq = list(seq[j])\n",
        "    buffer_seq.append(vol_seq[j])\n",
        "    buffer_arr.append(buffer_seq)\n",
        "  x_train.append(buffer_arr)\n",
        "\n",
        "x_train = np.array(x_train)\n",
        "y_train = np.array(scaled_training_targets)\n",
        "print(x_train.shape, y_train.shape)"
      ],
      "metadata": {
        "colab": {
          "base_uri": "https://localhost:8080/"
        },
        "id": "Qx-poAfDi4Vt",
        "outputId": "38c9a384-83ce-4c40-9b3b-71f91e75429b"
      },
      "execution_count": null,
      "outputs": [
        {
          "output_type": "stream",
          "name": "stdout",
          "text": [
            "(5311, 30, 3) (5311,)\n"
          ]
        }
      ]
    },
    {
      "cell_type": "code",
      "source": [
        "plt.plot(pd.DataFrame(vol_batches_training[0]))\n",
        "plt.show()\n",
        "plt.plot(pd.DataFrame(scaled_volume_data[0]))\n",
        "plt.show()"
      ],
      "metadata": {
        "colab": {
          "base_uri": "https://localhost:8080/"
        },
        "outputId": "de93f297-c810-4f3b-af82-8f390e3b31dc",
        "id": "KLbuiVZLfznY"
      },
      "execution_count": null,
      "outputs": [
        {
          "output_type": "display_data",
          "data": {
            "text/plain": [
              "<Figure size 640x480 with 1 Axes>"
            ],
            "image/png": "[encoded data removed]"
          },
          "metadata": {}
        },
        {
          "output_type": "display_data",
          "data": {
            "text/plain": [
              "<Figure size 640x480 with 1 Axes>"
            ],
            "image/png": "[encoded data removed]"
          },
          "metadata": {}
        }
      ]
    },
    {
      "cell_type": "code",
      "source": [
        "# np.array(scaled_data).shape\n",
        "\n",
        "# x_train = []\n",
        "# y_train = []\n",
        "# for i in range(0, len(scaled_data)):\n",
        "#     seq = scaled_data[i]\n",
        "#     x_train.append(seq[0:-1])\n",
        "#     y_train.append(seq[-1])\n",
        "\n",
        "# x_train, y_train = np.array(x_train), np.array(y_train)\n",
        "# x_train = np.reshape(x_train, (x_train.shape[0], x_train.shape[1], 1))\n",
        "# print(x_train.shape, y_train.shape)"
      ],
      "metadata": {
        "id": "my1x9lnGfznY"
      },
      "execution_count": null,
      "outputs": []
    },
    {
      "cell_type": "code",
      "source": [],
      "metadata": {
        "id": "1NlrsIr4j0Ma"
      },
      "execution_count": null,
      "outputs": []
    },
    {
      "cell_type": "markdown",
      "source": [
        "##Model Architecture"
      ],
      "metadata": {
        "id": "HFI4rza1j0Y3"
      }
    },
    {
      "cell_type": "code",
      "source": [
        "model = Sequential()\n",
        "model.add(LSTM(units=50, return_sequences=True))\n",
        "model.add(LSTM(units=50, return_sequences=False))\n",
        "model.add(Dense(units=25))\n",
        "model.add(Dense(units=1))\n",
        "\n",
        "model.compile(optimizer='adam', loss='mean_squared_error')\n",
        "## epochs = 9\n",
        "history = model.fit(x_train, y_train, batch_size=256, epochs=40, validation_split=0.2)"
      ],
      "metadata": {
        "colab": {
          "base_uri": "https://localhost:8080/"
        },
        "outputId": "23e25a5b-8a79-4355-ec3a-664596957821",
        "id": "lGyZ706Jj0Y3"
      },
      "execution_count": null,
      "outputs": [
        {
          "output_type": "stream",
          "name": "stdout",
          "text": [
            "Epoch 1/40\n",
            "17/17 [==============================] - 7s 170ms/step - loss: 0.1798 - val_loss: 0.0912\n",
            "Epoch 2/40\n",
            "17/17 [==============================] - 4s 238ms/step - loss: 0.0766 - val_loss: 0.0642\n",
            "Epoch 3/40\n",
            "17/17 [==============================] - 3s 172ms/step - loss: 0.0590 - val_loss: 0.0479\n",
            "Epoch 4/40\n",
            "17/17 [==============================] - 2s 124ms/step - loss: 0.0493 - val_loss: 0.0393\n",
            "Epoch 5/40\n",
            "17/17 [==============================] - 2s 123ms/step - loss: 0.0438 - val_loss: 0.0358\n",
            "Epoch 6/40\n",
            "17/17 [==============================] - 2s 123ms/step - loss: 0.0394 - val_loss: 0.0319\n",
            "Epoch 7/40\n",
            "17/17 [==============================] - 3s 193ms/step - loss: 0.0352 - val_loss: 0.0281\n",
            "Epoch 8/40\n",
            "17/17 [==============================] - 3s 146ms/step - loss: 0.0314 - val_loss: 0.0241\n",
            "Epoch 9/40\n",
            "17/17 [==============================] - 2s 122ms/step - loss: 0.0269 - val_loss: 0.0197\n",
            "Epoch 10/40\n",
            "17/17 [==============================] - 2s 120ms/step - loss: 0.0223 - val_loss: 0.0152\n",
            "Epoch 11/40\n",
            "17/17 [==============================] - 2s 122ms/step - loss: 0.0175 - val_loss: 0.0109\n",
            "Epoch 12/40\n",
            "17/17 [==============================] - 2s 122ms/step - loss: 0.0145 - val_loss: 0.0108\n",
            "Epoch 13/40\n",
            "17/17 [==============================] - 4s 223ms/step - loss: 0.0130 - val_loss: 0.0071\n",
            "Epoch 14/40\n",
            "17/17 [==============================] - 2s 121ms/step - loss: 0.0113 - val_loss: 0.0065\n",
            "Epoch 15/40\n",
            "17/17 [==============================] - 2s 121ms/step - loss: 0.0111 - val_loss: 0.0060\n",
            "Epoch 16/40\n",
            "17/17 [==============================] - 2s 123ms/step - loss: 0.0107 - val_loss: 0.0077\n",
            "Epoch 17/40\n",
            "17/17 [==============================] - 2s 125ms/step - loss: 0.0104 - val_loss: 0.0059\n",
            "Epoch 18/40\n",
            "17/17 [==============================] - 3s 156ms/step - loss: 0.0101 - val_loss: 0.0060\n",
            "Epoch 19/40\n",
            "17/17 [==============================] - 3s 177ms/step - loss: 0.0099 - val_loss: 0.0055\n",
            "Epoch 20/40\n",
            "17/17 [==============================] - 2s 121ms/step - loss: 0.0100 - val_loss: 0.0065\n",
            "Epoch 21/40\n",
            "17/17 [==============================] - 2s 121ms/step - loss: 0.0110 - val_loss: 0.0062\n",
            "Epoch 22/40\n",
            "17/17 [==============================] - 2s 120ms/step - loss: 0.0112 - val_loss: 0.0056\n",
            "Epoch 23/40\n",
            "17/17 [==============================] - 2s 122ms/step - loss: 0.0107 - val_loss: 0.0058\n",
            "Epoch 24/40\n",
            "17/17 [==============================] - 3s 190ms/step - loss: 0.0100 - val_loss: 0.0061\n",
            "Epoch 25/40\n",
            "17/17 [==============================] - 2s 141ms/step - loss: 0.0100 - val_loss: 0.0056\n",
            "Epoch 26/40\n",
            "17/17 [==============================] - 2s 120ms/step - loss: 0.0108 - val_loss: 0.0066\n",
            "Epoch 27/40\n",
            "17/17 [==============================] - 2s 121ms/step - loss: 0.0106 - val_loss: 0.0055\n",
            "Epoch 28/40\n",
            "17/17 [==============================] - 2s 121ms/step - loss: 0.0103 - val_loss: 0.0059\n",
            "Epoch 29/40\n",
            "17/17 [==============================] - 2s 122ms/step - loss: 0.0102 - val_loss: 0.0056\n",
            "Epoch 30/40\n",
            "17/17 [==============================] - 4s 214ms/step - loss: 0.0097 - val_loss: 0.0055\n",
            "Epoch 31/40\n",
            "17/17 [==============================] - 2s 130ms/step - loss: 0.0098 - val_loss: 0.0059\n",
            "Epoch 32/40\n",
            "17/17 [==============================] - 2s 125ms/step - loss: 0.0098 - val_loss: 0.0056\n",
            "Epoch 33/40\n",
            "17/17 [==============================] - 3s 160ms/step - loss: 0.0099 - val_loss: 0.0058\n",
            "Epoch 34/40\n",
            "17/17 [==============================] - 2s 124ms/step - loss: 0.0098 - val_loss: 0.0057\n",
            "Epoch 35/40\n",
            "17/17 [==============================] - 4s 213ms/step - loss: 0.0102 - val_loss: 0.0056\n",
            "Epoch 36/40\n",
            "17/17 [==============================] - 2s 121ms/step - loss: 0.0097 - val_loss: 0.0056\n",
            "Epoch 37/40\n",
            "17/17 [==============================] - 2s 121ms/step - loss: 0.0098 - val_loss: 0.0056\n",
            "Epoch 38/40\n",
            "17/17 [==============================] - 2s 121ms/step - loss: 0.0098 - val_loss: 0.0056\n",
            "Epoch 39/40\n",
            "17/17 [==============================] - 2s 127ms/step - loss: 0.0100 - val_loss: 0.0055\n",
            "Epoch 40/40\n",
            "17/17 [==============================] - 2s 148ms/step - loss: 0.0098 - val_loss: 0.0055\n"
          ]
        }
      ]
    },
    {
      "cell_type": "code",
      "source": [
        "plt.plot(history.history['loss'])\n",
        "plt.plot(history.history['val_loss'])\n",
        "plt.show()"
      ],
      "metadata": {
        "colab": {
          "base_uri": "https://localhost:8080/"
        },
        "outputId": "f4a5fc0f-f1b3-4fc4-fcdf-524c981083e0",
        "id": "YkZRqfzlj0Y4"
      },
      "execution_count": null,
      "outputs": [
        {
          "output_type": "display_data",
          "data": {
            "text/plain": [
              "<Figure size 640x480 with 1 Axes>"
            ],
            "image/png": "[encoded data removed]"
          },
          "metadata": {}
        }
      ]
    },
    {
      "cell_type": "markdown",
      "source": [
        "##Creating testing batches"
      ],
      "metadata": {
        "id": "5L_z4QgIkNa8"
      }
    },
    {
      "cell_type": "code",
      "source": [
        "batches_testing = []\n",
        "targets_testing = []\n",
        "vol_batches_testing = []\n",
        "\n",
        "for i in range(30,len(testing_data)):\n",
        "    buffer_array = list(testing_data[i-30:i,:-1])\n",
        "    targets_testing.append(testing_data[i][0])\n",
        "    batches_testing.append(buffer_array)\n",
        "    vol_batches_testing.append(list(testing_data[i-30:i, -1]))\n",
        "\n",
        "print(np.array(batches_testing).shape, np.array(targets_testing).shape, np.array(vol_batches_testing).shape)\n"
      ],
      "metadata": {
        "colab": {
          "base_uri": "https://localhost:8080/"
        },
        "outputId": "53a9e6ce-2d82-47de-ac9d-03fb9f08d646",
        "id": "at4wDYh3kNa8"
      },
      "execution_count": null,
      "outputs": [
        {
          "output_type": "stream",
          "name": "stdout",
          "text": [
            "(1305, 30, 2) (1305,) (1305, 30)\n"
          ]
        }
      ]
    },
    {
      "cell_type": "code",
      "source": [
        "#Define batch scaling function\n",
        "scaled_testing_data = []\n",
        "scaled_testing_targets = []\n",
        "scaled_testing_volume_data = []\n",
        "\n",
        "scaling_dict = {}\n",
        "def inverse_scale_data(x, min_x, max_x):\n",
        "  orig_seq = []\n",
        "  for j in x:\n",
        "    buffer_array = []\n",
        "    for k in j:\n",
        "      orig_k = k*(max_x-min_x) + min_x\n",
        "      buffer_array.append(orig_k)\n",
        "    orig_seq.append(buffer_array)\n",
        "  return orig_seq\n",
        "\n",
        "def inverse_scale_target(x, min_x, max_x):\n",
        "  orig_x = x*(max_x-min_x) + min_x\n",
        "  return orig_x\n",
        "\n",
        "def scale_vol(x):\n",
        "  seq_x = np.array(x)\n",
        "  max_x = np.amax(seq_x)\n",
        "  min_x = np.amin(seq_x)\n",
        "  new_seq = []\n",
        "  for k in seq_x:\n",
        "    new_k = (k-min_x)/(max_x-min_x)\n",
        "    new_seq.append(new_k)\n",
        "  return new_seq\n",
        "\n",
        "def scale(x, buffer_target,i):\n",
        "  seq_x = np.array(x)\n",
        "  max_x = np.amax(seq_x)\n",
        "  min_x = np.amin(seq_x)\n",
        "  scaling_dict[i] = (min_x, max_x)\n",
        "  new_seq = []\n",
        "  for j in seq_x:\n",
        "    buffer_seq = []\n",
        "    for k in j:\n",
        "      new_k = (k-min_x)/(max_x-min_x)\n",
        "      buffer_seq.append(new_k)\n",
        "    new_seq.append(buffer_seq)\n",
        "  scaled_target = (buffer_target-min_x)/(max_x-min_x)\n",
        "  return new_seq, scaled_target\n",
        "\n",
        "\n",
        "for i in range(0, len(batches_testing)):\n",
        "  seq = batches_testing[i]\n",
        "  buffer_target = targets_testing[i]\n",
        "  vol_seq = vol_batches_testing[i]\n",
        "  new_vol_seq = scale_vol(vol_seq)\n",
        "  new_seq, scaled_target = scale(seq, buffer_target, i)\n",
        "  scaled_testing_data.append(new_seq)\n",
        "  scaled_testing_targets.append(scaled_target)\n",
        "  scaled_testing_volume_data.append(new_vol_seq)\n",
        "\n",
        "print(np.array(scaled_testing_data).shape, np.array(scaled_testing_targets).shape, np.array(scaled_testing_volume_data).shape)"
      ],
      "metadata": {
        "colab": {
          "base_uri": "https://localhost:8080/"
        },
        "outputId": "8cc00eb1-5a46-4afc-8f18-56491c6afb58",
        "id": "vlIpcbfPkNa8"
      },
      "execution_count": null,
      "outputs": [
        {
          "output_type": "stream",
          "name": "stdout",
          "text": [
            "(1305, 30, 2) (1305,) (1305, 30)\n"
          ]
        }
      ]
    },
    {
      "cell_type": "code",
      "source": [
        "len(scaling_dict.keys())"
      ],
      "metadata": {
        "colab": {
          "base_uri": "https://localhost:8080/"
        },
        "outputId": "b6216439-55d0-4e05-c4b3-661cda929af2",
        "id": "0146cLgtkNa8"
      },
      "execution_count": null,
      "outputs": [
        {
          "output_type": "execute_result",
          "data": {
            "text/plain": [
              "1305"
            ]
          },
          "metadata": {},
          "execution_count": 114
        }
      ]
    },
    {
      "cell_type": "code",
      "source": [
        "x_test = []\n",
        "for i in range(0, len(scaled_testing_data)):\n",
        "  seq = list(scaled_testing_data[i])\n",
        "  vol_seq = list(scaled_testing_volume_data[i])\n",
        "  buffer_arr = []\n",
        "  for j in range(0, len(seq)):\n",
        "    buffer_seq = list(seq[j])\n",
        "    buffer_seq.append(vol_seq[j])\n",
        "    buffer_arr.append(buffer_seq)\n",
        "  x_test.append(buffer_arr)\n",
        "\n",
        "x_test = np.array(x_test)\n",
        "y_test = np.array(scaled_testing_targets)\n",
        "print(x_train.shape, y_train.shape)"
      ],
      "metadata": {
        "colab": {
          "base_uri": "https://localhost:8080/"
        },
        "outputId": "ca002323-686b-48e1-c63f-d1c471842a61",
        "id": "jUDFz7i9kNa9"
      },
      "execution_count": null,
      "outputs": [
        {
          "output_type": "stream",
          "name": "stdout",
          "text": [
            "(5311, 30, 3) (5311,)\n"
          ]
        }
      ]
    },
    {
      "cell_type": "markdown",
      "source": [
        "##Testing"
      ],
      "metadata": {
        "id": "XruS8nRYlqVq"
      }
    },
    {
      "cell_type": "code",
      "source": [
        "model.evaluate(x_test, y_test)"
      ],
      "metadata": {
        "colab": {
          "base_uri": "https://localhost:8080/"
        },
        "outputId": "cf55876c-10d6-4eec-9d65-719f2c8d4f31",
        "id": "v2W_jNhalqVq"
      },
      "execution_count": null,
      "outputs": [
        {
          "output_type": "stream",
          "name": "stdout",
          "text": [
            "41/41 [==============================] - 1s 13ms/step - loss: 0.0066\n"
          ]
        },
        {
          "output_type": "execute_result",
          "data": {
            "text/plain": [
              "0.006633469369262457"
            ]
          },
          "metadata": {},
          "execution_count": 116
        }
      ]
    },
    {
      "cell_type": "code",
      "source": [
        "prediction_list = model.predict(x_test)"
      ],
      "metadata": {
        "colab": {
          "base_uri": "https://localhost:8080/"
        },
        "outputId": "d59344a4-2f41-4f49-c4ee-543eaa22cedc",
        "id": "xvpekHuBlqVr"
      },
      "execution_count": null,
      "outputs": [
        {
          "output_type": "stream",
          "name": "stdout",
          "text": [
            "41/41 [==============================] - 2s 15ms/step\n"
          ]
        }
      ]
    },
    {
      "cell_type": "code",
      "source": [
        "transformed_prediction_list = []\n",
        "\n",
        "for i in range(0,len(prediction_list)):\n",
        "    dict_values = list(scaling_dict[i])\n",
        "    or_seq = inverse_scale_target(prediction_list[i], dict_values[0], dict_values[1])\n",
        "    transformed_prediction_list.append(or_seq)"
      ],
      "metadata": {
        "id": "V5O_-WXHlqVr"
      },
      "execution_count": null,
      "outputs": []
    },
    {
      "cell_type": "code",
      "source": [
        "print(len(transformed_prediction_list), len(testing_data[30:]))\n",
        "plt.plot(transformed_prediction_list)\n",
        "plt.plot(pd.DataFrame(testing_data[30:])[0])"
      ],
      "metadata": {
        "colab": {
          "base_uri": "https://localhost:8080/"
        },
        "outputId": "5688cd2e-cff3-48bb-f786-e113dc37c899",
        "id": "OOm5fzLIlqVr"
      },
      "execution_count": null,
      "outputs": [
        {
          "output_type": "stream",
          "name": "stdout",
          "text": [
            "1305 1305\n"
          ]
        },
        {
          "output_type": "execute_result",
          "data": {
            "text/plain": [
              "[<matplotlib.lines.Line2D at 0x7fa6101d4910>]"
            ]
          },
          "metadata": {},
          "execution_count": 119
        },
        {
          "output_type": "display_data",
          "data": {
            "text/plain": [
              "<Figure size 640x480 with 1 Axes>"
            ],
            "image/png": "[encoded data removed]"
          },
          "metadata": {}
        }
      ]
    },
    {
      "cell_type": "code",
      "source": [
        "transformed_prediction_list = np.array(transformed_prediction_list)\n",
        "testing_data_np = np.array(pd.DataFrame(testing_data[30:])[0])\n",
        "\n",
        "print(transformed_prediction_list.shape, testing_data_np.shape)\n",
        "error = 0\n",
        "for i in range(0,len(testing_data_np)):\n",
        "  buffer_error = math.sqrt((transformed_prediction_list[i] - testing_data_np[i])*(transformed_prediction_list[i] - testing_data_np[i]))\n",
        "  error += buffer_error\n",
        "\n",
        "base_stock_rmse = error/len(testing_data_np)\n",
        "print(\"Final rmse: \", error/len(testing_data_np))"
      ],
      "metadata": {
        "colab": {
          "base_uri": "https://localhost:8080/"
        },
        "outputId": "54871961-d413-4523-97b8-edeb7dc38cbf",
        "id": "HD_ze18NlqVr"
      },
      "execution_count": null,
      "outputs": [
        {
          "output_type": "stream",
          "name": "stdout",
          "text": [
            "(1305, 1) (1305,)\n",
            "Final rmse:  6.842296710527515\n"
          ]
        }
      ]
    },
    {
      "cell_type": "markdown",
      "source": [
        "##Check how accurate regression is"
      ],
      "metadata": {
        "id": "XeljWvn21wv6"
      }
    },
    {
      "cell_type": "code",
      "source": [
        "preds, actual_close = pd.DataFrame(np.array(transformed_prediction_list)), pd.DataFrame(np.array(testing_data[30:]))\n",
        "dataframe = pd.concat([preds, actual_close], axis=1)\n",
        "dataframe.columns = ['preds', 'actual open', 'actual close', 'volume']\n",
        "dataframe"
      ],
      "metadata": {
        "colab": {
          "base_uri": "https://localhost:8080/"
        },
        "outputId": "4b07e1be-831b-4d78-9bb6-cb063448c5e2",
        "id": "07suKYlT1wv6"
      },
      "execution_count": null,
      "outputs": [
        {
          "output_type": "execute_result",
          "data": {
            "text/plain": [
              "            preds  actual open  actual close     volume\n",
              "0      721.440002   723.000000    716.599976  2074526.0\n",
              "1      717.614624   717.625000    716.174988  2872040.0\n",
              "2      716.546875   715.750000    719.250000  3062208.0\n",
              "3      719.648743   715.525024    719.424988  2324180.0\n",
              "4      719.679932   721.500000    717.075012  1696938.0\n",
              "...           ...          ...           ...        ...\n",
              "1300  1354.651245  1348.000000   1371.250000  7524539.0\n",
              "1301  1373.692749  1380.000000   1395.800049  8871571.0\n",
              "1302  1399.287842  1410.000000   1397.099976  6237015.0\n",
              "1303  1397.712036  1394.000000   1406.150024  3731416.0\n",
              "1304  1405.351562  1405.250000   1391.800049  4938487.0\n",
              "\n",
              "[1305 rows x 4 columns]"
            ],
            "text/html": [
              "\n",
              "  <div id=\"df-e4247682-be0e-4524-bac9-6dd16bdcfee1\">\n",
              "    <div class=\"colab-df-container\">\n",
              "      <div>\n",
              "<style scoped>\n",
              "    .dataframe tbody tr th:only-of-type {\n",
              "        vertical-align: middle;\n",
              "    }\n",
              "\n",
              "    .dataframe tbody tr th {\n",
              "        vertical-align: top;\n",
              "    }\n",
              "\n",
              "    .dataframe thead th {\n",
              "        text-align: right;\n",
              "    }\n",
              "</style>\n",
              "<table border=\"1\" class=\"dataframe\">\n",
              "  <thead>\n",
              "    <tr style=\"text-align: right;\">\n",
              "      <th></th>\n",
              "      <th>preds</th>\n",
              "      <th>actual open</th>\n",
              "      <th>actual close</th>\n",
              "      <th>volume</th>\n",
              "    </tr>\n",
              "  </thead>\n",
              "  <tbody>\n",
              "    <tr>\n",
              "      <th>0</th>\n",
              "      <td>721.440002</td>\n",
              "      <td>723.000000</td>\n",
              "      <td>716.599976</td>\n",
              "      <td>2074526.0</td>\n",
              "    </tr>\n",
              "    <tr>\n",
              "      <th>1</th>\n",
              "      <td>717.614624</td>\n",
              "      <td>717.625000</td>\n",
              "      <td>716.174988</td>\n",
              "      <td>2872040.0</td>\n",
              "    </tr>\n",
              "    <tr>\n",
              "      <th>2</th>\n",
              "      <td>716.546875</td>\n",
              "      <td>715.750000</td>\n",
              "      <td>719.250000</td>\n",
              "      <td>3062208.0</td>\n",
              "    </tr>\n",
              "    <tr>\n",
              "      <th>3</th>\n",
              "      <td>719.648743</td>\n",
              "      <td>715.525024</td>\n",
              "      <td>719.424988</td>\n",
              "      <td>2324180.0</td>\n",
              "    </tr>\n",
              "    <tr>\n",
              "      <th>4</th>\n",
              "      <td>719.679932</td>\n",
              "      <td>721.500000</td>\n",
              "      <td>717.075012</td>\n",
              "      <td>1696938.0</td>\n",
              "    </tr>\n",
              "    <tr>\n",
              "      <th>...</th>\n",
              "      <td>...</td>\n",
              "      <td>...</td>\n",
              "      <td>...</td>\n",
              "      <td>...</td>\n",
              "    </tr>\n",
              "    <tr>\n",
              "      <th>1300</th>\n",
              "      <td>1354.651245</td>\n",
              "      <td>1348.000000</td>\n",
              "      <td>1371.250000</td>\n",
              "      <td>7524539.0</td>\n",
              "    </tr>\n",
              "    <tr>\n",
              "      <th>1301</th>\n",
              "      <td>1373.692749</td>\n",
              "      <td>1380.000000</td>\n",
              "      <td>1395.800049</td>\n",
              "      <td>8871571.0</td>\n",
              "    </tr>\n",
              "    <tr>\n",
              "      <th>1302</th>\n",
              "      <td>1399.287842</td>\n",
              "      <td>1410.000000</td>\n",
              "      <td>1397.099976</td>\n",
              "      <td>6237015.0</td>\n",
              "    </tr>\n",
              "    <tr>\n",
              "      <th>1303</th>\n",
              "      <td>1397.712036</td>\n",
              "      <td>1394.000000</td>\n",
              "      <td>1406.150024</td>\n",
              "      <td>3731416.0</td>\n",
              "    </tr>\n",
              "    <tr>\n",
              "      <th>1304</th>\n",
              "      <td>1405.351562</td>\n",
              "      <td>1405.250000</td>\n",
              "      <td>1391.800049</td>\n",
              "      <td>4938487.0</td>\n",
              "    </tr>\n",
              "  </tbody>\n",
              "</table>\n",
              "<p>1305 rows × 4 columns</p>\n",
              "</div>\n",
              "      <button class=\"colab-df-convert\" onclick=\"convertToInteractive('df-e4247682-be0e-4524-bac9-6dd16bdcfee1')\"\n",
              "              title=\"Convert this dataframe to an interactive table.\"\n",
              "              style=\"display:none;\">\n",
              "        \n",
              "  <svg xmlns=\"http://www.w3.org/2000/svg\" height=\"24px\"viewBox=\"0 0 24 24\"\n",
              "       width=\"24px\">\n",
              "    <path d=\"M0 0h24v24H0V0z\" fill=\"none\"/>\n",
              "    <path d=\"M18.56 5.44l.94 2.06.94-2.06 2.06-.94-2.06-.94-.94-2.06-.94 2.06-2.06.94zm-11 1L8.5 8.5l.94-2.06 2.06-.94-2.06-.94L8.5 2.5l-.94 2.06-2.06.94zm10 10l.94 2.06.94-2.06 2.06-.94-2.06-.94-.94-2.06-.94 2.06-2.06.94z\"/><path d=\"M17.41 7.96l-1.37-1.37c-.4-.4-.92-.59-1.43-.59-.52 0-1.04.2-1.43.59L10.3 9.45l-7.72 7.72c-.78.78-.78 2.05 0 2.83L4 21.41c.39.39.9.59 1.41.59.51 0 1.02-.2 1.41-.59l7.78-7.78 2.81-2.81c.8-.78.8-2.07 0-2.86zM5.41 20L4 18.59l7.72-7.72 1.47 1.35L5.41 20z\"/>\n",
              "  </svg>\n",
              "      </button>\n",
              "      \n",
              "  <style>\n",
              "    .colab-df-container {\n",
              "      display:flex;\n",
              "      flex-wrap:wrap;\n",
              "      gap: 12px;\n",
              "    }\n",
              "\n",
              "    .colab-df-convert {\n",
              "      background-color: #E8F0FE;\n",
              "      border: none;\n",
              "      border-radius: 50%;\n",
              "      cursor: pointer;\n",
              "      display: none;\n",
              "      fill: #1967D2;\n",
              "      height: 32px;\n",
              "      padding: 0 0 0 0;\n",
              "      width: 32px;\n",
              "    }\n",
              "\n",
              "    .colab-df-convert:hover {\n",
              "      background-color: #E2EBFA;\n",
              "      box-shadow: 0px 1px 2px rgba(60, 64, 67, 0.3), 0px 1px 3px 1px rgba(60, 64, 67, 0.15);\n",
              "      fill: #174EA6;\n",
              "    }\n",
              "\n",
              "    [theme=dark] .colab-df-convert {\n",
              "      background-color: #3B4455;\n",
              "      fill: #D2E3FC;\n",
              "    }\n",
              "\n",
              "    [theme=dark] .colab-df-convert:hover {\n",
              "      background-color: #434B5C;\n",
              "      box-shadow: 0px 1px 3px 1px rgba(0, 0, 0, 0.15);\n",
              "      filter: drop-shadow(0px 1px 2px rgba(0, 0, 0, 0.3));\n",
              "      fill: #FFFFFF;\n",
              "    }\n",
              "  </style>\n",
              "\n",
              "      <script>\n",
              "        const buttonEl =\n",
              "          document.querySelector('#df-e4247682-be0e-4524-bac9-6dd16bdcfee1 button.colab-df-convert');\n",
              "        buttonEl.style.display =\n",
              "          google.colab.kernel.accessAllowed ? 'block' : 'none';\n",
              "\n",
              "        async function convertToInteractive(key) {\n",
              "          const element = document.querySelector('#df-e4247682-be0e-4524-bac9-6dd16bdcfee1');\n",
              "          const dataTable =\n",
              "            await google.colab.kernel.invokeFunction('convertToInteractive',\n",
              "                                                     [key], {});\n",
              "          if (!dataTable) return;\n",
              "\n",
              "          const docLinkHtml = 'Like what you see? Visit the ' +\n",
              "            '<a target=\"_blank\" href=https://colab.research.google.com/notebooks/data_table.ipynb>data table notebook</a>'\n",
              "            + ' to learn more about interactive tables.';\n",
              "          element.innerHTML = '';\n",
              "          dataTable['output_type'] = 'display_data';\n",
              "          await google.colab.output.renderOutput(dataTable, element);\n",
              "          const docLink = document.createElement('div');\n",
              "          docLink.innerHTML = docLinkHtml;\n",
              "          element.appendChild(docLink);\n",
              "        }\n",
              "      </script>\n",
              "    </div>\n",
              "  </div>\n",
              "  "
            ]
          },
          "metadata": {},
          "execution_count": 121
        }
      ]
    },
    {
      "cell_type": "code",
      "source": [
        "fp = 0\n",
        "fn = 0\n",
        "tn = 0\n",
        "tp = 0\n",
        "\n",
        "for i in range(0, dataframe.shape[0]-1):\n",
        "    if dataframe.iloc[i+1][0] > dataframe.iloc[i][2] and dataframe.iloc[i+1][1]>dataframe.iloc[i][2]:\n",
        "        tp += 1\n",
        "    elif dataframe.iloc[i+1][0] > dataframe.iloc[i][2] and dataframe.iloc[i+1][1]<dataframe.iloc[i][2]:\n",
        "        fp += 1\n",
        "    elif dataframe.iloc[i+1][0] < dataframe.iloc[i][2] and dataframe.iloc[i+1][1]<dataframe.iloc[i][2]:\n",
        "        tn += 1\n",
        "    elif dataframe.iloc[i+1][0] < dataframe.iloc[i][2] and dataframe.iloc[i+1][1]>dataframe.iloc[i][2]:\n",
        "        fn += 1\n",
        "\n",
        "base_stock_matrix = (tp,fp,fn,tn)\n",
        "base_stock_accuracy = tp/(tp+fp)"
      ],
      "metadata": {
        "id": "SRePEC731wv6"
      },
      "execution_count": null,
      "outputs": []
    },
    {
      "cell_type": "code",
      "source": [
        "print(tp,fp,fn, tn)"
      ],
      "metadata": {
        "colab": {
          "base_uri": "https://localhost:8080/"
        },
        "outputId": "b325fe62-b8c5-4513-ad92-719cae2c59f6",
        "id": "KS38JNGI1wv6"
      },
      "execution_count": null,
      "outputs": [
        {
          "output_type": "stream",
          "name": "stdout",
          "text": [
            "676 475 80 50\n"
          ]
        }
      ]
    },
    {
      "cell_type": "code",
      "source": [
        "tp /(tp +fp )"
      ],
      "metadata": {
        "colab": {
          "base_uri": "https://localhost:8080/"
        },
        "outputId": "0d4e304a-4c26-46ae-c8d4-9b2794404021",
        "id": "s8cnsBUE1wv7"
      },
      "execution_count": null,
      "outputs": [
        {
          "output_type": "execute_result",
          "data": {
            "text/plain": [
              "0.5873153779322329"
            ]
          },
          "metadata": {},
          "execution_count": 124
        }
      ]
    },
    {
      "cell_type": "code",
      "source": [],
      "metadata": {
        "id": "zT6hInx21wv7"
      },
      "execution_count": null,
      "outputs": []
    },
    {
      "cell_type": "markdown",
      "source": [
        "##Testing on test_stock"
      ],
      "metadata": {
        "id": "n6_osI86mNRO"
      }
    },
    {
      "cell_type": "code",
      "source": [
        "df_IGL = pdr.get_data_yahoo(test_stock, start=\"1980-02-01\", end=\"2022-07-13\")"
      ],
      "metadata": {
        "colab": {
          "base_uri": "https://localhost:8080/"
        },
        "outputId": "743c4e09-f711-4d58-afe0-d1a38ee42f21",
        "id": "k-lLfDjamNRP"
      },
      "execution_count": null,
      "outputs": [
        {
          "output_type": "stream",
          "name": "stdout",
          "text": [
            "\r[*********************100%***********************]  1 of 1 completed\n"
          ]
        }
      ]
    },
    {
      "cell_type": "code",
      "source": [
        "testing_data = np.array(df_IGL[['Open', 'Close', 'Volume']])\n",
        "\n",
        "import math\n",
        "\n",
        "print(testing_data.shape)"
      ],
      "metadata": {
        "colab": {
          "base_uri": "https://localhost:8080/"
        },
        "outputId": "8a83d6f4-2415-471c-e199-1e688d39beee",
        "id": "4aPcKj0cmNRP"
      },
      "execution_count": null,
      "outputs": [
        {
          "output_type": "stream",
          "name": "stdout",
          "text": [
            "(4978, 3)\n"
          ]
        }
      ]
    },
    {
      "cell_type": "code",
      "source": [
        "batches_testing = []\n",
        "targets_testing = []\n",
        "vol_batches_testing = []\n",
        "\n",
        "for i in range(30,len(testing_data)):\n",
        "    buffer_array = list(testing_data[i-30:i,:-1])\n",
        "    targets_testing.append(testing_data[i][0])\n",
        "    batches_testing.append(buffer_array)\n",
        "    vol_batches_testing.append(list(testing_data[i-30:i, -1]))\n",
        "\n",
        "print(np.array(batches_testing).shape, np.array(targets_testing).shape, np.array(vol_batches_testing).shape)\n"
      ],
      "metadata": {
        "colab": {
          "base_uri": "https://localhost:8080/"
        },
        "outputId": "e17b4457-dbcf-4fca-f4f5-19bbca3aec2f",
        "id": "swaf6mQRmNRP"
      },
      "execution_count": null,
      "outputs": [
        {
          "output_type": "stream",
          "name": "stdout",
          "text": [
            "(4948, 30, 2) (4948,) (4948, 30)\n"
          ]
        }
      ]
    },
    {
      "cell_type": "code",
      "source": [
        "#Define batch scaling function\n",
        "scaled_testing_data = []\n",
        "scaled_testing_targets = []\n",
        "scaled_testing_volume_data = []\n",
        "\n",
        "scaling_dict = {}\n",
        "def inverse_scale_data(x, min_x, max_x):\n",
        "  orig_seq = []\n",
        "  for j in x:\n",
        "    buffer_array = []\n",
        "    for k in j:\n",
        "      orig_k = k*(max_x-min_x) + min_x\n",
        "      buffer_array.append(orig_k)\n",
        "    orig_seq.append(buffer_array)\n",
        "  return orig_seq\n",
        "\n",
        "def inverse_scale_target(x, min_x, max_x):\n",
        "  orig_x = x*(max_x-min_x) + min_x\n",
        "  return orig_x\n",
        "\n",
        "def scale_vol(x):\n",
        "  seq_x = np.array(x)\n",
        "  max_x = np.amax(seq_x)\n",
        "  min_x = np.amin(seq_x)\n",
        "  new_seq = []\n",
        "  for k in seq_x:\n",
        "    new_k = (k-min_x)/(max_x-min_x)\n",
        "    new_seq.append(new_k)\n",
        "  return new_seq\n",
        "\n",
        "def scale(x, buffer_target,i):\n",
        "  seq_x = np.array(x)\n",
        "  max_x = np.amax(seq_x)\n",
        "  min_x = np.amin(seq_x)\n",
        "  scaling_dict[i] = (min_x, max_x)\n",
        "  new_seq = []\n",
        "  for j in seq_x:\n",
        "    buffer_seq = []\n",
        "    for k in j:\n",
        "      new_k = (k-min_x)/(max_x-min_x)\n",
        "      buffer_seq.append(new_k)\n",
        "    new_seq.append(buffer_seq)\n",
        "  scaled_target = (buffer_target-min_x)/(max_x-min_x)\n",
        "  return new_seq, scaled_target\n",
        "\n",
        "\n",
        "for i in range(0, len(batches_testing)):\n",
        "  seq = batches_testing[i]\n",
        "  buffer_target = targets_testing[i]\n",
        "  vol_seq = vol_batches_testing[i]\n",
        "  new_vol_seq = scale_vol(vol_seq)\n",
        "  new_seq, scaled_target = scale(seq, buffer_target, i)\n",
        "  scaled_testing_data.append(new_seq)\n",
        "  scaled_testing_targets.append(scaled_target)\n",
        "  scaled_testing_volume_data.append(new_vol_seq)\n",
        "\n",
        "print(np.array(scaled_testing_data).shape, np.array(scaled_testing_targets).shape, np.array(scaled_testing_volume_data).shape)"
      ],
      "metadata": {
        "colab": {
          "base_uri": "https://localhost:8080/"
        },
        "outputId": "aad00360-9c91-463e-e2e8-36bce432b18a",
        "id": "aXiT87vzmNRP"
      },
      "execution_count": null,
      "outputs": [
        {
          "output_type": "stream",
          "name": "stdout",
          "text": [
            "(4948, 30, 2) (4948,) (4948, 30)\n"
          ]
        }
      ]
    },
    {
      "cell_type": "code",
      "source": [
        "x_test = []\n",
        "for i in range(0, len(scaled_testing_data)):\n",
        "  seq = list(scaled_testing_data[i])\n",
        "  vol_seq = list(scaled_testing_volume_data[i])\n",
        "  buffer_arr = []\n",
        "  for j in range(0, len(seq)):\n",
        "    buffer_seq = list(seq[j])\n",
        "    buffer_seq.append(vol_seq[j])\n",
        "    buffer_arr.append(buffer_seq)\n",
        "  x_test.append(buffer_arr)\n",
        "\n",
        "x_test = np.array(x_test)\n",
        "y_test = np.array(scaled_testing_targets)\n",
        "print(x_train.shape, y_train.shape)"
      ],
      "metadata": {
        "colab": {
          "base_uri": "https://localhost:8080/"
        },
        "outputId": "fc9c097b-b2a8-4ca0-f65c-12d12c2a6b77",
        "id": "sLvIWPs6mNRP"
      },
      "execution_count": null,
      "outputs": [
        {
          "output_type": "stream",
          "name": "stdout",
          "text": [
            "(5311, 30, 3) (5311,)\n"
          ]
        }
      ]
    },
    {
      "cell_type": "code",
      "source": [
        "prediction_list = model.predict(x_test)\n"
      ],
      "metadata": {
        "colab": {
          "base_uri": "https://localhost:8080/"
        },
        "outputId": "a8907ca0-16fd-4419-9456-eefe90939d02",
        "id": "4dQrqnoimNRP"
      },
      "execution_count": null,
      "outputs": [
        {
          "output_type": "stream",
          "name": "stdout",
          "text": [
            "155/155 [==============================] - 2s 12ms/step\n"
          ]
        }
      ]
    },
    {
      "cell_type": "code",
      "source": [
        "transformed_prediction_list = []\n",
        "\n",
        "for i in range(0,len(prediction_list)):\n",
        "    dict_values = list(scaling_dict[i])\n",
        "    or_seq = inverse_scale_target(prediction_list[i], dict_values[0], dict_values[1])\n",
        "    transformed_prediction_list.append(or_seq)"
      ],
      "metadata": {
        "id": "e33nyqtAmNRP"
      },
      "execution_count": null,
      "outputs": []
    },
    {
      "cell_type": "code",
      "source": [
        "print(len(transformed_prediction_list), len(testing_data[30:]))\n",
        "plt.plot(transformed_prediction_list)\n",
        "plt.plot(pd.DataFrame(testing_data[30:])[0])"
      ],
      "metadata": {
        "colab": {
          "base_uri": "https://localhost:8080/"
        },
        "outputId": "9e7b69fb-b1ce-4eb0-d92b-d9b2dba38a56",
        "id": "vHJfRcKZmNRQ"
      },
      "execution_count": null,
      "outputs": [
        {
          "output_type": "stream",
          "name": "stdout",
          "text": [
            "4948 4948\n"
          ]
        },
        {
          "output_type": "execute_result",
          "data": {
            "text/plain": [
              "[<matplotlib.lines.Line2D at 0x7fa611d81cc0>]"
            ]
          },
          "metadata": {},
          "execution_count": 132
        },
        {
          "output_type": "display_data",
          "data": {
            "text/plain": [
              "<Figure size 640x480 with 1 Axes>"
            ],
            "image/png": "[encoded data removed]"
          },
          "metadata": {}
        }
      ]
    },
    {
      "cell_type": "code",
      "source": [
        "transformed_prediction_list = np.array(transformed_prediction_list)\n",
        "testing_data_np = np.array(pd.DataFrame(testing_data[30:])[0])\n",
        "\n",
        "print(transformed_prediction_list.shape, testing_data_np.shape)\n",
        "error = 0\n",
        "for i in range(0,len(testing_data_np)):\n",
        "  buffer_error = math.sqrt((transformed_prediction_list[i] - testing_data_np[i])*(transformed_prediction_list[i] - testing_data_np[i]))\n",
        "  error += buffer_error\n",
        "\n",
        "test_stock_rmse = error/len(testing_data_np)\n",
        "print(\"Final rmse: \", error/len(testing_data_np))"
      ],
      "metadata": {
        "colab": {
          "base_uri": "https://localhost:8080/"
        },
        "outputId": "a5cc9daa-6834-4444-88d1-99b0701900f9",
        "id": "qz434D9WmNRQ"
      },
      "execution_count": null,
      "outputs": [
        {
          "output_type": "stream",
          "name": "stdout",
          "text": [
            "(4948, 1) (4948,)\n",
            "Final rmse:  1.8793694966963996\n"
          ]
        }
      ]
    },
    {
      "cell_type": "markdown",
      "source": [
        "##Check how accurate regression is"
      ],
      "metadata": {
        "id": "uITcl9Pl1kBL"
      }
    },
    {
      "cell_type": "code",
      "source": [
        "preds, actual_close = pd.DataFrame(np.array(transformed_prediction_list)), pd.DataFrame(np.array(testing_data[30:]))\n",
        "dataframe = pd.concat([preds, actual_close], axis=1)\n",
        "dataframe.columns = ['preds', 'actual open', 'actual close', 'volume']\n",
        "dataframe"
      ],
      "metadata": {
        "colab": {
          "base_uri": "https://localhost:8080/"
        },
        "id": "7raIAGCX1kBL",
        "outputId": "b3781181-1a14-4261-ff44-4754e66ed000"
      },
      "execution_count": null,
      "outputs": [
        {
          "output_type": "execute_result",
          "data": {
            "text/plain": [
              "           preds  actual open  actual close      volume\n",
              "0      24.703529    24.545454     24.427273    467516.0\n",
              "1      24.476158    24.545454     24.418180    710748.0\n",
              "2      24.464083    24.472727     24.054544    573578.0\n",
              "3      24.096792    24.054544     24.054544         0.0\n",
              "4      24.071665    24.090908     24.400000    416421.0\n",
              "...          ...          ...           ...         ...\n",
              "4943  720.659912   723.000000    725.950012  12163533.0\n",
              "4944  727.705811   735.950012    742.000000  10374018.0\n",
              "4945  743.819763   751.299988    755.700012   9797700.0\n",
              "4946  757.074219   755.000000    769.500000  12440573.0\n",
              "4947  771.350830   765.349976    759.900024  10219829.0\n",
              "\n",
              "[4948 rows x 4 columns]"
            ],
            "text/html": [
              "\n",
              "  <div id=\"df-fa2474a2-c821-456d-b5e7-cb16c9931bc6\">\n",
              "    <div class=\"colab-df-container\">\n",
              "      <div>\n",
              "<style scoped>\n",
              "    .dataframe tbody tr th:only-of-type {\n",
              "        vertical-align: middle;\n",
              "    }\n",
              "\n",
              "    .dataframe tbody tr th {\n",
              "        vertical-align: top;\n",
              "    }\n",
              "\n",
              "    .dataframe thead th {\n",
              "        text-align: right;\n",
              "    }\n",
              "</style>\n",
              "<table border=\"1\" class=\"dataframe\">\n",
              "  <thead>\n",
              "    <tr style=\"text-align: right;\">\n",
              "      <th></th>\n",
              "      <th>preds</th>\n",
              "      <th>actual open</th>\n",
              "      <th>actual close</th>\n",
              "      <th>volume</th>\n",
              "    </tr>\n",
              "  </thead>\n",
              "  <tbody>\n",
              "    <tr>\n",
              "      <th>0</th>\n",
              "      <td>24.703529</td>\n",
              "      <td>24.545454</td>\n",
              "      <td>24.427273</td>\n",
              "      <td>467516.0</td>\n",
              "    </tr>\n",
              "    <tr>\n",
              "      <th>1</th>\n",
              "      <td>24.476158</td>\n",
              "      <td>24.545454</td>\n",
              "      <td>24.418180</td>\n",
              "      <td>710748.0</td>\n",
              "    </tr>\n",
              "    <tr>\n",
              "      <th>2</th>\n",
              "      <td>24.464083</td>\n",
              "      <td>24.472727</td>\n",
              "      <td>24.054544</td>\n",
              "      <td>573578.0</td>\n",
              "    </tr>\n",
              "    <tr>\n",
              "      <th>3</th>\n",
              "      <td>24.096792</td>\n",
              "      <td>24.054544</td>\n",
              "      <td>24.054544</td>\n",
              "      <td>0.0</td>\n",
              "    </tr>\n",
              "    <tr>\n",
              "      <th>4</th>\n",
              "      <td>24.071665</td>\n",
              "      <td>24.090908</td>\n",
              "      <td>24.400000</td>\n",
              "      <td>416421.0</td>\n",
              "    </tr>\n",
              "    <tr>\n",
              "      <th>...</th>\n",
              "      <td>...</td>\n",
              "      <td>...</td>\n",
              "      <td>...</td>\n",
              "      <td>...</td>\n",
              "    </tr>\n",
              "    <tr>\n",
              "      <th>4943</th>\n",
              "      <td>720.659912</td>\n",
              "      <td>723.000000</td>\n",
              "      <td>725.950012</td>\n",
              "      <td>12163533.0</td>\n",
              "    </tr>\n",
              "    <tr>\n",
              "      <th>4944</th>\n",
              "      <td>727.705811</td>\n",
              "      <td>735.950012</td>\n",
              "      <td>742.000000</td>\n",
              "      <td>10374018.0</td>\n",
              "    </tr>\n",
              "    <tr>\n",
              "      <th>4945</th>\n",
              "      <td>743.819763</td>\n",
              "      <td>751.299988</td>\n",
              "      <td>755.700012</td>\n",
              "      <td>9797700.0</td>\n",
              "    </tr>\n",
              "    <tr>\n",
              "      <th>4946</th>\n",
              "      <td>757.074219</td>\n",
              "      <td>755.000000</td>\n",
              "      <td>769.500000</td>\n",
              "      <td>12440573.0</td>\n",
              "    </tr>\n",
              "    <tr>\n",
              "      <th>4947</th>\n",
              "      <td>771.350830</td>\n",
              "      <td>765.349976</td>\n",
              "      <td>759.900024</td>\n",
              "      <td>10219829.0</td>\n",
              "    </tr>\n",
              "  </tbody>\n",
              "</table>\n",
              "<p>4948 rows × 4 columns</p>\n",
              "</div>\n",
              "      <button class=\"colab-df-convert\" onclick=\"convertToInteractive('df-fa2474a2-c821-456d-b5e7-cb16c9931bc6')\"\n",
              "              title=\"Convert this dataframe to an interactive table.\"\n",
              "              style=\"display:none;\">\n",
              "        \n",
              "  <svg xmlns=\"http://www.w3.org/2000/svg\" height=\"24px\"viewBox=\"0 0 24 24\"\n",
              "       width=\"24px\">\n",
              "    <path d=\"M0 0h24v24H0V0z\" fill=\"none\"/>\n",
              "    <path d=\"M18.56 5.44l.94 2.06.94-2.06 2.06-.94-2.06-.94-.94-2.06-.94 2.06-2.06.94zm-11 1L8.5 8.5l.94-2.06 2.06-.94-2.06-.94L8.5 2.5l-.94 2.06-2.06.94zm10 10l.94 2.06.94-2.06 2.06-.94-2.06-.94-.94-2.06-.94 2.06-2.06.94z\"/><path d=\"M17.41 7.96l-1.37-1.37c-.4-.4-.92-.59-1.43-.59-.52 0-1.04.2-1.43.59L10.3 9.45l-7.72 7.72c-.78.78-.78 2.05 0 2.83L4 21.41c.39.39.9.59 1.41.59.51 0 1.02-.2 1.41-.59l7.78-7.78 2.81-2.81c.8-.78.8-2.07 0-2.86zM5.41 20L4 18.59l7.72-7.72 1.47 1.35L5.41 20z\"/>\n",
              "  </svg>\n",
              "      </button>\n",
              "      \n",
              "  <style>\n",
              "    .colab-df-container {\n",
              "      display:flex;\n",
              "      flex-wrap:wrap;\n",
              "      gap: 12px;\n",
              "    }\n",
              "\n",
              "    .colab-df-convert {\n",
              "      background-color: #E8F0FE;\n",
              "      border: none;\n",
              "      border-radius: 50%;\n",
              "      cursor: pointer;\n",
              "      display: none;\n",
              "      fill: #1967D2;\n",
              "      height: 32px;\n",
              "      padding: 0 0 0 0;\n",
              "      width: 32px;\n",
              "    }\n",
              "\n",
              "    .colab-df-convert:hover {\n",
              "      background-color: #E2EBFA;\n",
              "      box-shadow: 0px 1px 2px rgba(60, 64, 67, 0.3), 0px 1px 3px 1px rgba(60, 64, 67, 0.15);\n",
              "      fill: #174EA6;\n",
              "    }\n",
              "\n",
              "    [theme=dark] .colab-df-convert {\n",
              "      background-color: #3B4455;\n",
              "      fill: #D2E3FC;\n",
              "    }\n",
              "\n",
              "    [theme=dark] .colab-df-convert:hover {\n",
              "      background-color: #434B5C;\n",
              "      box-shadow: 0px 1px 3px 1px rgba(0, 0, 0, 0.15);\n",
              "      filter: drop-shadow(0px 1px 2px rgba(0, 0, 0, 0.3));\n",
              "      fill: #FFFFFF;\n",
              "    }\n",
              "  </style>\n",
              "\n",
              "      <script>\n",
              "        const buttonEl =\n",
              "          document.querySelector('#df-fa2474a2-c821-456d-b5e7-cb16c9931bc6 button.colab-df-convert');\n",
              "        buttonEl.style.display =\n",
              "          google.colab.kernel.accessAllowed ? 'block' : 'none';\n",
              "\n",
              "        async function convertToInteractive(key) {\n",
              "          const element = document.querySelector('#df-fa2474a2-c821-456d-b5e7-cb16c9931bc6');\n",
              "          const dataTable =\n",
              "            await google.colab.kernel.invokeFunction('convertToInteractive',\n",
              "                                                     [key], {});\n",
              "          if (!dataTable) return;\n",
              "\n",
              "          const docLinkHtml = 'Like what you see? Visit the ' +\n",
              "            '<a target=\"_blank\" href=https://colab.research.google.com/notebooks/data_table.ipynb>data table notebook</a>'\n",
              "            + ' to learn more about interactive tables.';\n",
              "          element.innerHTML = '';\n",
              "          dataTable['output_type'] = 'display_data';\n",
              "          await google.colab.output.renderOutput(dataTable, element);\n",
              "          const docLink = document.createElement('div');\n",
              "          docLink.innerHTML = docLinkHtml;\n",
              "          element.appendChild(docLink);\n",
              "        }\n",
              "      </script>\n",
              "    </div>\n",
              "  </div>\n",
              "  "
            ]
          },
          "metadata": {},
          "execution_count": 134
        }
      ]
    },
    {
      "cell_type": "code",
      "source": [
        "fp = 0\n",
        "fn = 0\n",
        "tn = 0\n",
        "tp = 0\n",
        "\n",
        "for i in range(0, dataframe.shape[0]-1):\n",
        "    if dataframe.iloc[i+1][0] > dataframe.iloc[i][2] and dataframe.iloc[i+1][1]>dataframe.iloc[i][2]:\n",
        "        tp += 1\n",
        "    elif dataframe.iloc[i+1][0] > dataframe.iloc[i][2] and dataframe.iloc[i+1][1]<dataframe.iloc[i][2]:\n",
        "        fp += 1\n",
        "    elif dataframe.iloc[i+1][0] < dataframe.iloc[i][2] and dataframe.iloc[i+1][1]<dataframe.iloc[i][2]:\n",
        "        tn += 1\n",
        "    elif dataframe.iloc[i+1][0] < dataframe.iloc[i][2] and dataframe.iloc[i+1][1]>dataframe.iloc[i][2]:\n",
        "        fn += 1\n",
        "\n",
        "test_stock_matrix = (tp,fp,fn,tn)\n",
        "test_stock_accuracy = tp/(tp+fp)"
      ],
      "metadata": {
        "id": "1yZHOcGo1kBM"
      },
      "execution_count": null,
      "outputs": []
    },
    {
      "cell_type": "code",
      "source": [
        "print(tp,fp,fn, tn)"
      ],
      "metadata": {
        "colab": {
          "base_uri": "https://localhost:8080/"
        },
        "outputId": "492bc291-2ff6-464c-f4fe-2991e60ae82c",
        "id": "gfKqsOsV1kBM"
      },
      "execution_count": null,
      "outputs": [
        {
          "output_type": "stream",
          "name": "stdout",
          "text": [
            "2618 1662 322 204\n"
          ]
        }
      ]
    },
    {
      "cell_type": "code",
      "source": [
        "tp /(tp +fp )"
      ],
      "metadata": {
        "colab": {
          "base_uri": "https://localhost:8080/"
        },
        "outputId": "d0c0e71d-741d-43f5-cd05-e4abf137af6d",
        "id": "UndBhqWP1kBM"
      },
      "execution_count": null,
      "outputs": [
        {
          "output_type": "execute_result",
          "data": {
            "text/plain": [
              "0.6116822429906542"
            ]
          },
          "metadata": {},
          "execution_count": 137
        }
      ]
    },
    {
      "cell_type": "code",
      "source": [],
      "metadata": {
        "id": "2AIzm8Ws1rYB"
      },
      "execution_count": null,
      "outputs": []
    },
    {
      "cell_type": "markdown",
      "source": [
        "#Results of above\n"
      ],
      "metadata": {
        "id": "YF2A9tMJQJe_"
      }
    },
    {
      "cell_type": "code",
      "source": [
        "print(\"base stock rmse: \", base_stock_rmse)\n",
        "print(\"base stock matrix: \", base_stock_matrix)\n",
        "print(\"test stock rmse: \", test_stock_rmse)\n",
        "print(\"test stock accuracy: \", test_stock_accuracy)\n",
        "print(\"test stock matrix: \", test_stock_matrix)"
      ],
      "metadata": {
        "colab": {
          "base_uri": "https://localhost:8080/"
        },
        "id": "Jd3uEqfnQK-A",
        "outputId": "ec19544f-2ac0-409d-ff14-4e1132fb9199"
      },
      "execution_count": null,
      "outputs": [
        {
          "output_type": "stream",
          "name": "stdout",
          "text": [
            "base stock rmse:  6.842296710527515\n",
            "base stock matrix:  (676, 475, 80, 50)\n",
            "test stock rmse:  1.8793694966963996\n",
            "test stock accuracy:  0.6116822429906542\n",
            "test stock matrix:  (2618, 1662, 322, 204)\n"
          ]
        }
      ]
    }
  ]
}