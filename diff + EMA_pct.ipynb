{
  "nbformat": 4,
  "nbformat_minor": 0,
  "metadata": {
    "colab": {
      "provenance": []
    },
    "kernelspec": {
      "name": "python3",
      "display_name": "Python 3"
    },
    "language_info": {
      "name": "python"
    }
  },
  "cells": [
    {
      "cell_type": "markdown",
      "source": [
        "#Install libraries"
      ],
      "metadata": {
        "id": "FHr5_KBalYxz"
      }
    },
    {
      "cell_type": "code",
      "execution_count": null,
      "metadata": {
        "id": "FkzaHiV_dKoc",
        "colab": {
          "base_uri": "https://localhost:8080/"
        },
        "outputId": "e361c9e2-8a08-4628-a463-2646ddf86e30"
      },
      "outputs": [
        {
          "output_type": "stream",
          "name": "stdout",
          "text": [
            "Looking in indexes: https://pypi.org/simple, https://us-python.pkg.dev/colab-wheels/public/simple/\n",
            "Requirement already satisfied: yfinance in /usr/local/lib/python3.10/dist-packages (0.2.18)\n",
            "Requirement already satisfied: lxml>=4.9.1 in /usr/local/lib/python3.10/dist-packages (from yfinance) (4.9.2)\n",
            "Requirement already satisfied: pandas>=1.3.0 in /usr/local/lib/python3.10/dist-packages (from yfinance) (1.5.3)\n",
            "Requirement already satisfied: numpy>=1.16.5 in /usr/local/lib/python3.10/dist-packages (from yfinance) (1.22.4)\n",
            "Requirement already satisfied: multitasking>=0.0.7 in /usr/local/lib/python3.10/dist-packages (from yfinance) (0.0.11)\n",
            "Requirement already satisfied: frozendict>=2.3.4 in /usr/local/lib/python3.10/dist-packages (from yfinance) (2.3.7)\n",
            "Requirement already satisfied: beautifulsoup4>=4.11.1 in /usr/local/lib/python3.10/dist-packages (from yfinance) (4.11.2)\n",
            "Requirement already satisfied: cryptography>=3.3.2 in /usr/local/lib/python3.10/dist-packages (from yfinance) (40.0.2)\n",
            "Requirement already satisfied: html5lib>=1.1 in /usr/local/lib/python3.10/dist-packages (from yfinance) (1.1)\n",
            "Requirement already satisfied: appdirs>=1.4.4 in /usr/local/lib/python3.10/dist-packages (from yfinance) (1.4.4)\n",
            "Requirement already satisfied: pytz>=2022.5 in /usr/local/lib/python3.10/dist-packages (from yfinance) (2022.7.1)\n",
            "Requirement already satisfied: requests>=2.26 in /usr/local/lib/python3.10/dist-packages (from yfinance) (2.27.1)\n",
            "Requirement already satisfied: soupsieve>1.2 in /usr/local/lib/python3.10/dist-packages (from beautifulsoup4>=4.11.1->yfinance) (2.4.1)\n",
            "Requirement already satisfied: cffi>=1.12 in /usr/local/lib/python3.10/dist-packages (from cryptography>=3.3.2->yfinance) (1.15.1)\n",
            "Requirement already satisfied: six>=1.9 in /usr/local/lib/python3.10/dist-packages (from html5lib>=1.1->yfinance) (1.16.0)\n",
            "Requirement already satisfied: webencodings in /usr/local/lib/python3.10/dist-packages (from html5lib>=1.1->yfinance) (0.5.1)\n",
            "Requirement already satisfied: python-dateutil>=2.8.1 in /usr/local/lib/python3.10/dist-packages (from pandas>=1.3.0->yfinance) (2.8.2)\n",
            "Requirement already satisfied: certifi>=2017.4.17 in /usr/local/lib/python3.10/dist-packages (from requests>=2.26->yfinance) (2022.12.7)\n",
            "Requirement already satisfied: urllib3<1.27,>=1.21.1 in /usr/local/lib/python3.10/dist-packages (from requests>=2.26->yfinance) (1.26.15)\n",
            "Requirement already satisfied: charset-normalizer~=2.0.0 in /usr/local/lib/python3.10/dist-packages (from requests>=2.26->yfinance) (2.0.12)\n",
            "Requirement already satisfied: idna<4,>=2.5 in /usr/local/lib/python3.10/dist-packages (from requests>=2.26->yfinance) (3.4)\n",
            "Requirement already satisfied: pycparser in /usr/local/lib/python3.10/dist-packages (from cffi>=1.12->cryptography>=3.3.2->yfinance) (2.21)\n"
          ]
        }
      ],
      "source": [
        "pip install yfinance"
      ]
    },
    {
      "cell_type": "code",
      "source": [
        "pip install pandas_ta"
      ],
      "metadata": {
        "colab": {
          "base_uri": "https://localhost:8080/"
        },
        "id": "nTwEVZH_JQX0",
        "outputId": "ba15443c-9d26-4c86-fa4b-91615f54e275"
      },
      "execution_count": null,
      "outputs": [
        {
          "output_type": "stream",
          "name": "stdout",
          "text": [
            "Looking in indexes: https://pypi.org/simple, https://us-python.pkg.dev/colab-wheels/public/simple/\n",
            "Collecting pandas_ta\n",
            "  Downloading pandas_ta-0.3.14b.tar.gz (115 kB)\n",
            "\u001b[2K     \u001b[90m━━━━━━━━━━━━━━━━━━━━━━━━━━━━━━━━━━━━━━━\u001b[0m \u001b[32m115.1/115.1 kB\u001b[0m \u001b[31m3.8 MB/s\u001b[0m eta \u001b[36m0:00:00\u001b[0m\n",
            "\u001b[?25h  Preparing metadata (setup.py) ... \u001b[?25l\u001b[?25hdone\n",
            "Requirement already satisfied: pandas in /usr/local/lib/python3.10/dist-packages (from pandas_ta) (1.5.3)\n",
            "Requirement already satisfied: numpy>=1.21.0 in /usr/local/lib/python3.10/dist-packages (from pandas->pandas_ta) (1.22.4)\n",
            "Requirement already satisfied: python-dateutil>=2.8.1 in /usr/local/lib/python3.10/dist-packages (from pandas->pandas_ta) (2.8.2)\n",
            "Requirement already satisfied: pytz>=2020.1 in /usr/local/lib/python3.10/dist-packages (from pandas->pandas_ta) (2022.7.1)\n",
            "Requirement already satisfied: six>=1.5 in /usr/local/lib/python3.10/dist-packages (from python-dateutil>=2.8.1->pandas->pandas_ta) (1.16.0)\n",
            "Building wheels for collected packages: pandas_ta\n",
            "  Building wheel for pandas_ta (setup.py) ... \u001b[?25l\u001b[?25hdone\n",
            "  Created wheel for pandas_ta: filename=pandas_ta-0.3.14b0-py3-none-any.whl size=218921 sha256=53a3a495522bc1f7c1a7291aa724545c54aabe878a6056b8607211f2d7d8a5c3\n",
            "  Stored in directory: /root/.cache/pip/wheels/69/00/ac/f7fa862c34b0e2ef320175100c233377b4c558944f12474cf0\n",
            "Successfully built pandas_ta\n",
            "Installing collected packages: pandas_ta\n",
            "Successfully installed pandas_ta-0.3.14b0\n"
          ]
        }
      ]
    },
    {
      "cell_type": "markdown",
      "source": [
        "#Classification On Stocks based on Closing Price Derivatives"
      ],
      "metadata": {
        "id": "UCtpXIO3lhP1"
      }
    },
    {
      "cell_type": "markdown",
      "source": [
        "##Calculate features"
      ],
      "metadata": {
        "id": "Li70uSEZloch"
      }
    },
    {
      "cell_type": "code",
      "source": [
        "import numpy as np\n",
        "import pandas as pd\n",
        "from sklearn.model_selection import train_test_split\n",
        "import yfinance as yf\n",
        "yf.pdr_override()\n",
        "from pandas_datareader import data as pdr\n",
        "import pandas_ta as pta\n",
        "from sklearn.preprocessing import MinMaxScaler, StandardScaler\n",
        "from tensorflow.keras.layers import Dense, LSTM,GRU,SimpleRNN, Dropout,Bidirectional\n",
        "from tensorflow.keras.optimizers import Adam\n",
        "from keras.models import Sequential\n",
        "from keras.layers import Dense, LSTM"
      ],
      "metadata": {
        "id": "TVyFHc9jiLQZ"
      },
      "execution_count": null,
      "outputs": []
    },
    {
      "cell_type": "code",
      "source": [
        "df = pdr.get_data_yahoo(\"IBM\", start=\"1980-02-01\", end=\"2019-07-13\")"
      ],
      "metadata": {
        "colab": {
          "base_uri": "https://localhost:8080/"
        },
        "id": "gYedtCQNInuH",
        "outputId": "e888d7e2-cb88-4363-94b1-b3704ae458ce"
      },
      "execution_count": null,
      "outputs": [
        {
          "output_type": "stream",
          "name": "stdout",
          "text": [
            "\r[*********************100%***********************]  1 of 1 completed\n"
          ]
        }
      ]
    },
    {
      "cell_type": "code",
      "source": [
        "df_close = df\n",
        "df_close"
      ],
      "metadata": {
        "colab": {
          "base_uri": "https://localhost:8080/",
          "height": 455
        },
        "id": "c0TwkGEYIzmz",
        "outputId": "84ab963a-38c5-4b88-a3f6-97077747589d"
      },
      "execution_count": null,
      "outputs": [
        {
          "output_type": "execute_result",
          "data": {
            "text/plain": [
              "                  Open        High         Low       Close   Adj Close  \\\n",
              "Date                                                                     \n",
              "1980-02-01   16.401770   16.610899   16.342016   16.581022    4.950254   \n",
              "1980-02-04   16.581022   16.640774   16.401770   16.521273    4.932418   \n",
              "1980-02-05   16.521273   16.640774   16.431644   16.640774    4.968098   \n",
              "1980-02-06   16.491396   16.491396   16.192638   16.342016    4.939918   \n",
              "1980-02-07   16.312141   16.312141   16.043261   16.043261    4.849611   \n",
              "...                ...         ...         ...         ...         ...   \n",
              "2019-07-08  134.847031  135.076477  134.101334  134.388138  111.771965   \n",
              "2019-07-09  134.426392  134.789673  133.011475  133.202682  110.786003   \n",
              "2019-07-10  133.843216  135.669220  133.642441  134.292542  111.692444   \n",
              "2019-07-11  134.598465  135.353729  134.130020  135.028687  112.304703   \n",
              "2019-07-12  135.678772  136.634796  135.430206  136.462708  113.497391   \n",
              "\n",
              "             Volume  \n",
              "Date                 \n",
              "1980-02-01  1513353  \n",
              "1980-02-04  1205829  \n",
              "1980-02-05  1595778  \n",
              "1980-02-06  2133003  \n",
              "1980-02-07  2145555  \n",
              "...             ...  \n",
              "2019-07-08  2505484  \n",
              "2019-07-09  3519999  \n",
              "2019-07-10  2629539  \n",
              "2019-07-11  2231013  \n",
              "2019-07-12  2914365  \n",
              "\n",
              "[9946 rows x 6 columns]"
            ],
            "text/html": [
              "\n",
              "  <div id=\"df-339fddc8-f88e-485b-ba06-652133219539\">\n",
              "    <div class=\"colab-df-container\">\n",
              "      <div>\n",
              "<style scoped>\n",
              "    .dataframe tbody tr th:only-of-type {\n",
              "        vertical-align: middle;\n",
              "    }\n",
              "\n",
              "    .dataframe tbody tr th {\n",
              "        vertical-align: top;\n",
              "    }\n",
              "\n",
              "    .dataframe thead th {\n",
              "        text-align: right;\n",
              "    }\n",
              "</style>\n",
              "<table border=\"1\" class=\"dataframe\">\n",
              "  <thead>\n",
              "    <tr style=\"text-align: right;\">\n",
              "      <th></th>\n",
              "      <th>Open</th>\n",
              "      <th>High</th>\n",
              "      <th>Low</th>\n",
              "      <th>Close</th>\n",
              "      <th>Adj Close</th>\n",
              "      <th>Volume</th>\n",
              "    </tr>\n",
              "    <tr>\n",
              "      <th>Date</th>\n",
              "      <th></th>\n",
              "      <th></th>\n",
              "      <th></th>\n",
              "      <th></th>\n",
              "      <th></th>\n",
              "      <th></th>\n",
              "    </tr>\n",
              "  </thead>\n",
              "  <tbody>\n",
              "    <tr>\n",
              "      <th>1980-02-01</th>\n",
              "      <td>16.401770</td>\n",
              "      <td>16.610899</td>\n",
              "      <td>16.342016</td>\n",
              "      <td>16.581022</td>\n",
              "      <td>4.950254</td>\n",
              "      <td>1513353</td>\n",
              "    </tr>\n",
              "    <tr>\n",
              "      <th>1980-02-04</th>\n",
              "      <td>16.581022</td>\n",
              "      <td>16.640774</td>\n",
              "      <td>16.401770</td>\n",
              "      <td>16.521273</td>\n",
              "      <td>4.932418</td>\n",
              "      <td>1205829</td>\n",
              "    </tr>\n",
              "    <tr>\n",
              "      <th>1980-02-05</th>\n",
              "      <td>16.521273</td>\n",
              "      <td>16.640774</td>\n",
              "      <td>16.431644</td>\n",
              "      <td>16.640774</td>\n",
              "      <td>4.968098</td>\n",
              "      <td>1595778</td>\n",
              "    </tr>\n",
              "    <tr>\n",
              "      <th>1980-02-06</th>\n",
              "      <td>16.491396</td>\n",
              "      <td>16.491396</td>\n",
              "      <td>16.192638</td>\n",
              "      <td>16.342016</td>\n",
              "      <td>4.939918</td>\n",
              "      <td>2133003</td>\n",
              "    </tr>\n",
              "    <tr>\n",
              "      <th>1980-02-07</th>\n",
              "      <td>16.312141</td>\n",
              "      <td>16.312141</td>\n",
              "      <td>16.043261</td>\n",
              "      <td>16.043261</td>\n",
              "      <td>4.849611</td>\n",
              "      <td>2145555</td>\n",
              "    </tr>\n",
              "    <tr>\n",
              "      <th>...</th>\n",
              "      <td>...</td>\n",
              "      <td>...</td>\n",
              "      <td>...</td>\n",
              "      <td>...</td>\n",
              "      <td>...</td>\n",
              "      <td>...</td>\n",
              "    </tr>\n",
              "    <tr>\n",
              "      <th>2019-07-08</th>\n",
              "      <td>134.847031</td>\n",
              "      <td>135.076477</td>\n",
              "      <td>134.101334</td>\n",
              "      <td>134.388138</td>\n",
              "      <td>111.771965</td>\n",
              "      <td>2505484</td>\n",
              "    </tr>\n",
              "    <tr>\n",
              "      <th>2019-07-09</th>\n",
              "      <td>134.426392</td>\n",
              "      <td>134.789673</td>\n",
              "      <td>133.011475</td>\n",
              "      <td>133.202682</td>\n",
              "      <td>110.786003</td>\n",
              "      <td>3519999</td>\n",
              "    </tr>\n",
              "    <tr>\n",
              "      <th>2019-07-10</th>\n",
              "      <td>133.843216</td>\n",
              "      <td>135.669220</td>\n",
              "      <td>133.642441</td>\n",
              "      <td>134.292542</td>\n",
              "      <td>111.692444</td>\n",
              "      <td>2629539</td>\n",
              "    </tr>\n",
              "    <tr>\n",
              "      <th>2019-07-11</th>\n",
              "      <td>134.598465</td>\n",
              "      <td>135.353729</td>\n",
              "      <td>134.130020</td>\n",
              "      <td>135.028687</td>\n",
              "      <td>112.304703</td>\n",
              "      <td>2231013</td>\n",
              "    </tr>\n",
              "    <tr>\n",
              "      <th>2019-07-12</th>\n",
              "      <td>135.678772</td>\n",
              "      <td>136.634796</td>\n",
              "      <td>135.430206</td>\n",
              "      <td>136.462708</td>\n",
              "      <td>113.497391</td>\n",
              "      <td>2914365</td>\n",
              "    </tr>\n",
              "  </tbody>\n",
              "</table>\n",
              "<p>9946 rows × 6 columns</p>\n",
              "</div>\n",
              "      <button class=\"colab-df-convert\" onclick=\"convertToInteractive('df-339fddc8-f88e-485b-ba06-652133219539')\"\n",
              "              title=\"Convert this dataframe to an interactive table.\"\n",
              "              style=\"display:none;\">\n",
              "        \n",
              "  <svg xmlns=\"http://www.w3.org/2000/svg\" height=\"24px\"viewBox=\"0 0 24 24\"\n",
              "       width=\"24px\">\n",
              "    <path d=\"M0 0h24v24H0V0z\" fill=\"none\"/>\n",
              "    <path d=\"M18.56 5.44l.94 2.06.94-2.06 2.06-.94-2.06-.94-.94-2.06-.94 2.06-2.06.94zm-11 1L8.5 8.5l.94-2.06 2.06-.94-2.06-.94L8.5 2.5l-.94 2.06-2.06.94zm10 10l.94 2.06.94-2.06 2.06-.94-2.06-.94-.94-2.06-.94 2.06-2.06.94z\"/><path d=\"M17.41 7.96l-1.37-1.37c-.4-.4-.92-.59-1.43-.59-.52 0-1.04.2-1.43.59L10.3 9.45l-7.72 7.72c-.78.78-.78 2.05 0 2.83L4 21.41c.39.39.9.59 1.41.59.51 0 1.02-.2 1.41-.59l7.78-7.78 2.81-2.81c.8-.78.8-2.07 0-2.86zM5.41 20L4 18.59l7.72-7.72 1.47 1.35L5.41 20z\"/>\n",
              "  </svg>\n",
              "      </button>\n",
              "      \n",
              "  <style>\n",
              "    .colab-df-container {\n",
              "      display:flex;\n",
              "      flex-wrap:wrap;\n",
              "      gap: 12px;\n",
              "    }\n",
              "\n",
              "    .colab-df-convert {\n",
              "      background-color: #E8F0FE;\n",
              "      border: none;\n",
              "      border-radius: 50%;\n",
              "      cursor: pointer;\n",
              "      display: none;\n",
              "      fill: #1967D2;\n",
              "      height: 32px;\n",
              "      padding: 0 0 0 0;\n",
              "      width: 32px;\n",
              "    }\n",
              "\n",
              "    .colab-df-convert:hover {\n",
              "      background-color: #E2EBFA;\n",
              "      box-shadow: 0px 1px 2px rgba(60, 64, 67, 0.3), 0px 1px 3px 1px rgba(60, 64, 67, 0.15);\n",
              "      fill: #174EA6;\n",
              "    }\n",
              "\n",
              "    [theme=dark] .colab-df-convert {\n",
              "      background-color: #3B4455;\n",
              "      fill: #D2E3FC;\n",
              "    }\n",
              "\n",
              "    [theme=dark] .colab-df-convert:hover {\n",
              "      background-color: #434B5C;\n",
              "      box-shadow: 0px 1px 3px 1px rgba(0, 0, 0, 0.15);\n",
              "      filter: drop-shadow(0px 1px 2px rgba(0, 0, 0, 0.3));\n",
              "      fill: #FFFFFF;\n",
              "    }\n",
              "  </style>\n",
              "\n",
              "      <script>\n",
              "        const buttonEl =\n",
              "          document.querySelector('#df-339fddc8-f88e-485b-ba06-652133219539 button.colab-df-convert');\n",
              "        buttonEl.style.display =\n",
              "          google.colab.kernel.accessAllowed ? 'block' : 'none';\n",
              "\n",
              "        async function convertToInteractive(key) {\n",
              "          const element = document.querySelector('#df-339fddc8-f88e-485b-ba06-652133219539');\n",
              "          const dataTable =\n",
              "            await google.colab.kernel.invokeFunction('convertToInteractive',\n",
              "                                                     [key], {});\n",
              "          if (!dataTable) return;\n",
              "\n",
              "          const docLinkHtml = 'Like what you see? Visit the ' +\n",
              "            '<a target=\"_blank\" href=https://colab.research.google.com/notebooks/data_table.ipynb>data table notebook</a>'\n",
              "            + ' to learn more about interactive tables.';\n",
              "          element.innerHTML = '';\n",
              "          dataTable['output_type'] = 'display_data';\n",
              "          await google.colab.output.renderOutput(dataTable, element);\n",
              "          const docLink = document.createElement('div');\n",
              "          docLink.innerHTML = docLinkHtml;\n",
              "          element.appendChild(docLink);\n",
              "        }\n",
              "      </script>\n",
              "    </div>\n",
              "  </div>\n",
              "  "
            ]
          },
          "metadata": {},
          "execution_count": 5
        }
      ]
    },
    {
      "cell_type": "code",
      "source": [
        "df_close['EWMA15'] = df_close['Close'].ewm(span=5).mean()\n",
        "df_close['EWMA15_pct'] = df_close['EWMA15'].pct_change()*100\n",
        "# df_close['EWMA20'] = df_close['Close'].ewm(span=20).mean()\n",
        "# df_close['EWMA50'] = df_close['Close'].ewm(span=50).mean()\n",
        "# df_close['RSI7'] = pta.rsi(df['Close'], length = 7)\n",
        "# df_close['RSI14'] = pta.rsi(df['Close'], length = 14)\n",
        "# df_close['RSI20'] = pta.rsi(df['Close'], length = 20)\n",
        "\n",
        "# delta = df_close['Close'].diff(1)\n",
        "# delta = delta.dropna()\n",
        "# up = delta.copy()\n",
        "# down = delta.copy()\n",
        "# up[up<0] = 0\n",
        "# down[down>0] = down\n",
        "# df_close['up'] = up\n",
        "# df_close['down'] = down\n",
        "\n",
        "#Intraday difference\n",
        "df_close['diff'] = ((df_close['Close'] - df_close['Open'])/df_close['Open'])*100"
      ],
      "metadata": {
        "id": "36JYgBcRI0wN"
      },
      "execution_count": null,
      "outputs": []
    },
    {
      "cell_type": "code",
      "source": [
        "#Create target to determine if tomorrow's price would be greater than today's price\n",
        "#Interday difference\n",
        "df_close['target'] = np.where(df_close['Open'].shift(-1)>df_close['Close'], 1, 0)"
      ],
      "metadata": {
        "id": "Nko40rYcJYT4"
      },
      "execution_count": null,
      "outputs": []
    },
    {
      "cell_type": "code",
      "source": [
        "df_close"
      ],
      "metadata": {
        "colab": {
          "base_uri": "https://localhost:8080/",
          "height": 455
        },
        "id": "tbsof_U1LYFV",
        "outputId": "cf7744df-7ebb-4a20-ae25-a6d5a145d475"
      },
      "execution_count": null,
      "outputs": [
        {
          "output_type": "execute_result",
          "data": {
            "text/plain": [
              "                  Open        High         Low       Close   Adj Close  \\\n",
              "Date                                                                     \n",
              "1980-02-01   16.401770   16.610899   16.342016   16.581022    4.950254   \n",
              "1980-02-04   16.581022   16.640774   16.401770   16.521273    4.932418   \n",
              "1980-02-05   16.521273   16.640774   16.431644   16.640774    4.968098   \n",
              "1980-02-06   16.491396   16.491396   16.192638   16.342016    4.939918   \n",
              "1980-02-07   16.312141   16.312141   16.043261   16.043261    4.849611   \n",
              "...                ...         ...         ...         ...         ...   \n",
              "2019-07-08  134.847031  135.076477  134.101334  134.388138  111.771965   \n",
              "2019-07-09  134.426392  134.789673  133.011475  133.202682  110.786003   \n",
              "2019-07-10  133.843216  135.669220  133.642441  134.292542  111.692444   \n",
              "2019-07-11  134.598465  135.353729  134.130020  135.028687  112.304703   \n",
              "2019-07-12  135.678772  136.634796  135.430206  136.462708  113.497391   \n",
              "\n",
              "             Volume      EWMA15  EWMA15_pct      diff  target  \n",
              "Date                                                           \n",
              "1980-02-01  1513353   16.581022         NaN  1.092886       0  \n",
              "1980-02-04  1205829   16.545173   -0.216210 -0.360349       0  \n",
              "1980-02-05  1595778   16.590457    0.273704  0.723317       0  \n",
              "1980-02-06  2133003   16.487259   -0.622036 -0.905804       0  \n",
              "1980-02-07  2145555   16.316814   -1.033797 -1.648348       0  \n",
              "...             ...         ...         ...       ...     ...  \n",
              "2019-07-08  2505484  134.327985    0.022395 -0.340306       1  \n",
              "2019-07-09  3519999  133.952884   -0.279242 -0.910319       1  \n",
              "2019-07-10  2629539  134.066103    0.084522  0.335710       1  \n",
              "2019-07-11  2231013  134.386964    0.239331  0.319633       1  \n",
              "2019-07-12  2914365  135.078879    0.514867  0.577788       0  \n",
              "\n",
              "[9946 rows x 10 columns]"
            ],
            "text/html": [
              "\n",
              "  <div id=\"df-094c6fa2-b725-4945-a21c-d2db5f2679ac\">\n",
              "    <div class=\"colab-df-container\">\n",
              "      <div>\n",
              "<style scoped>\n",
              "    .dataframe tbody tr th:only-of-type {\n",
              "        vertical-align: middle;\n",
              "    }\n",
              "\n",
              "    .dataframe tbody tr th {\n",
              "        vertical-align: top;\n",
              "    }\n",
              "\n",
              "    .dataframe thead th {\n",
              "        text-align: right;\n",
              "    }\n",
              "</style>\n",
              "<table border=\"1\" class=\"dataframe\">\n",
              "  <thead>\n",
              "    <tr style=\"text-align: right;\">\n",
              "      <th></th>\n",
              "      <th>Open</th>\n",
              "      <th>High</th>\n",
              "      <th>Low</th>\n",
              "      <th>Close</th>\n",
              "      <th>Adj Close</th>\n",
              "      <th>Volume</th>\n",
              "      <th>EWMA15</th>\n",
              "      <th>EWMA15_pct</th>\n",
              "      <th>diff</th>\n",
              "      <th>target</th>\n",
              "    </tr>\n",
              "    <tr>\n",
              "      <th>Date</th>\n",
              "      <th></th>\n",
              "      <th></th>\n",
              "      <th></th>\n",
              "      <th></th>\n",
              "      <th></th>\n",
              "      <th></th>\n",
              "      <th></th>\n",
              "      <th></th>\n",
              "      <th></th>\n",
              "      <th></th>\n",
              "    </tr>\n",
              "  </thead>\n",
              "  <tbody>\n",
              "    <tr>\n",
              "      <th>1980-02-01</th>\n",
              "      <td>16.401770</td>\n",
              "      <td>16.610899</td>\n",
              "      <td>16.342016</td>\n",
              "      <td>16.581022</td>\n",
              "      <td>4.950254</td>\n",
              "      <td>1513353</td>\n",
              "      <td>16.581022</td>\n",
              "      <td>NaN</td>\n",
              "      <td>1.092886</td>\n",
              "      <td>0</td>\n",
              "    </tr>\n",
              "    <tr>\n",
              "      <th>1980-02-04</th>\n",
              "      <td>16.581022</td>\n",
              "      <td>16.640774</td>\n",
              "      <td>16.401770</td>\n",
              "      <td>16.521273</td>\n",
              "      <td>4.932418</td>\n",
              "      <td>1205829</td>\n",
              "      <td>16.545173</td>\n",
              "      <td>-0.216210</td>\n",
              "      <td>-0.360349</td>\n",
              "      <td>0</td>\n",
              "    </tr>\n",
              "    <tr>\n",
              "      <th>1980-02-05</th>\n",
              "      <td>16.521273</td>\n",
              "      <td>16.640774</td>\n",
              "      <td>16.431644</td>\n",
              "      <td>16.640774</td>\n",
              "      <td>4.968098</td>\n",
              "      <td>1595778</td>\n",
              "      <td>16.590457</td>\n",
              "      <td>0.273704</td>\n",
              "      <td>0.723317</td>\n",
              "      <td>0</td>\n",
              "    </tr>\n",
              "    <tr>\n",
              "      <th>1980-02-06</th>\n",
              "      <td>16.491396</td>\n",
              "      <td>16.491396</td>\n",
              "      <td>16.192638</td>\n",
              "      <td>16.342016</td>\n",
              "      <td>4.939918</td>\n",
              "      <td>2133003</td>\n",
              "      <td>16.487259</td>\n",
              "      <td>-0.622036</td>\n",
              "      <td>-0.905804</td>\n",
              "      <td>0</td>\n",
              "    </tr>\n",
              "    <tr>\n",
              "      <th>1980-02-07</th>\n",
              "      <td>16.312141</td>\n",
              "      <td>16.312141</td>\n",
              "      <td>16.043261</td>\n",
              "      <td>16.043261</td>\n",
              "      <td>4.849611</td>\n",
              "      <td>2145555</td>\n",
              "      <td>16.316814</td>\n",
              "      <td>-1.033797</td>\n",
              "      <td>-1.648348</td>\n",
              "      <td>0</td>\n",
              "    </tr>\n",
              "    <tr>\n",
              "      <th>...</th>\n",
              "      <td>...</td>\n",
              "      <td>...</td>\n",
              "      <td>...</td>\n",
              "      <td>...</td>\n",
              "      <td>...</td>\n",
              "      <td>...</td>\n",
              "      <td>...</td>\n",
              "      <td>...</td>\n",
              "      <td>...</td>\n",
              "      <td>...</td>\n",
              "    </tr>\n",
              "    <tr>\n",
              "      <th>2019-07-08</th>\n",
              "      <td>134.847031</td>\n",
              "      <td>135.076477</td>\n",
              "      <td>134.101334</td>\n",
              "      <td>134.388138</td>\n",
              "      <td>111.771965</td>\n",
              "      <td>2505484</td>\n",
              "      <td>134.327985</td>\n",
              "      <td>0.022395</td>\n",
              "      <td>-0.340306</td>\n",
              "      <td>1</td>\n",
              "    </tr>\n",
              "    <tr>\n",
              "      <th>2019-07-09</th>\n",
              "      <td>134.426392</td>\n",
              "      <td>134.789673</td>\n",
              "      <td>133.011475</td>\n",
              "      <td>133.202682</td>\n",
              "      <td>110.786003</td>\n",
              "      <td>3519999</td>\n",
              "      <td>133.952884</td>\n",
              "      <td>-0.279242</td>\n",
              "      <td>-0.910319</td>\n",
              "      <td>1</td>\n",
              "    </tr>\n",
              "    <tr>\n",
              "      <th>2019-07-10</th>\n",
              "      <td>133.843216</td>\n",
              "      <td>135.669220</td>\n",
              "      <td>133.642441</td>\n",
              "      <td>134.292542</td>\n",
              "      <td>111.692444</td>\n",
              "      <td>2629539</td>\n",
              "      <td>134.066103</td>\n",
              "      <td>0.084522</td>\n",
              "      <td>0.335710</td>\n",
              "      <td>1</td>\n",
              "    </tr>\n",
              "    <tr>\n",
              "      <th>2019-07-11</th>\n",
              "      <td>134.598465</td>\n",
              "      <td>135.353729</td>\n",
              "      <td>134.130020</td>\n",
              "      <td>135.028687</td>\n",
              "      <td>112.304703</td>\n",
              "      <td>2231013</td>\n",
              "      <td>134.386964</td>\n",
              "      <td>0.239331</td>\n",
              "      <td>0.319633</td>\n",
              "      <td>1</td>\n",
              "    </tr>\n",
              "    <tr>\n",
              "      <th>2019-07-12</th>\n",
              "      <td>135.678772</td>\n",
              "      <td>136.634796</td>\n",
              "      <td>135.430206</td>\n",
              "      <td>136.462708</td>\n",
              "      <td>113.497391</td>\n",
              "      <td>2914365</td>\n",
              "      <td>135.078879</td>\n",
              "      <td>0.514867</td>\n",
              "      <td>0.577788</td>\n",
              "      <td>0</td>\n",
              "    </tr>\n",
              "  </tbody>\n",
              "</table>\n",
              "<p>9946 rows × 10 columns</p>\n",
              "</div>\n",
              "      <button class=\"colab-df-convert\" onclick=\"convertToInteractive('df-094c6fa2-b725-4945-a21c-d2db5f2679ac')\"\n",
              "              title=\"Convert this dataframe to an interactive table.\"\n",
              "              style=\"display:none;\">\n",
              "        \n",
              "  <svg xmlns=\"http://www.w3.org/2000/svg\" height=\"24px\"viewBox=\"0 0 24 24\"\n",
              "       width=\"24px\">\n",
              "    <path d=\"M0 0h24v24H0V0z\" fill=\"none\"/>\n",
              "    <path d=\"M18.56 5.44l.94 2.06.94-2.06 2.06-.94-2.06-.94-.94-2.06-.94 2.06-2.06.94zm-11 1L8.5 8.5l.94-2.06 2.06-.94-2.06-.94L8.5 2.5l-.94 2.06-2.06.94zm10 10l.94 2.06.94-2.06 2.06-.94-2.06-.94-.94-2.06-.94 2.06-2.06.94z\"/><path d=\"M17.41 7.96l-1.37-1.37c-.4-.4-.92-.59-1.43-.59-.52 0-1.04.2-1.43.59L10.3 9.45l-7.72 7.72c-.78.78-.78 2.05 0 2.83L4 21.41c.39.39.9.59 1.41.59.51 0 1.02-.2 1.41-.59l7.78-7.78 2.81-2.81c.8-.78.8-2.07 0-2.86zM5.41 20L4 18.59l7.72-7.72 1.47 1.35L5.41 20z\"/>\n",
              "  </svg>\n",
              "      </button>\n",
              "      \n",
              "  <style>\n",
              "    .colab-df-container {\n",
              "      display:flex;\n",
              "      flex-wrap:wrap;\n",
              "      gap: 12px;\n",
              "    }\n",
              "\n",
              "    .colab-df-convert {\n",
              "      background-color: #E8F0FE;\n",
              "      border: none;\n",
              "      border-radius: 50%;\n",
              "      cursor: pointer;\n",
              "      display: none;\n",
              "      fill: #1967D2;\n",
              "      height: 32px;\n",
              "      padding: 0 0 0 0;\n",
              "      width: 32px;\n",
              "    }\n",
              "\n",
              "    .colab-df-convert:hover {\n",
              "      background-color: #E2EBFA;\n",
              "      box-shadow: 0px 1px 2px rgba(60, 64, 67, 0.3), 0px 1px 3px 1px rgba(60, 64, 67, 0.15);\n",
              "      fill: #174EA6;\n",
              "    }\n",
              "\n",
              "    [theme=dark] .colab-df-convert {\n",
              "      background-color: #3B4455;\n",
              "      fill: #D2E3FC;\n",
              "    }\n",
              "\n",
              "    [theme=dark] .colab-df-convert:hover {\n",
              "      background-color: #434B5C;\n",
              "      box-shadow: 0px 1px 3px 1px rgba(0, 0, 0, 0.15);\n",
              "      filter: drop-shadow(0px 1px 2px rgba(0, 0, 0, 0.3));\n",
              "      fill: #FFFFFF;\n",
              "    }\n",
              "  </style>\n",
              "\n",
              "      <script>\n",
              "        const buttonEl =\n",
              "          document.querySelector('#df-094c6fa2-b725-4945-a21c-d2db5f2679ac button.colab-df-convert');\n",
              "        buttonEl.style.display =\n",
              "          google.colab.kernel.accessAllowed ? 'block' : 'none';\n",
              "\n",
              "        async function convertToInteractive(key) {\n",
              "          const element = document.querySelector('#df-094c6fa2-b725-4945-a21c-d2db5f2679ac');\n",
              "          const dataTable =\n",
              "            await google.colab.kernel.invokeFunction('convertToInteractive',\n",
              "                                                     [key], {});\n",
              "          if (!dataTable) return;\n",
              "\n",
              "          const docLinkHtml = 'Like what you see? Visit the ' +\n",
              "            '<a target=\"_blank\" href=https://colab.research.google.com/notebooks/data_table.ipynb>data table notebook</a>'\n",
              "            + ' to learn more about interactive tables.';\n",
              "          element.innerHTML = '';\n",
              "          dataTable['output_type'] = 'display_data';\n",
              "          await google.colab.output.renderOutput(dataTable, element);\n",
              "          const docLink = document.createElement('div');\n",
              "          docLink.innerHTML = docLinkHtml;\n",
              "          element.appendChild(docLink);\n",
              "        }\n",
              "      </script>\n",
              "    </div>\n",
              "  </div>\n",
              "  "
            ]
          },
          "metadata": {},
          "execution_count": 8
        }
      ]
    },
    {
      "cell_type": "markdown",
      "source": [
        "##Create Dataset, Scale and create Training and Testing Split"
      ],
      "metadata": {
        "id": "vhb28v3tlrgC"
      }
    },
    {
      "cell_type": "code",
      "source": [
        "buffer_df = df_close[['EWMA15_pct', 'diff']]"
      ],
      "metadata": {
        "id": "OJz-00WNxlLc"
      },
      "execution_count": null,
      "outputs": []
    },
    {
      "cell_type": "code",
      "source": [
        "df_combined = buffer_df[1:]"
      ],
      "metadata": {
        "id": "thB7AGrL5WZJ"
      },
      "execution_count": null,
      "outputs": []
    },
    {
      "cell_type": "code",
      "source": [
        "df_combined"
      ],
      "metadata": {
        "colab": {
          "base_uri": "https://localhost:8080/",
          "height": 455
        },
        "id": "_XX3MNNVxq0n",
        "outputId": "1ffb4710-8edb-4626-becf-3de657b0a328"
      },
      "execution_count": null,
      "outputs": [
        {
          "output_type": "execute_result",
          "data": {
            "text/plain": [
              "            EWMA15_pct      diff\n",
              "Date                            \n",
              "1980-02-04   -0.216210 -0.360349\n",
              "1980-02-05    0.273704  0.723317\n",
              "1980-02-06   -0.622036 -0.905804\n",
              "1980-02-07   -1.033797 -1.648348\n",
              "1980-02-08   -0.545716  0.186214\n",
              "...                ...       ...\n",
              "2019-07-08    0.022395 -0.340306\n",
              "2019-07-09   -0.279242 -0.910319\n",
              "2019-07-10    0.084522  0.335710\n",
              "2019-07-11    0.239331  0.319633\n",
              "2019-07-12    0.514867  0.577788\n",
              "\n",
              "[9945 rows x 2 columns]"
            ],
            "text/html": [
              "\n",
              "  <div id=\"df-b45b2c58-99e7-4b33-939d-15ce7b86b39b\">\n",
              "    <div class=\"colab-df-container\">\n",
              "      <div>\n",
              "<style scoped>\n",
              "    .dataframe tbody tr th:only-of-type {\n",
              "        vertical-align: middle;\n",
              "    }\n",
              "\n",
              "    .dataframe tbody tr th {\n",
              "        vertical-align: top;\n",
              "    }\n",
              "\n",
              "    .dataframe thead th {\n",
              "        text-align: right;\n",
              "    }\n",
              "</style>\n",
              "<table border=\"1\" class=\"dataframe\">\n",
              "  <thead>\n",
              "    <tr style=\"text-align: right;\">\n",
              "      <th></th>\n",
              "      <th>EWMA15_pct</th>\n",
              "      <th>diff</th>\n",
              "    </tr>\n",
              "    <tr>\n",
              "      <th>Date</th>\n",
              "      <th></th>\n",
              "      <th></th>\n",
              "    </tr>\n",
              "  </thead>\n",
              "  <tbody>\n",
              "    <tr>\n",
              "      <th>1980-02-04</th>\n",
              "      <td>-0.216210</td>\n",
              "      <td>-0.360349</td>\n",
              "    </tr>\n",
              "    <tr>\n",
              "      <th>1980-02-05</th>\n",
              "      <td>0.273704</td>\n",
              "      <td>0.723317</td>\n",
              "    </tr>\n",
              "    <tr>\n",
              "      <th>1980-02-06</th>\n",
              "      <td>-0.622036</td>\n",
              "      <td>-0.905804</td>\n",
              "    </tr>\n",
              "    <tr>\n",
              "      <th>1980-02-07</th>\n",
              "      <td>-1.033797</td>\n",
              "      <td>-1.648348</td>\n",
              "    </tr>\n",
              "    <tr>\n",
              "      <th>1980-02-08</th>\n",
              "      <td>-0.545716</td>\n",
              "      <td>0.186214</td>\n",
              "    </tr>\n",
              "    <tr>\n",
              "      <th>...</th>\n",
              "      <td>...</td>\n",
              "      <td>...</td>\n",
              "    </tr>\n",
              "    <tr>\n",
              "      <th>2019-07-08</th>\n",
              "      <td>0.022395</td>\n",
              "      <td>-0.340306</td>\n",
              "    </tr>\n",
              "    <tr>\n",
              "      <th>2019-07-09</th>\n",
              "      <td>-0.279242</td>\n",
              "      <td>-0.910319</td>\n",
              "    </tr>\n",
              "    <tr>\n",
              "      <th>2019-07-10</th>\n",
              "      <td>0.084522</td>\n",
              "      <td>0.335710</td>\n",
              "    </tr>\n",
              "    <tr>\n",
              "      <th>2019-07-11</th>\n",
              "      <td>0.239331</td>\n",
              "      <td>0.319633</td>\n",
              "    </tr>\n",
              "    <tr>\n",
              "      <th>2019-07-12</th>\n",
              "      <td>0.514867</td>\n",
              "      <td>0.577788</td>\n",
              "    </tr>\n",
              "  </tbody>\n",
              "</table>\n",
              "<p>9945 rows × 2 columns</p>\n",
              "</div>\n",
              "      <button class=\"colab-df-convert\" onclick=\"convertToInteractive('df-b45b2c58-99e7-4b33-939d-15ce7b86b39b')\"\n",
              "              title=\"Convert this dataframe to an interactive table.\"\n",
              "              style=\"display:none;\">\n",
              "        \n",
              "  <svg xmlns=\"http://www.w3.org/2000/svg\" height=\"24px\"viewBox=\"0 0 24 24\"\n",
              "       width=\"24px\">\n",
              "    <path d=\"M0 0h24v24H0V0z\" fill=\"none\"/>\n",
              "    <path d=\"M18.56 5.44l.94 2.06.94-2.06 2.06-.94-2.06-.94-.94-2.06-.94 2.06-2.06.94zm-11 1L8.5 8.5l.94-2.06 2.06-.94-2.06-.94L8.5 2.5l-.94 2.06-2.06.94zm10 10l.94 2.06.94-2.06 2.06-.94-2.06-.94-.94-2.06-.94 2.06-2.06.94z\"/><path d=\"M17.41 7.96l-1.37-1.37c-.4-.4-.92-.59-1.43-.59-.52 0-1.04.2-1.43.59L10.3 9.45l-7.72 7.72c-.78.78-.78 2.05 0 2.83L4 21.41c.39.39.9.59 1.41.59.51 0 1.02-.2 1.41-.59l7.78-7.78 2.81-2.81c.8-.78.8-2.07 0-2.86zM5.41 20L4 18.59l7.72-7.72 1.47 1.35L5.41 20z\"/>\n",
              "  </svg>\n",
              "      </button>\n",
              "      \n",
              "  <style>\n",
              "    .colab-df-container {\n",
              "      display:flex;\n",
              "      flex-wrap:wrap;\n",
              "      gap: 12px;\n",
              "    }\n",
              "\n",
              "    .colab-df-convert {\n",
              "      background-color: #E8F0FE;\n",
              "      border: none;\n",
              "      border-radius: 50%;\n",
              "      cursor: pointer;\n",
              "      display: none;\n",
              "      fill: #1967D2;\n",
              "      height: 32px;\n",
              "      padding: 0 0 0 0;\n",
              "      width: 32px;\n",
              "    }\n",
              "\n",
              "    .colab-df-convert:hover {\n",
              "      background-color: #E2EBFA;\n",
              "      box-shadow: 0px 1px 2px rgba(60, 64, 67, 0.3), 0px 1px 3px 1px rgba(60, 64, 67, 0.15);\n",
              "      fill: #174EA6;\n",
              "    }\n",
              "\n",
              "    [theme=dark] .colab-df-convert {\n",
              "      background-color: #3B4455;\n",
              "      fill: #D2E3FC;\n",
              "    }\n",
              "\n",
              "    [theme=dark] .colab-df-convert:hover {\n",
              "      background-color: #434B5C;\n",
              "      box-shadow: 0px 1px 3px 1px rgba(0, 0, 0, 0.15);\n",
              "      filter: drop-shadow(0px 1px 2px rgba(0, 0, 0, 0.3));\n",
              "      fill: #FFFFFF;\n",
              "    }\n",
              "  </style>\n",
              "\n",
              "      <script>\n",
              "        const buttonEl =\n",
              "          document.querySelector('#df-b45b2c58-99e7-4b33-939d-15ce7b86b39b button.colab-df-convert');\n",
              "        buttonEl.style.display =\n",
              "          google.colab.kernel.accessAllowed ? 'block' : 'none';\n",
              "\n",
              "        async function convertToInteractive(key) {\n",
              "          const element = document.querySelector('#df-b45b2c58-99e7-4b33-939d-15ce7b86b39b');\n",
              "          const dataTable =\n",
              "            await google.colab.kernel.invokeFunction('convertToInteractive',\n",
              "                                                     [key], {});\n",
              "          if (!dataTable) return;\n",
              "\n",
              "          const docLinkHtml = 'Like what you see? Visit the ' +\n",
              "            '<a target=\"_blank\" href=https://colab.research.google.com/notebooks/data_table.ipynb>data table notebook</a>'\n",
              "            + ' to learn more about interactive tables.';\n",
              "          element.innerHTML = '';\n",
              "          dataTable['output_type'] = 'display_data';\n",
              "          await google.colab.output.renderOutput(dataTable, element);\n",
              "          const docLink = document.createElement('div');\n",
              "          docLink.innerHTML = docLinkHtml;\n",
              "          element.appendChild(docLink);\n",
              "        }\n",
              "      </script>\n",
              "    </div>\n",
              "  </div>\n",
              "  "
            ]
          },
          "metadata": {},
          "execution_count": 11
        }
      ]
    },
    {
      "cell_type": "code",
      "source": [
        "import math\n",
        "\n",
        "#Split the data\n",
        "\n",
        "training_data_len = math.ceil( len(df_combined) *.8)\n",
        "df_for_training = df_combined.iloc[:training_data_len,:]\n",
        "# target_for_training = df_target.iloc[:training_data_len]\n",
        "df_for_testing = df_combined.iloc[training_data_len:,:]\n",
        "# target_for_testing = df_target.iloc[training_data_len:]\n",
        "\n",
        "#Scale the data\n",
        "scaler = StandardScaler()\n",
        "scaler = scaler.fit(df_for_training)\n",
        "df_combined_training_scaled = scaler.transform(df_for_training)\n",
        "df_combined_training_scaled = pd.DataFrame(df_combined_training_scaled)\n"
      ],
      "metadata": {
        "id": "KtQjmyAOCzkV"
      },
      "execution_count": null,
      "outputs": []
    },
    {
      "cell_type": "code",
      "source": [
        "trainX = []\n",
        "trainY = []\n",
        "n_future = 1  # Number of days we want to predict into the future\n",
        "\n",
        "n_past = 30\n",
        "for i in range(n_past, len(df_combined_training_scaled)):\n",
        "     trainX.append(df_combined_training_scaled.iloc[i - n_past:i, 0:df_for_training.shape[1]])\n",
        "     trainY.append(df_combined_training_scaled.iloc[i,0])\n",
        "\n",
        "trainX, trainY = np.array(trainX), np.array(trainY)\n",
        "print(trainX.shape, trainY.shape)"
      ],
      "metadata": {
        "colab": {
          "base_uri": "https://localhost:8080/"
        },
        "id": "-HWZCqiiFokx",
        "outputId": "70d62b08-f411-4aad-e52e-f7dd0b52a655"
      },
      "execution_count": null,
      "outputs": [
        {
          "output_type": "stream",
          "name": "stdout",
          "text": [
            "(7926, 30, 2) (7926,)\n"
          ]
        }
      ]
    },
    {
      "cell_type": "code",
      "source": [
        "from keras import Model\n",
        "from keras.layers import Layer\n",
        "from keras.layers import Input, Dense\n",
        "import keras.backend as K\n",
        "\n",
        "class attention(Layer):\n",
        "    def __init__(self,**kwargs):\n",
        "        super(attention,self).__init__(**kwargs)\n",
        "\n",
        "    def build(self,input_shape):\n",
        "        self.W=self.add_weight(name='attention_weight', shape=(input_shape[-1],1),\n",
        "                               initializer='random_normal', trainable=True)\n",
        "        self.b=self.add_weight(name='attention_bias', shape=(input_shape[1],1),\n",
        "                               initializer='zeros', trainable=True)\n",
        "        super(attention, self).build(input_shape)\n",
        "\n",
        "    def call(self,x):\n",
        "        # Alignment scores. Pass them through tanh function\n",
        "        e = K.tanh(K.dot(x,self.W)+self.b)\n",
        "        # Remove dimension of size 1\n",
        "        e = K.squeeze(e, axis=-1)\n",
        "        # Compute the weights\n",
        "        alpha = K.softmax(e)\n",
        "        # Reshape to tensorFlow format\n",
        "        alpha = K.expand_dims(alpha, axis=-1)\n",
        "        # Compute the context vector\n",
        "        context = x * alpha\n",
        "        context = K.sum(context, axis=1)\n",
        "        return context"
      ],
      "metadata": {
        "id": "gF3xakNHB5Ri"
      },
      "execution_count": null,
      "outputs": []
    },
    {
      "cell_type": "code",
      "source": [
        "#With 2 layers LSTM1: 100 LSTM2: 50, loss is: Epoch 10/10 (Both have relu activation)\n",
        "# 2316/2316 - 10s - loss: 0.9265 - val_loss: 0.2438 - 10s/epoch - 4ms/step\n",
        "#WIth 1 layer LSTM: 100 Epoch 10/10 (relu activation)\n",
        "# 2316/2316 - 11s - loss: 0.9221 - val_loss: 0.2451 - 11s/epoch - 5ms/step\n",
        "#With 2 layers, LSTM1:100 LSTM2: 50 loss is: Epoch 10/10 (tanh on dense layer)\n",
        "# 2316/2316 - 10s - loss: 0.7187 - val_loss: 0.1549 - 10s/epoch - 4ms/step\n",
        "# With 2 layers, LSTM1: 100 LSTM2: 50 Epoch 10/10 (activation tanh on dense)\n",
        "# 2316/2316 - 8s - loss: 0.7108 - val_loss: 0.1523 - 8s/epoch - 4ms/step"
      ],
      "metadata": {
        "id": "69UuclQDxxga"
      },
      "execution_count": null,
      "outputs": []
    },
    {
      "cell_type": "code",
      "source": [
        "import keras\n",
        "\n",
        "def create_LSTM_with_attention(hidden_units, dense_units):\n",
        "    x=Input(shape=(trainX.shape[1:]))\n",
        "    conv_x = keras.layers.Conv1D(30, 3, activation='relu')(x)\n",
        "    attention_layer = attention()(conv_x)\n",
        "    print(attention_layer.shape, attention_layer)\n",
        "    dropout_lstm = keras.layers.Dropout(.2)(attention_layer)\n",
        "    reshaped_attention = keras.layers.Reshape((30,1), input_shape=(30,))(dropout_lstm)\n",
        "    batchnorm_reshaped_attention = keras.layers.BatchNormalization()(reshaped_attention)\n",
        "    lstm_layer = LSTM(100, return_sequences=True, activation='relu')(batchnorm_reshaped_attention)\n",
        "    lstm_layer = LSTM(50, return_sequences=False, activation='relu')(lstm_layer)\n",
        "    outputs=Dense(1, trainable=True, activation='tanh')(lstm_layer)\n",
        "    model=Model(x,outputs)\n",
        "    model.compile(loss='mse', optimizer='adam')\n",
        "    return model\n",
        "\n",
        "# Create the model with attention, train and evaluate\n",
        "model_attention = create_LSTM_with_attention(hidden_units=100, dense_units=1)\n",
        "\n",
        "model_attention.summary()\n",
        "\n",
        "model_attention.fit(trainX, trainY, epochs=10, batch_size=32, verbose=2, validation_split=0.2)"
      ],
      "metadata": {
        "id": "djKH-2nlAMjc",
        "colab": {
          "base_uri": "https://localhost:8080/"
        },
        "outputId": "6091ea43-2d98-4b9c-b143-718341ebbc5e"
      },
      "execution_count": null,
      "outputs": [
        {
          "output_type": "stream",
          "name": "stdout",
          "text": [
            "(None, 30) KerasTensor(type_spec=TensorSpec(shape=(None, 30), dtype=tf.float32, name=None), name='attention_1/Sum:0', description=\"created by layer 'attention_1'\")\n",
            "Model: \"model_1\"\n",
            "_________________________________________________________________\n",
            " Layer (type)                Output Shape              Param #   \n",
            "=================================================================\n",
            " input_2 (InputLayer)        [(None, 30, 2)]           0         \n",
            "                                                                 \n",
            " conv1d_1 (Conv1D)           (None, 28, 30)            210       \n",
            "                                                                 \n",
            " attention_1 (attention)     (None, 30)                58        \n",
            "                                                                 \n",
            " dropout_1 (Dropout)         (None, 30)                0         \n",
            "                                                                 \n",
            " reshape_1 (Reshape)         (None, 30, 1)             0         \n",
            "                                                                 \n",
            " batch_normalization_1 (Batc  (None, 30, 1)            4         \n",
            " hNormalization)                                                 \n",
            "                                                                 \n",
            " lstm_2 (LSTM)               (None, 30, 100)           40800     \n",
            "                                                                 \n",
            " lstm_3 (LSTM)               (None, 50)                30200     \n",
            "                                                                 \n",
            " dense_1 (Dense)             (None, 1)                 51        \n",
            "                                                                 \n",
            "=================================================================\n",
            "Total params: 71,323\n",
            "Trainable params: 71,321\n",
            "Non-trainable params: 2\n",
            "_________________________________________________________________\n",
            "Epoch 1/10\n",
            "199/199 - 18s - loss: 1.0650 - val_loss: 0.6798 - 18s/epoch - 90ms/step\n",
            "Epoch 2/10\n",
            "199/199 - 10s - loss: 1.0368 - val_loss: 0.6874 - 10s/epoch - 51ms/step\n",
            "Epoch 3/10\n",
            "199/199 - 9s - loss: 0.9890 - val_loss: 0.5973 - 9s/epoch - 44ms/step\n",
            "Epoch 4/10\n",
            "199/199 - 10s - loss: 0.8418 - val_loss: 0.5801 - 10s/epoch - 50ms/step\n",
            "Epoch 5/10\n",
            "199/199 - 10s - loss: 0.7889 - val_loss: 0.6786 - 10s/epoch - 50ms/step\n",
            "Epoch 6/10\n",
            "199/199 - 10s - loss: 0.7911 - val_loss: 0.5164 - 10s/epoch - 51ms/step\n",
            "Epoch 7/10\n",
            "199/199 - 9s - loss: 0.7554 - val_loss: 0.4870 - 9s/epoch - 44ms/step\n",
            "Epoch 8/10\n",
            "199/199 - 10s - loss: 0.7553 - val_loss: 0.5160 - 10s/epoch - 50ms/step\n",
            "Epoch 9/10\n",
            "199/199 - 10s - loss: 0.7515 - val_loss: 0.4988 - 10s/epoch - 51ms/step\n",
            "Epoch 10/10\n",
            "199/199 - 10s - loss: 0.7415 - val_loss: 0.5162 - 10s/epoch - 51ms/step\n"
          ]
        },
        {
          "output_type": "execute_result",
          "data": {
            "text/plain": [
              "<keras.callbacks.History at 0x7f81117022c0>"
            ]
          },
          "metadata": {},
          "execution_count": 17
        }
      ]
    },
    {
      "cell_type": "code",
      "source": [
        "# def create_LSTM_with_attention(hidden_units, dense_units):\n",
        "#     x=Input(shape=(trainX.shape[1:]))\n",
        "#     lstm_layer = LSTM(hidden_units, return_sequences=True, activation='relu')(x)\n",
        "#     attention_layer = attention()(lstm_layer)\n",
        "#     outputs=Dense(1, trainable=True, activation='tanh')(attention_layer)\n",
        "#     model=Model(x,outputs)\n",
        "#     model.compile(loss='mse', optimizer='adam')\n",
        "#     return model\n",
        "\n",
        "# # Create the model with attention, train and evaluate\n",
        "# model_attention = create_LSTM_with_attention(hidden_units=100, dense_units=1)\n",
        "\n",
        "# model_attention.summary()\n",
        "\n",
        "# model_attention.fit(trainX, trainY, epochs=20, batch_size=32, verbose=2, validation_split=0.2)"
      ],
      "metadata": {
        "id": "IPXnkDzNKyI1"
      },
      "execution_count": null,
      "outputs": []
    },
    {
      "cell_type": "code",
      "source": [
        "df_combined_testing_scaled = scaler.transform(df_for_testing)\n",
        "df_combined_testing_scaled = pd.DataFrame(df_combined_testing_scaled)\n"
      ],
      "metadata": {
        "id": "7zNY33pRtKi8"
      },
      "execution_count": null,
      "outputs": []
    },
    {
      "cell_type": "code",
      "source": [
        "testX = []\n",
        "testY = []\n",
        "n_future = 1  # Number of days we want to predict into the future\n",
        "\n",
        "n_past = 30\n",
        "for i in range(n_past, len(df_combined_testing_scaled)):\n",
        "     testX.append(df_combined_testing_scaled.iloc[i - n_past:i, 0:df_for_testing.shape[1]])\n",
        "     testY.append(df_combined_testing_scaled.iloc[i,0])\n",
        "\n",
        "testX, testY = np.array(testX), np.array(testY)\n",
        "print(testX.shape, testY.shape)"
      ],
      "metadata": {
        "colab": {
          "base_uri": "https://localhost:8080/"
        },
        "id": "Ud0x-QsrtHWw",
        "outputId": "5dbed263-a744-4a5d-e2a6-7c104861d63c"
      },
      "execution_count": null,
      "outputs": [
        {
          "output_type": "stream",
          "name": "stdout",
          "text": [
            "(1959, 30, 2) (1959,)\n"
          ]
        }
      ]
    },
    {
      "cell_type": "code",
      "source": [
        "import matplotlib.pyplot as plt\n",
        "\n",
        "pred = model_attention.predict(testX)\n",
        "\n",
        "plt.plot(pred[:150])\n",
        "plt.plot(testY[:150])"
      ],
      "metadata": {
        "colab": {
          "base_uri": "https://localhost:8080/",
          "height": 469
        },
        "id": "1gfYNbSVrHBF",
        "outputId": "6c8c2d06-444c-4061-9f1e-b992b9374976"
      },
      "execution_count": null,
      "outputs": [
        {
          "output_type": "stream",
          "name": "stdout",
          "text": [
            "62/62 [==============================] - 1s 15ms/step\n"
          ]
        },
        {
          "output_type": "execute_result",
          "data": {
            "text/plain": [
              "[<matplotlib.lines.Line2D at 0x7f80ff343df0>]"
            ]
          },
          "metadata": {},
          "execution_count": 21
        },
        {
          "output_type": "display_data",
          "data": {
            "text/plain": [
              "<Figure size 640x480 with 1 Axes>"
            ],
            "image/png": "[encoded data removed]"
          },
          "metadata": {}
        }
      ]
    },
    {
      "cell_type": "code",
      "source": [
        "model_attention.evaluate(testX, testY)"
      ],
      "metadata": {
        "colab": {
          "base_uri": "https://localhost:8080/"
        },
        "id": "G0PX94sU5sBG",
        "outputId": "1f6165ca-ba5c-440b-95f7-c151b4eb1af2"
      },
      "execution_count": null,
      "outputs": [
        {
          "output_type": "stream",
          "name": "stdout",
          "text": [
            "62/62 [==============================] - 1s 16ms/step - loss: 0.3907\n"
          ]
        },
        {
          "output_type": "execute_result",
          "data": {
            "text/plain": [
              "0.39073294401168823"
            ]
          },
          "metadata": {},
          "execution_count": 22
        }
      ]
    },
    {
      "cell_type": "code",
      "source": [],
      "metadata": {
        "id": "96K-Rii07ioM"
      },
      "execution_count": null,
      "outputs": []
    }
  ]
}